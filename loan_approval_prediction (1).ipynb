{
  "cells": [
    {
      "cell_type": "markdown",
      "id": "5dc3539c",
      "metadata": {
        "id": "5dc3539c",
        "papermill": {
          "duration": 0.028702,
          "end_time": "2023-03-17T06:24:10.494740",
          "exception": false,
          "start_time": "2023-03-17T06:24:10.466038",
          "status": "completed"
        },
        "tags": []
      },
      "source": [
        "# Importing Libraries\n"
      ]
    },
    {
      "cell_type": "code",
      "execution_count": null,
      "id": "bc2c356b",
      "metadata": {
        "execution": {
          "iopub.execute_input": "2023-03-17T06:24:10.553043Z",
          "iopub.status.busy": "2023-03-17T06:24:10.551773Z",
          "iopub.status.idle": "2023-03-17T06:24:12.318183Z",
          "shell.execute_reply": "2023-03-17T06:24:12.316911Z"
        },
        "id": "bc2c356b",
        "papermill": {
          "duration": 1.798149,
          "end_time": "2023-03-17T06:24:12.321071",
          "exception": false,
          "start_time": "2023-03-17T06:24:10.522922",
          "status": "completed"
        },
        "tags": []
      },
      "outputs": [],
      "source": [
        "import numpy as np\n",
        "import pandas as pd\n",
        "import matplotlib.pyplot as plt\n",
        "import missingno as mso\n",
        "import seaborn as sns\n",
        "import warnings\n",
        "warnings.filterwarnings('ignore')\n",
        "import os\n",
        "import scipy\n",
        "\n",
        "from scipy import stats\n",
        "from scipy.stats import pearsonr\n",
        "from scipy.stats import ttest_ind\n",
        "from sklearn.metrics import classification_report\n",
        "from sklearn.metrics import confusion_matrix\n",
        "from sklearn.preprocessing import MinMaxScaler\n",
        "from sklearn.model_selection import train_test_split\n",
        "from imblearn.over_sampling import SMOTE\n",
        "\n",
        "from sklearn.linear_model import LogisticRegression\n",
        "from sklearn.neighbors import KNeighborsClassifier\n",
        "from sklearn.tree import DecisionTreeClassifier\n",
        "from sklearn.ensemble import RandomForestClassifier\n",
        "from sklearn.ensemble import GradientBoostingClassifier\n",
        "from xgboost import XGBClassifier\n",
        "from sklearn.model_selection import GridSearchCV, RandomizedSearchCV"
      ]
    },
    {
      "cell_type": "markdown",
      "id": "ba82ca12",
      "metadata": {
        "id": "ba82ca12",
        "papermill": {
          "duration": 0.025655,
          "end_time": "2023-03-17T06:24:12.372877",
          "exception": false,
          "start_time": "2023-03-17T06:24:12.347222",
          "status": "completed"
        },
        "tags": []
      },
      "source": [
        "# Importing the data set\n"
      ]
    },
    {
      "cell_type": "code",
      "execution_count": null,
      "id": "ea7bc5d7",
      "metadata": {
        "execution": {
          "iopub.execute_input": "2023-03-17T06:24:12.426679Z",
          "iopub.status.busy": "2023-03-17T06:24:12.426246Z",
          "iopub.status.idle": "2023-03-17T06:24:12.461671Z",
          "shell.execute_reply": "2023-03-17T06:24:12.460250Z"
        },
        "id": "ea7bc5d7",
        "papermill": {
          "duration": 0.065479,
          "end_time": "2023-03-17T06:24:12.464558",
          "exception": false,
          "start_time": "2023-03-17T06:24:12.399079",
          "status": "completed"
        },
        "tags": []
      },
      "outputs": [],
      "source": [
        "train = pd.read_csv(\"/content/loan_train.csv\")\n",
        "test = pd.read_csv(\"/content/loan_test.csv\")"
      ]
    },
    {
      "cell_type": "code",
      "execution_count": null,
      "id": "a00be41a",
      "metadata": {
        "execution": {
          "iopub.execute_input": "2023-03-17T06:24:12.518984Z",
          "iopub.status.busy": "2023-03-17T06:24:12.518541Z",
          "iopub.status.idle": "2023-03-17T06:24:12.551127Z",
          "shell.execute_reply": "2023-03-17T06:24:12.549990Z"
        },
        "id": "a00be41a",
        "outputId": "467c3892-ddca-4e7a-e42b-b8400ea7dce3",
        "papermill": {
          "duration": 0.062645,
          "end_time": "2023-03-17T06:24:12.553711",
          "exception": false,
          "start_time": "2023-03-17T06:24:12.491066",
          "status": "completed"
        },
        "tags": [],
        "colab": {
          "base_uri": "https://localhost:8080/",
          "height": 243
        }
      },
      "outputs": [
        {
          "output_type": "execute_result",
          "data": {
            "text/plain": [
              "  Gender Married Dependents     Education Self_Employed  Applicant_Income  \\\n",
              "0   Male      No          0      Graduate            No            584900   \n",
              "1   Male     Yes          1      Graduate            No            458300   \n",
              "2   Male     Yes          0      Graduate           Yes            300000   \n",
              "3   Male     Yes          0  Not Graduate            No            258300   \n",
              "4   Male      No          0      Graduate            No            600000   \n",
              "\n",
              "   Coapplicant_Income  Loan_Amount   Term  Credit_History   Area Status  \n",
              "0                 0.0     15000000  360.0             1.0  Urban      Y  \n",
              "1            150800.0     12800000  360.0             1.0  Rural      N  \n",
              "2                 0.0      6600000  360.0             1.0  Urban      Y  \n",
              "3            235800.0     12000000  360.0             1.0  Urban      Y  \n",
              "4                 0.0     14100000  360.0             1.0  Urban      Y  "
            ],
            "text/html": [
              "\n",
              "  <div id=\"df-056fab94-1d29-4e99-a93d-a0d80d6a4442\" class=\"colab-df-container\">\n",
              "    <div>\n",
              "<style scoped>\n",
              "    .dataframe tbody tr th:only-of-type {\n",
              "        vertical-align: middle;\n",
              "    }\n",
              "\n",
              "    .dataframe tbody tr th {\n",
              "        vertical-align: top;\n",
              "    }\n",
              "\n",
              "    .dataframe thead th {\n",
              "        text-align: right;\n",
              "    }\n",
              "</style>\n",
              "<table border=\"1\" class=\"dataframe\">\n",
              "  <thead>\n",
              "    <tr style=\"text-align: right;\">\n",
              "      <th></th>\n",
              "      <th>Gender</th>\n",
              "      <th>Married</th>\n",
              "      <th>Dependents</th>\n",
              "      <th>Education</th>\n",
              "      <th>Self_Employed</th>\n",
              "      <th>Applicant_Income</th>\n",
              "      <th>Coapplicant_Income</th>\n",
              "      <th>Loan_Amount</th>\n",
              "      <th>Term</th>\n",
              "      <th>Credit_History</th>\n",
              "      <th>Area</th>\n",
              "      <th>Status</th>\n",
              "    </tr>\n",
              "  </thead>\n",
              "  <tbody>\n",
              "    <tr>\n",
              "      <th>0</th>\n",
              "      <td>Male</td>\n",
              "      <td>No</td>\n",
              "      <td>0</td>\n",
              "      <td>Graduate</td>\n",
              "      <td>No</td>\n",
              "      <td>584900</td>\n",
              "      <td>0.0</td>\n",
              "      <td>15000000</td>\n",
              "      <td>360.0</td>\n",
              "      <td>1.0</td>\n",
              "      <td>Urban</td>\n",
              "      <td>Y</td>\n",
              "    </tr>\n",
              "    <tr>\n",
              "      <th>1</th>\n",
              "      <td>Male</td>\n",
              "      <td>Yes</td>\n",
              "      <td>1</td>\n",
              "      <td>Graduate</td>\n",
              "      <td>No</td>\n",
              "      <td>458300</td>\n",
              "      <td>150800.0</td>\n",
              "      <td>12800000</td>\n",
              "      <td>360.0</td>\n",
              "      <td>1.0</td>\n",
              "      <td>Rural</td>\n",
              "      <td>N</td>\n",
              "    </tr>\n",
              "    <tr>\n",
              "      <th>2</th>\n",
              "      <td>Male</td>\n",
              "      <td>Yes</td>\n",
              "      <td>0</td>\n",
              "      <td>Graduate</td>\n",
              "      <td>Yes</td>\n",
              "      <td>300000</td>\n",
              "      <td>0.0</td>\n",
              "      <td>6600000</td>\n",
              "      <td>360.0</td>\n",
              "      <td>1.0</td>\n",
              "      <td>Urban</td>\n",
              "      <td>Y</td>\n",
              "    </tr>\n",
              "    <tr>\n",
              "      <th>3</th>\n",
              "      <td>Male</td>\n",
              "      <td>Yes</td>\n",
              "      <td>0</td>\n",
              "      <td>Not Graduate</td>\n",
              "      <td>No</td>\n",
              "      <td>258300</td>\n",
              "      <td>235800.0</td>\n",
              "      <td>12000000</td>\n",
              "      <td>360.0</td>\n",
              "      <td>1.0</td>\n",
              "      <td>Urban</td>\n",
              "      <td>Y</td>\n",
              "    </tr>\n",
              "    <tr>\n",
              "      <th>4</th>\n",
              "      <td>Male</td>\n",
              "      <td>No</td>\n",
              "      <td>0</td>\n",
              "      <td>Graduate</td>\n",
              "      <td>No</td>\n",
              "      <td>600000</td>\n",
              "      <td>0.0</td>\n",
              "      <td>14100000</td>\n",
              "      <td>360.0</td>\n",
              "      <td>1.0</td>\n",
              "      <td>Urban</td>\n",
              "      <td>Y</td>\n",
              "    </tr>\n",
              "  </tbody>\n",
              "</table>\n",
              "</div>\n",
              "    <div class=\"colab-df-buttons\">\n",
              "\n",
              "  <div class=\"colab-df-container\">\n",
              "    <button class=\"colab-df-convert\" onclick=\"convertToInteractive('df-056fab94-1d29-4e99-a93d-a0d80d6a4442')\"\n",
              "            title=\"Convert this dataframe to an interactive table.\"\n",
              "            style=\"display:none;\">\n",
              "\n",
              "  <svg xmlns=\"http://www.w3.org/2000/svg\" height=\"24px\" viewBox=\"0 -960 960 960\">\n",
              "    <path d=\"M120-120v-720h720v720H120Zm60-500h600v-160H180v160Zm220 220h160v-160H400v160Zm0 220h160v-160H400v160ZM180-400h160v-160H180v160Zm440 0h160v-160H620v160ZM180-180h160v-160H180v160Zm440 0h160v-160H620v160Z\"/>\n",
              "  </svg>\n",
              "    </button>\n",
              "\n",
              "  <style>\n",
              "    .colab-df-container {\n",
              "      display:flex;\n",
              "      gap: 12px;\n",
              "    }\n",
              "\n",
              "    .colab-df-convert {\n",
              "      background-color: #E8F0FE;\n",
              "      border: none;\n",
              "      border-radius: 50%;\n",
              "      cursor: pointer;\n",
              "      display: none;\n",
              "      fill: #1967D2;\n",
              "      height: 32px;\n",
              "      padding: 0 0 0 0;\n",
              "      width: 32px;\n",
              "    }\n",
              "\n",
              "    .colab-df-convert:hover {\n",
              "      background-color: #E2EBFA;\n",
              "      box-shadow: 0px 1px 2px rgba(60, 64, 67, 0.3), 0px 1px 3px 1px rgba(60, 64, 67, 0.15);\n",
              "      fill: #174EA6;\n",
              "    }\n",
              "\n",
              "    .colab-df-buttons div {\n",
              "      margin-bottom: 4px;\n",
              "    }\n",
              "\n",
              "    [theme=dark] .colab-df-convert {\n",
              "      background-color: #3B4455;\n",
              "      fill: #D2E3FC;\n",
              "    }\n",
              "\n",
              "    [theme=dark] .colab-df-convert:hover {\n",
              "      background-color: #434B5C;\n",
              "      box-shadow: 0px 1px 3px 1px rgba(0, 0, 0, 0.15);\n",
              "      filter: drop-shadow(0px 1px 2px rgba(0, 0, 0, 0.3));\n",
              "      fill: #FFFFFF;\n",
              "    }\n",
              "  </style>\n",
              "\n",
              "    <script>\n",
              "      const buttonEl =\n",
              "        document.querySelector('#df-056fab94-1d29-4e99-a93d-a0d80d6a4442 button.colab-df-convert');\n",
              "      buttonEl.style.display =\n",
              "        google.colab.kernel.accessAllowed ? 'block' : 'none';\n",
              "\n",
              "      async function convertToInteractive(key) {\n",
              "        const element = document.querySelector('#df-056fab94-1d29-4e99-a93d-a0d80d6a4442');\n",
              "        const dataTable =\n",
              "          await google.colab.kernel.invokeFunction('convertToInteractive',\n",
              "                                                    [key], {});\n",
              "        if (!dataTable) return;\n",
              "\n",
              "        const docLinkHtml = 'Like what you see? Visit the ' +\n",
              "          '<a target=\"_blank\" href=https://colab.research.google.com/notebooks/data_table.ipynb>data table notebook</a>'\n",
              "          + ' to learn more about interactive tables.';\n",
              "        element.innerHTML = '';\n",
              "        dataTable['output_type'] = 'display_data';\n",
              "        await google.colab.output.renderOutput(dataTable, element);\n",
              "        const docLink = document.createElement('div');\n",
              "        docLink.innerHTML = docLinkHtml;\n",
              "        element.appendChild(docLink);\n",
              "      }\n",
              "    </script>\n",
              "  </div>\n",
              "\n",
              "\n",
              "<div id=\"df-317d6f3f-6f54-4713-8da1-92f7a1259867\">\n",
              "  <button class=\"colab-df-quickchart\" onclick=\"quickchart('df-317d6f3f-6f54-4713-8da1-92f7a1259867')\"\n",
              "            title=\"Suggest charts\"\n",
              "            style=\"display:none;\">\n",
              "\n",
              "<svg xmlns=\"http://www.w3.org/2000/svg\" height=\"24px\"viewBox=\"0 0 24 24\"\n",
              "     width=\"24px\">\n",
              "    <g>\n",
              "        <path d=\"M19 3H5c-1.1 0-2 .9-2 2v14c0 1.1.9 2 2 2h14c1.1 0 2-.9 2-2V5c0-1.1-.9-2-2-2zM9 17H7v-7h2v7zm4 0h-2V7h2v10zm4 0h-2v-4h2v4z\"/>\n",
              "    </g>\n",
              "</svg>\n",
              "  </button>\n",
              "\n",
              "<style>\n",
              "  .colab-df-quickchart {\n",
              "      --bg-color: #E8F0FE;\n",
              "      --fill-color: #1967D2;\n",
              "      --hover-bg-color: #E2EBFA;\n",
              "      --hover-fill-color: #174EA6;\n",
              "      --disabled-fill-color: #AAA;\n",
              "      --disabled-bg-color: #DDD;\n",
              "  }\n",
              "\n",
              "  [theme=dark] .colab-df-quickchart {\n",
              "      --bg-color: #3B4455;\n",
              "      --fill-color: #D2E3FC;\n",
              "      --hover-bg-color: #434B5C;\n",
              "      --hover-fill-color: #FFFFFF;\n",
              "      --disabled-bg-color: #3B4455;\n",
              "      --disabled-fill-color: #666;\n",
              "  }\n",
              "\n",
              "  .colab-df-quickchart {\n",
              "    background-color: var(--bg-color);\n",
              "    border: none;\n",
              "    border-radius: 50%;\n",
              "    cursor: pointer;\n",
              "    display: none;\n",
              "    fill: var(--fill-color);\n",
              "    height: 32px;\n",
              "    padding: 0;\n",
              "    width: 32px;\n",
              "  }\n",
              "\n",
              "  .colab-df-quickchart:hover {\n",
              "    background-color: var(--hover-bg-color);\n",
              "    box-shadow: 0 1px 2px rgba(60, 64, 67, 0.3), 0 1px 3px 1px rgba(60, 64, 67, 0.15);\n",
              "    fill: var(--button-hover-fill-color);\n",
              "  }\n",
              "\n",
              "  .colab-df-quickchart-complete:disabled,\n",
              "  .colab-df-quickchart-complete:disabled:hover {\n",
              "    background-color: var(--disabled-bg-color);\n",
              "    fill: var(--disabled-fill-color);\n",
              "    box-shadow: none;\n",
              "  }\n",
              "\n",
              "  .colab-df-spinner {\n",
              "    border: 2px solid var(--fill-color);\n",
              "    border-color: transparent;\n",
              "    border-bottom-color: var(--fill-color);\n",
              "    animation:\n",
              "      spin 1s steps(1) infinite;\n",
              "  }\n",
              "\n",
              "  @keyframes spin {\n",
              "    0% {\n",
              "      border-color: transparent;\n",
              "      border-bottom-color: var(--fill-color);\n",
              "      border-left-color: var(--fill-color);\n",
              "    }\n",
              "    20% {\n",
              "      border-color: transparent;\n",
              "      border-left-color: var(--fill-color);\n",
              "      border-top-color: var(--fill-color);\n",
              "    }\n",
              "    30% {\n",
              "      border-color: transparent;\n",
              "      border-left-color: var(--fill-color);\n",
              "      border-top-color: var(--fill-color);\n",
              "      border-right-color: var(--fill-color);\n",
              "    }\n",
              "    40% {\n",
              "      border-color: transparent;\n",
              "      border-right-color: var(--fill-color);\n",
              "      border-top-color: var(--fill-color);\n",
              "    }\n",
              "    60% {\n",
              "      border-color: transparent;\n",
              "      border-right-color: var(--fill-color);\n",
              "    }\n",
              "    80% {\n",
              "      border-color: transparent;\n",
              "      border-right-color: var(--fill-color);\n",
              "      border-bottom-color: var(--fill-color);\n",
              "    }\n",
              "    90% {\n",
              "      border-color: transparent;\n",
              "      border-bottom-color: var(--fill-color);\n",
              "    }\n",
              "  }\n",
              "</style>\n",
              "\n",
              "  <script>\n",
              "    async function quickchart(key) {\n",
              "      const quickchartButtonEl =\n",
              "        document.querySelector('#' + key + ' button');\n",
              "      quickchartButtonEl.disabled = true;  // To prevent multiple clicks.\n",
              "      quickchartButtonEl.classList.add('colab-df-spinner');\n",
              "      try {\n",
              "        const charts = await google.colab.kernel.invokeFunction(\n",
              "            'suggestCharts', [key], {});\n",
              "      } catch (error) {\n",
              "        console.error('Error during call to suggestCharts:', error);\n",
              "      }\n",
              "      quickchartButtonEl.classList.remove('colab-df-spinner');\n",
              "      quickchartButtonEl.classList.add('colab-df-quickchart-complete');\n",
              "    }\n",
              "    (() => {\n",
              "      let quickchartButtonEl =\n",
              "        document.querySelector('#df-317d6f3f-6f54-4713-8da1-92f7a1259867 button');\n",
              "      quickchartButtonEl.style.display =\n",
              "        google.colab.kernel.accessAllowed ? 'block' : 'none';\n",
              "    })();\n",
              "  </script>\n",
              "</div>\n",
              "\n",
              "    </div>\n",
              "  </div>\n"
            ],
            "application/vnd.google.colaboratory.intrinsic+json": {
              "type": "dataframe",
              "variable_name": "train",
              "summary": "{\n  \"name\": \"train\",\n  \"rows\": 614,\n  \"fields\": [\n    {\n      \"column\": \"Gender\",\n      \"properties\": {\n        \"dtype\": \"category\",\n        \"num_unique_values\": 2,\n        \"samples\": [\n          \"Female\",\n          \"Male\"\n        ],\n        \"semantic_type\": \"\",\n        \"description\": \"\"\n      }\n    },\n    {\n      \"column\": \"Married\",\n      \"properties\": {\n        \"dtype\": \"category\",\n        \"num_unique_values\": 2,\n        \"samples\": [\n          \"Yes\",\n          \"No\"\n        ],\n        \"semantic_type\": \"\",\n        \"description\": \"\"\n      }\n    },\n    {\n      \"column\": \"Dependents\",\n      \"properties\": {\n        \"dtype\": \"category\",\n        \"num_unique_values\": 4,\n        \"samples\": [\n          \"1\",\n          \"3+\"\n        ],\n        \"semantic_type\": \"\",\n        \"description\": \"\"\n      }\n    },\n    {\n      \"column\": \"Education\",\n      \"properties\": {\n        \"dtype\": \"category\",\n        \"num_unique_values\": 2,\n        \"samples\": [\n          \"Not Graduate\",\n          \"Graduate\"\n        ],\n        \"semantic_type\": \"\",\n        \"description\": \"\"\n      }\n    },\n    {\n      \"column\": \"Self_Employed\",\n      \"properties\": {\n        \"dtype\": \"category\",\n        \"num_unique_values\": 2,\n        \"samples\": [\n          \"Yes\",\n          \"No\"\n        ],\n        \"semantic_type\": \"\",\n        \"description\": \"\"\n      }\n    },\n    {\n      \"column\": \"Applicant_Income\",\n      \"properties\": {\n        \"dtype\": \"number\",\n        \"std\": 610904,\n        \"min\": 15000,\n        \"max\": 8100000,\n        \"num_unique_values\": 505,\n        \"samples\": [\n          833300,\n          434200\n        ],\n        \"semantic_type\": \"\",\n        \"description\": \"\"\n      }\n    },\n    {\n      \"column\": \"Coapplicant_Income\",\n      \"properties\": {\n        \"dtype\": \"number\",\n        \"std\": 292624.8369224189,\n        \"min\": 0.0,\n        \"max\": 4166700.0,\n        \"num_unique_values\": 287,\n        \"samples\": [\n          184000.0,\n          204200.0\n        ],\n        \"semantic_type\": \"\",\n        \"description\": \"\"\n      }\n    },\n    {\n      \"column\": \"Loan_Amount\",\n      \"properties\": {\n        \"dtype\": \"number\",\n        \"std\": 8815682,\n        \"min\": 0,\n        \"max\": 70000000,\n        \"num_unique_values\": 204,\n        \"samples\": [\n          12500000,\n          34900000\n        ],\n        \"semantic_type\": \"\",\n        \"description\": \"\"\n      }\n    },\n    {\n      \"column\": \"Term\",\n      \"properties\": {\n        \"dtype\": \"number\",\n        \"std\": 65.12040985461256,\n        \"min\": 12.0,\n        \"max\": 480.0,\n        \"num_unique_values\": 10,\n        \"samples\": [\n          84.0,\n          120.0\n        ],\n        \"semantic_type\": \"\",\n        \"description\": \"\"\n      }\n    },\n    {\n      \"column\": \"Credit_History\",\n      \"properties\": {\n        \"dtype\": \"number\",\n        \"std\": 0.3648783192364048,\n        \"min\": 0.0,\n        \"max\": 1.0,\n        \"num_unique_values\": 2,\n        \"samples\": [\n          0.0,\n          1.0\n        ],\n        \"semantic_type\": \"\",\n        \"description\": \"\"\n      }\n    },\n    {\n      \"column\": \"Area\",\n      \"properties\": {\n        \"dtype\": \"category\",\n        \"num_unique_values\": 3,\n        \"samples\": [\n          \"Urban\",\n          \"Rural\"\n        ],\n        \"semantic_type\": \"\",\n        \"description\": \"\"\n      }\n    },\n    {\n      \"column\": \"Status\",\n      \"properties\": {\n        \"dtype\": \"category\",\n        \"num_unique_values\": 2,\n        \"samples\": [\n          \"N\",\n          \"Y\"\n        ],\n        \"semantic_type\": \"\",\n        \"description\": \"\"\n      }\n    }\n  ]\n}"
            }
          },
          "metadata": {},
          "execution_count": 3
        }
      ],
      "source": [
        "train.head()"
      ]
    },
    {
      "cell_type": "code",
      "execution_count": null,
      "id": "3472c5c7",
      "metadata": {
        "execution": {
          "iopub.execute_input": "2023-03-17T06:24:12.608667Z",
          "iopub.status.busy": "2023-03-17T06:24:12.608239Z",
          "iopub.status.idle": "2023-03-17T06:24:12.625756Z",
          "shell.execute_reply": "2023-03-17T06:24:12.624400Z"
        },
        "id": "3472c5c7",
        "outputId": "12faecbb-4804-4afa-b285-12e2c455000b",
        "papermill": {
          "duration": 0.048313,
          "end_time": "2023-03-17T06:24:12.628382",
          "exception": false,
          "start_time": "2023-03-17T06:24:12.580069",
          "status": "completed"
        },
        "tags": [],
        "colab": {
          "base_uri": "https://localhost:8080/",
          "height": 243
        }
      },
      "outputs": [
        {
          "output_type": "execute_result",
          "data": {
            "text/plain": [
              "  Gender Married Dependents     Education Self_Employed  Applicant_Income  \\\n",
              "0   Male     Yes          0      Graduate            No            572000   \n",
              "1   Male     Yes          1      Graduate            No            307600   \n",
              "2   Male     Yes          2      Graduate            No            500000   \n",
              "3   Male     Yes          2      Graduate            No            234000   \n",
              "4   Male      No          0  Not Graduate            No            327600   \n",
              "\n",
              "   Coapplicant_Income  Loan_Amount   Term  Credit_History   Area  \n",
              "0                   0     11000000  360.0             1.0  Urban  \n",
              "1              150000     12600000  360.0             1.0  Urban  \n",
              "2              180000     20800000  360.0             1.0  Urban  \n",
              "3              254600     10000000  360.0             NaN  Urban  \n",
              "4                   0      7800000  360.0             1.0  Urban  "
            ],
            "text/html": [
              "\n",
              "  <div id=\"df-1ad0614b-0248-4142-9e11-9a12be27f231\" class=\"colab-df-container\">\n",
              "    <div>\n",
              "<style scoped>\n",
              "    .dataframe tbody tr th:only-of-type {\n",
              "        vertical-align: middle;\n",
              "    }\n",
              "\n",
              "    .dataframe tbody tr th {\n",
              "        vertical-align: top;\n",
              "    }\n",
              "\n",
              "    .dataframe thead th {\n",
              "        text-align: right;\n",
              "    }\n",
              "</style>\n",
              "<table border=\"1\" class=\"dataframe\">\n",
              "  <thead>\n",
              "    <tr style=\"text-align: right;\">\n",
              "      <th></th>\n",
              "      <th>Gender</th>\n",
              "      <th>Married</th>\n",
              "      <th>Dependents</th>\n",
              "      <th>Education</th>\n",
              "      <th>Self_Employed</th>\n",
              "      <th>Applicant_Income</th>\n",
              "      <th>Coapplicant_Income</th>\n",
              "      <th>Loan_Amount</th>\n",
              "      <th>Term</th>\n",
              "      <th>Credit_History</th>\n",
              "      <th>Area</th>\n",
              "    </tr>\n",
              "  </thead>\n",
              "  <tbody>\n",
              "    <tr>\n",
              "      <th>0</th>\n",
              "      <td>Male</td>\n",
              "      <td>Yes</td>\n",
              "      <td>0</td>\n",
              "      <td>Graduate</td>\n",
              "      <td>No</td>\n",
              "      <td>572000</td>\n",
              "      <td>0</td>\n",
              "      <td>11000000</td>\n",
              "      <td>360.0</td>\n",
              "      <td>1.0</td>\n",
              "      <td>Urban</td>\n",
              "    </tr>\n",
              "    <tr>\n",
              "      <th>1</th>\n",
              "      <td>Male</td>\n",
              "      <td>Yes</td>\n",
              "      <td>1</td>\n",
              "      <td>Graduate</td>\n",
              "      <td>No</td>\n",
              "      <td>307600</td>\n",
              "      <td>150000</td>\n",
              "      <td>12600000</td>\n",
              "      <td>360.0</td>\n",
              "      <td>1.0</td>\n",
              "      <td>Urban</td>\n",
              "    </tr>\n",
              "    <tr>\n",
              "      <th>2</th>\n",
              "      <td>Male</td>\n",
              "      <td>Yes</td>\n",
              "      <td>2</td>\n",
              "      <td>Graduate</td>\n",
              "      <td>No</td>\n",
              "      <td>500000</td>\n",
              "      <td>180000</td>\n",
              "      <td>20800000</td>\n",
              "      <td>360.0</td>\n",
              "      <td>1.0</td>\n",
              "      <td>Urban</td>\n",
              "    </tr>\n",
              "    <tr>\n",
              "      <th>3</th>\n",
              "      <td>Male</td>\n",
              "      <td>Yes</td>\n",
              "      <td>2</td>\n",
              "      <td>Graduate</td>\n",
              "      <td>No</td>\n",
              "      <td>234000</td>\n",
              "      <td>254600</td>\n",
              "      <td>10000000</td>\n",
              "      <td>360.0</td>\n",
              "      <td>NaN</td>\n",
              "      <td>Urban</td>\n",
              "    </tr>\n",
              "    <tr>\n",
              "      <th>4</th>\n",
              "      <td>Male</td>\n",
              "      <td>No</td>\n",
              "      <td>0</td>\n",
              "      <td>Not Graduate</td>\n",
              "      <td>No</td>\n",
              "      <td>327600</td>\n",
              "      <td>0</td>\n",
              "      <td>7800000</td>\n",
              "      <td>360.0</td>\n",
              "      <td>1.0</td>\n",
              "      <td>Urban</td>\n",
              "    </tr>\n",
              "  </tbody>\n",
              "</table>\n",
              "</div>\n",
              "    <div class=\"colab-df-buttons\">\n",
              "\n",
              "  <div class=\"colab-df-container\">\n",
              "    <button class=\"colab-df-convert\" onclick=\"convertToInteractive('df-1ad0614b-0248-4142-9e11-9a12be27f231')\"\n",
              "            title=\"Convert this dataframe to an interactive table.\"\n",
              "            style=\"display:none;\">\n",
              "\n",
              "  <svg xmlns=\"http://www.w3.org/2000/svg\" height=\"24px\" viewBox=\"0 -960 960 960\">\n",
              "    <path d=\"M120-120v-720h720v720H120Zm60-500h600v-160H180v160Zm220 220h160v-160H400v160Zm0 220h160v-160H400v160ZM180-400h160v-160H180v160Zm440 0h160v-160H620v160ZM180-180h160v-160H180v160Zm440 0h160v-160H620v160Z\"/>\n",
              "  </svg>\n",
              "    </button>\n",
              "\n",
              "  <style>\n",
              "    .colab-df-container {\n",
              "      display:flex;\n",
              "      gap: 12px;\n",
              "    }\n",
              "\n",
              "    .colab-df-convert {\n",
              "      background-color: #E8F0FE;\n",
              "      border: none;\n",
              "      border-radius: 50%;\n",
              "      cursor: pointer;\n",
              "      display: none;\n",
              "      fill: #1967D2;\n",
              "      height: 32px;\n",
              "      padding: 0 0 0 0;\n",
              "      width: 32px;\n",
              "    }\n",
              "\n",
              "    .colab-df-convert:hover {\n",
              "      background-color: #E2EBFA;\n",
              "      box-shadow: 0px 1px 2px rgba(60, 64, 67, 0.3), 0px 1px 3px 1px rgba(60, 64, 67, 0.15);\n",
              "      fill: #174EA6;\n",
              "    }\n",
              "\n",
              "    .colab-df-buttons div {\n",
              "      margin-bottom: 4px;\n",
              "    }\n",
              "\n",
              "    [theme=dark] .colab-df-convert {\n",
              "      background-color: #3B4455;\n",
              "      fill: #D2E3FC;\n",
              "    }\n",
              "\n",
              "    [theme=dark] .colab-df-convert:hover {\n",
              "      background-color: #434B5C;\n",
              "      box-shadow: 0px 1px 3px 1px rgba(0, 0, 0, 0.15);\n",
              "      filter: drop-shadow(0px 1px 2px rgba(0, 0, 0, 0.3));\n",
              "      fill: #FFFFFF;\n",
              "    }\n",
              "  </style>\n",
              "\n",
              "    <script>\n",
              "      const buttonEl =\n",
              "        document.querySelector('#df-1ad0614b-0248-4142-9e11-9a12be27f231 button.colab-df-convert');\n",
              "      buttonEl.style.display =\n",
              "        google.colab.kernel.accessAllowed ? 'block' : 'none';\n",
              "\n",
              "      async function convertToInteractive(key) {\n",
              "        const element = document.querySelector('#df-1ad0614b-0248-4142-9e11-9a12be27f231');\n",
              "        const dataTable =\n",
              "          await google.colab.kernel.invokeFunction('convertToInteractive',\n",
              "                                                    [key], {});\n",
              "        if (!dataTable) return;\n",
              "\n",
              "        const docLinkHtml = 'Like what you see? Visit the ' +\n",
              "          '<a target=\"_blank\" href=https://colab.research.google.com/notebooks/data_table.ipynb>data table notebook</a>'\n",
              "          + ' to learn more about interactive tables.';\n",
              "        element.innerHTML = '';\n",
              "        dataTable['output_type'] = 'display_data';\n",
              "        await google.colab.output.renderOutput(dataTable, element);\n",
              "        const docLink = document.createElement('div');\n",
              "        docLink.innerHTML = docLinkHtml;\n",
              "        element.appendChild(docLink);\n",
              "      }\n",
              "    </script>\n",
              "  </div>\n",
              "\n",
              "\n",
              "<div id=\"df-12ab5e17-3f34-4b3d-a771-c3e04d8b1f71\">\n",
              "  <button class=\"colab-df-quickchart\" onclick=\"quickchart('df-12ab5e17-3f34-4b3d-a771-c3e04d8b1f71')\"\n",
              "            title=\"Suggest charts\"\n",
              "            style=\"display:none;\">\n",
              "\n",
              "<svg xmlns=\"http://www.w3.org/2000/svg\" height=\"24px\"viewBox=\"0 0 24 24\"\n",
              "     width=\"24px\">\n",
              "    <g>\n",
              "        <path d=\"M19 3H5c-1.1 0-2 .9-2 2v14c0 1.1.9 2 2 2h14c1.1 0 2-.9 2-2V5c0-1.1-.9-2-2-2zM9 17H7v-7h2v7zm4 0h-2V7h2v10zm4 0h-2v-4h2v4z\"/>\n",
              "    </g>\n",
              "</svg>\n",
              "  </button>\n",
              "\n",
              "<style>\n",
              "  .colab-df-quickchart {\n",
              "      --bg-color: #E8F0FE;\n",
              "      --fill-color: #1967D2;\n",
              "      --hover-bg-color: #E2EBFA;\n",
              "      --hover-fill-color: #174EA6;\n",
              "      --disabled-fill-color: #AAA;\n",
              "      --disabled-bg-color: #DDD;\n",
              "  }\n",
              "\n",
              "  [theme=dark] .colab-df-quickchart {\n",
              "      --bg-color: #3B4455;\n",
              "      --fill-color: #D2E3FC;\n",
              "      --hover-bg-color: #434B5C;\n",
              "      --hover-fill-color: #FFFFFF;\n",
              "      --disabled-bg-color: #3B4455;\n",
              "      --disabled-fill-color: #666;\n",
              "  }\n",
              "\n",
              "  .colab-df-quickchart {\n",
              "    background-color: var(--bg-color);\n",
              "    border: none;\n",
              "    border-radius: 50%;\n",
              "    cursor: pointer;\n",
              "    display: none;\n",
              "    fill: var(--fill-color);\n",
              "    height: 32px;\n",
              "    padding: 0;\n",
              "    width: 32px;\n",
              "  }\n",
              "\n",
              "  .colab-df-quickchart:hover {\n",
              "    background-color: var(--hover-bg-color);\n",
              "    box-shadow: 0 1px 2px rgba(60, 64, 67, 0.3), 0 1px 3px 1px rgba(60, 64, 67, 0.15);\n",
              "    fill: var(--button-hover-fill-color);\n",
              "  }\n",
              "\n",
              "  .colab-df-quickchart-complete:disabled,\n",
              "  .colab-df-quickchart-complete:disabled:hover {\n",
              "    background-color: var(--disabled-bg-color);\n",
              "    fill: var(--disabled-fill-color);\n",
              "    box-shadow: none;\n",
              "  }\n",
              "\n",
              "  .colab-df-spinner {\n",
              "    border: 2px solid var(--fill-color);\n",
              "    border-color: transparent;\n",
              "    border-bottom-color: var(--fill-color);\n",
              "    animation:\n",
              "      spin 1s steps(1) infinite;\n",
              "  }\n",
              "\n",
              "  @keyframes spin {\n",
              "    0% {\n",
              "      border-color: transparent;\n",
              "      border-bottom-color: var(--fill-color);\n",
              "      border-left-color: var(--fill-color);\n",
              "    }\n",
              "    20% {\n",
              "      border-color: transparent;\n",
              "      border-left-color: var(--fill-color);\n",
              "      border-top-color: var(--fill-color);\n",
              "    }\n",
              "    30% {\n",
              "      border-color: transparent;\n",
              "      border-left-color: var(--fill-color);\n",
              "      border-top-color: var(--fill-color);\n",
              "      border-right-color: var(--fill-color);\n",
              "    }\n",
              "    40% {\n",
              "      border-color: transparent;\n",
              "      border-right-color: var(--fill-color);\n",
              "      border-top-color: var(--fill-color);\n",
              "    }\n",
              "    60% {\n",
              "      border-color: transparent;\n",
              "      border-right-color: var(--fill-color);\n",
              "    }\n",
              "    80% {\n",
              "      border-color: transparent;\n",
              "      border-right-color: var(--fill-color);\n",
              "      border-bottom-color: var(--fill-color);\n",
              "    }\n",
              "    90% {\n",
              "      border-color: transparent;\n",
              "      border-bottom-color: var(--fill-color);\n",
              "    }\n",
              "  }\n",
              "</style>\n",
              "\n",
              "  <script>\n",
              "    async function quickchart(key) {\n",
              "      const quickchartButtonEl =\n",
              "        document.querySelector('#' + key + ' button');\n",
              "      quickchartButtonEl.disabled = true;  // To prevent multiple clicks.\n",
              "      quickchartButtonEl.classList.add('colab-df-spinner');\n",
              "      try {\n",
              "        const charts = await google.colab.kernel.invokeFunction(\n",
              "            'suggestCharts', [key], {});\n",
              "      } catch (error) {\n",
              "        console.error('Error during call to suggestCharts:', error);\n",
              "      }\n",
              "      quickchartButtonEl.classList.remove('colab-df-spinner');\n",
              "      quickchartButtonEl.classList.add('colab-df-quickchart-complete');\n",
              "    }\n",
              "    (() => {\n",
              "      let quickchartButtonEl =\n",
              "        document.querySelector('#df-12ab5e17-3f34-4b3d-a771-c3e04d8b1f71 button');\n",
              "      quickchartButtonEl.style.display =\n",
              "        google.colab.kernel.accessAllowed ? 'block' : 'none';\n",
              "    })();\n",
              "  </script>\n",
              "</div>\n",
              "\n",
              "    </div>\n",
              "  </div>\n"
            ],
            "application/vnd.google.colaboratory.intrinsic+json": {
              "type": "dataframe",
              "variable_name": "test",
              "summary": "{\n  \"name\": \"test\",\n  \"rows\": 367,\n  \"fields\": [\n    {\n      \"column\": \"Gender\",\n      \"properties\": {\n        \"dtype\": \"category\",\n        \"num_unique_values\": 2,\n        \"samples\": [\n          \"Female\",\n          \"Male\"\n        ],\n        \"semantic_type\": \"\",\n        \"description\": \"\"\n      }\n    },\n    {\n      \"column\": \"Married\",\n      \"properties\": {\n        \"dtype\": \"category\",\n        \"num_unique_values\": 2,\n        \"samples\": [\n          \"No\",\n          \"Yes\"\n        ],\n        \"semantic_type\": \"\",\n        \"description\": \"\"\n      }\n    },\n    {\n      \"column\": \"Dependents\",\n      \"properties\": {\n        \"dtype\": \"category\",\n        \"num_unique_values\": 4,\n        \"samples\": [\n          \"1\",\n          \"3+\"\n        ],\n        \"semantic_type\": \"\",\n        \"description\": \"\"\n      }\n    },\n    {\n      \"column\": \"Education\",\n      \"properties\": {\n        \"dtype\": \"category\",\n        \"num_unique_values\": 2,\n        \"samples\": [\n          \"Not Graduate\",\n          \"Graduate\"\n        ],\n        \"semantic_type\": \"\",\n        \"description\": \"\"\n      }\n    },\n    {\n      \"column\": \"Self_Employed\",\n      \"properties\": {\n        \"dtype\": \"category\",\n        \"num_unique_values\": 2,\n        \"samples\": [\n          \"Yes\",\n          \"No\"\n        ],\n        \"semantic_type\": \"\",\n        \"description\": \"\"\n      }\n    },\n    {\n      \"column\": \"Applicant_Income\",\n      \"properties\": {\n        \"dtype\": \"number\",\n        \"std\": 491068,\n        \"min\": 0,\n        \"max\": 7252900,\n        \"num_unique_values\": 314,\n        \"samples\": [\n          679400,\n          278300\n        ],\n        \"semantic_type\": \"\",\n        \"description\": \"\"\n      }\n    },\n    {\n      \"column\": \"Coapplicant_Income\",\n      \"properties\": {\n        \"dtype\": \"number\",\n        \"std\": 233423,\n        \"min\": 0,\n        \"max\": 2400000,\n        \"num_unique_values\": 194,\n        \"samples\": [\n          372500,\n          83300\n        ],\n        \"semantic_type\": \"\",\n        \"description\": \"\"\n      }\n    },\n    {\n      \"column\": \"Loan_Amount\",\n      \"properties\": {\n        \"dtype\": \"number\",\n        \"std\": 6296142,\n        \"min\": 0,\n        \"max\": 55000000,\n        \"num_unique_values\": 145,\n        \"samples\": [\n          15700000,\n          19700000\n        ],\n        \"semantic_type\": \"\",\n        \"description\": \"\"\n      }\n    },\n    {\n      \"column\": \"Term\",\n      \"properties\": {\n        \"dtype\": \"number\",\n        \"std\": 65.15664341399702,\n        \"min\": 6.0,\n        \"max\": 480.0,\n        \"num_unique_values\": 12,\n        \"samples\": [\n          120.0,\n          36.0\n        ],\n        \"semantic_type\": \"\",\n        \"description\": \"\"\n      }\n    },\n    {\n      \"column\": \"Credit_History\",\n      \"properties\": {\n        \"dtype\": \"number\",\n        \"std\": 0.38014983549147024,\n        \"min\": 0.0,\n        \"max\": 1.0,\n        \"num_unique_values\": 2,\n        \"samples\": [\n          0.0,\n          1.0\n        ],\n        \"semantic_type\": \"\",\n        \"description\": \"\"\n      }\n    },\n    {\n      \"column\": \"Area\",\n      \"properties\": {\n        \"dtype\": \"category\",\n        \"num_unique_values\": 3,\n        \"samples\": [\n          \"Urban\",\n          \"Semiurban\"\n        ],\n        \"semantic_type\": \"\",\n        \"description\": \"\"\n      }\n    }\n  ]\n}"
            }
          },
          "metadata": {},
          "execution_count": 4
        }
      ],
      "source": [
        "test.head()"
      ]
    },
    {
      "cell_type": "code",
      "execution_count": null,
      "id": "7fc7a667",
      "metadata": {
        "execution": {
          "iopub.execute_input": "2023-03-17T06:24:12.685287Z",
          "iopub.status.busy": "2023-03-17T06:24:12.684180Z",
          "iopub.status.idle": "2023-03-17T06:24:12.690938Z",
          "shell.execute_reply": "2023-03-17T06:24:12.689572Z"
        },
        "id": "7fc7a667",
        "outputId": "e8f41ada-de31-44bf-cf1b-5a52e06b4794",
        "papermill": {
          "duration": 0.03742,
          "end_time": "2023-03-17T06:24:12.693164",
          "exception": false,
          "start_time": "2023-03-17T06:24:12.655744",
          "status": "completed"
        },
        "tags": [],
        "colab": {
          "base_uri": "https://localhost:8080/"
        }
      },
      "outputs": [
        {
          "output_type": "stream",
          "name": "stdout",
          "text": [
            "(614, 12) (367, 11)\n"
          ]
        }
      ],
      "source": [
        "print(train.shape, test.shape)"
      ]
    },
    {
      "cell_type": "markdown",
      "id": "71ee9721",
      "metadata": {
        "id": "71ee9721",
        "papermill": {
          "duration": 0.026127,
          "end_time": "2023-03-17T06:24:12.745784",
          "exception": false,
          "start_time": "2023-03-17T06:24:12.719657",
          "status": "completed"
        },
        "tags": []
      },
      "source": [
        "#  EDA\n"
      ]
    },
    {
      "cell_type": "markdown",
      "id": "a228b0aa",
      "metadata": {
        "id": "a228b0aa",
        "papermill": {
          "duration": 0.026302,
          "end_time": "2023-03-17T06:24:12.798734",
          "exception": false,
          "start_time": "2023-03-17T06:24:12.772432",
          "status": "completed"
        },
        "tags": []
      },
      "source": [
        "## Categorical Variable"
      ]
    },
    {
      "cell_type": "markdown",
      "id": "0e20886c",
      "metadata": {
        "id": "0e20886c",
        "papermill": {
          "duration": 0.026154,
          "end_time": "2023-03-17T06:24:12.851473",
          "exception": false,
          "start_time": "2023-03-17T06:24:12.825319",
          "status": "completed"
        },
        "tags": []
      },
      "source": [
        "### Gender"
      ]
    },
    {
      "cell_type": "code",
      "execution_count": null,
      "id": "343c3c5d",
      "metadata": {
        "execution": {
          "iopub.execute_input": "2023-03-17T06:24:12.907227Z",
          "iopub.status.busy": "2023-03-17T06:24:12.906512Z",
          "iopub.status.idle": "2023-03-17T06:24:12.918344Z",
          "shell.execute_reply": "2023-03-17T06:24:12.917222Z"
        },
        "id": "343c3c5d",
        "outputId": "6e1f4ed5-d851-4831-ebc7-ec638a485172",
        "papermill": {
          "duration": 0.04234,
          "end_time": "2023-03-17T06:24:12.920536",
          "exception": false,
          "start_time": "2023-03-17T06:24:12.878196",
          "status": "completed"
        },
        "tags": [],
        "colab": {
          "base_uri": "https://localhost:8080/",
          "height": 209
        }
      },
      "outputs": [
        {
          "output_type": "execute_result",
          "data": {
            "text/plain": [
              "Gender\n",
              "Male      489\n",
              "Female    112\n",
              "NaN        13\n",
              "Name: count, dtype: int64"
            ],
            "text/html": [
              "<div>\n",
              "<style scoped>\n",
              "    .dataframe tbody tr th:only-of-type {\n",
              "        vertical-align: middle;\n",
              "    }\n",
              "\n",
              "    .dataframe tbody tr th {\n",
              "        vertical-align: top;\n",
              "    }\n",
              "\n",
              "    .dataframe thead th {\n",
              "        text-align: right;\n",
              "    }\n",
              "</style>\n",
              "<table border=\"1\" class=\"dataframe\">\n",
              "  <thead>\n",
              "    <tr style=\"text-align: right;\">\n",
              "      <th></th>\n",
              "      <th>count</th>\n",
              "    </tr>\n",
              "    <tr>\n",
              "      <th>Gender</th>\n",
              "      <th></th>\n",
              "    </tr>\n",
              "  </thead>\n",
              "  <tbody>\n",
              "    <tr>\n",
              "      <th>Male</th>\n",
              "      <td>489</td>\n",
              "    </tr>\n",
              "    <tr>\n",
              "      <th>Female</th>\n",
              "      <td>112</td>\n",
              "    </tr>\n",
              "    <tr>\n",
              "      <th>NaN</th>\n",
              "      <td>13</td>\n",
              "    </tr>\n",
              "  </tbody>\n",
              "</table>\n",
              "</div><br><label><b>dtype:</b> int64</label>"
            ]
          },
          "metadata": {},
          "execution_count": 6
        }
      ],
      "source": [
        "train.Gender.value_counts(dropna = False)"
      ]
    },
    {
      "cell_type": "code",
      "execution_count": null,
      "id": "36fdc6d0",
      "metadata": {
        "execution": {
          "iopub.execute_input": "2023-03-17T06:24:12.976066Z",
          "iopub.status.busy": "2023-03-17T06:24:12.975644Z",
          "iopub.status.idle": "2023-03-17T06:24:13.156284Z",
          "shell.execute_reply": "2023-03-17T06:24:13.155337Z"
        },
        "id": "36fdc6d0",
        "outputId": "b96e0dbd-d552-4f1b-e8f5-d91b159084af",
        "papermill": {
          "duration": 0.211111,
          "end_time": "2023-03-17T06:24:13.158616",
          "exception": false,
          "start_time": "2023-03-17T06:24:12.947505",
          "status": "completed"
        },
        "tags": [],
        "colab": {
          "base_uri": "https://localhost:8080/",
          "height": 449
        }
      },
      "outputs": [
        {
          "output_type": "display_data",
          "data": {
            "text/plain": [
              "<Figure size 640x480 with 1 Axes>"
            ],
            "image/png": "[encoded data removed]"
          },
          "metadata": {}
        }
      ],
      "source": [
        "sns.countplot(x=\"Gender\", data = train)\n",
        "plt.show()"
      ]
    },
    {
      "cell_type": "code",
      "execution_count": null,
      "id": "70bba807",
      "metadata": {
        "execution": {
          "iopub.execute_input": "2023-03-17T06:24:13.215510Z",
          "iopub.status.busy": "2023-03-17T06:24:13.214299Z",
          "iopub.status.idle": "2023-03-17T06:24:13.225479Z",
          "shell.execute_reply": "2023-03-17T06:24:13.224324Z"
        },
        "id": "70bba807",
        "outputId": "38180855-58f2-44be-babd-68fad8fde053",
        "papermill": {
          "duration": 0.041916,
          "end_time": "2023-03-17T06:24:13.227710",
          "exception": false,
          "start_time": "2023-03-17T06:24:13.185794",
          "status": "completed"
        },
        "tags": [],
        "colab": {
          "base_uri": "https://localhost:8080/"
        }
      },
      "outputs": [
        {
          "output_type": "stream",
          "name": "stdout",
          "text": [
            "Percentage of Male applicant: 79.64 %\n",
            "Percentage of Female applicant: 18.24 %\n",
            "Missing values percentage: 2.12 %\n"
          ]
        }
      ],
      "source": [
        "count_male = len(train[train.Gender == 'Male'])\n",
        "count_female = len(train[train.Gender == 'Female'])\n",
        "count_null = len(train[train.Gender.isnull()])\n",
        "\n",
        "print(\"Percentage of Male applicant: {:.2f} %\".format((count_male / (len(train.Gender))*100)))\n",
        "print(\"Percentage of Female applicant: {:.2f} %\".format((count_female / (len(train.Gender))*100)))\n",
        "print(\"Missing values percentage: {:.2f} %\".format((count_null / (len(train.Gender))*100)))"
      ]
    },
    {
      "cell_type": "markdown",
      "id": "c148c780",
      "metadata": {
        "id": "c148c780",
        "papermill": {
          "duration": 0.026603,
          "end_time": "2023-03-17T06:24:13.281613",
          "exception": false,
          "start_time": "2023-03-17T06:24:13.255010",
          "status": "completed"
        },
        "tags": []
      },
      "source": [
        "We can observe that the number of male applicants is higher compared to female applicants. Also there are missing values in this column."
      ]
    },
    {
      "cell_type": "markdown",
      "id": "2654fb0e",
      "metadata": {
        "id": "2654fb0e",
        "papermill": {
          "duration": 0.026791,
          "end_time": "2023-03-17T06:24:13.335470",
          "exception": false,
          "start_time": "2023-03-17T06:24:13.308679",
          "status": "completed"
        },
        "tags": []
      },
      "source": [
        "### Married"
      ]
    },
    {
      "cell_type": "code",
      "execution_count": null,
      "id": "12cfa2ef",
      "metadata": {
        "execution": {
          "iopub.execute_input": "2023-03-17T06:24:13.392340Z",
          "iopub.status.busy": "2023-03-17T06:24:13.390908Z",
          "iopub.status.idle": "2023-03-17T06:24:13.400453Z",
          "shell.execute_reply": "2023-03-17T06:24:13.399190Z"
        },
        "id": "12cfa2ef",
        "outputId": "1c2e40ec-bc0d-47cf-9924-440ccad05cca",
        "papermill": {
          "duration": 0.040305,
          "end_time": "2023-03-17T06:24:13.402898",
          "exception": false,
          "start_time": "2023-03-17T06:24:13.362593",
          "status": "completed"
        },
        "tags": [],
        "colab": {
          "base_uri": "https://localhost:8080/",
          "height": 209
        }
      },
      "outputs": [
        {
          "output_type": "execute_result",
          "data": {
            "text/plain": [
              "Married\n",
              "Yes    398\n",
              "No     213\n",
              "NaN      3\n",
              "Name: count, dtype: int64"
            ],
            "text/html": [
              "<div>\n",
              "<style scoped>\n",
              "    .dataframe tbody tr th:only-of-type {\n",
              "        vertical-align: middle;\n",
              "    }\n",
              "\n",
              "    .dataframe tbody tr th {\n",
              "        vertical-align: top;\n",
              "    }\n",
              "\n",
              "    .dataframe thead th {\n",
              "        text-align: right;\n",
              "    }\n",
              "</style>\n",
              "<table border=\"1\" class=\"dataframe\">\n",
              "  <thead>\n",
              "    <tr style=\"text-align: right;\">\n",
              "      <th></th>\n",
              "      <th>count</th>\n",
              "    </tr>\n",
              "    <tr>\n",
              "      <th>Married</th>\n",
              "      <th></th>\n",
              "    </tr>\n",
              "  </thead>\n",
              "  <tbody>\n",
              "    <tr>\n",
              "      <th>Yes</th>\n",
              "      <td>398</td>\n",
              "    </tr>\n",
              "    <tr>\n",
              "      <th>No</th>\n",
              "      <td>213</td>\n",
              "    </tr>\n",
              "    <tr>\n",
              "      <th>NaN</th>\n",
              "      <td>3</td>\n",
              "    </tr>\n",
              "  </tbody>\n",
              "</table>\n",
              "</div><br><label><b>dtype:</b> int64</label>"
            ]
          },
          "metadata": {},
          "execution_count": 9
        }
      ],
      "source": [
        "train.Married.value_counts(dropna = False)"
      ]
    },
    {
      "cell_type": "code",
      "execution_count": null,
      "id": "30ea7d16",
      "metadata": {
        "execution": {
          "iopub.execute_input": "2023-03-17T06:24:13.459153Z",
          "iopub.status.busy": "2023-03-17T06:24:13.458475Z",
          "iopub.status.idle": "2023-03-17T06:24:13.623377Z",
          "shell.execute_reply": "2023-03-17T06:24:13.622473Z"
        },
        "id": "30ea7d16",
        "outputId": "ded814dc-2f37-4ce6-daa7-2de24ca06894",
        "papermill": {
          "duration": 0.195554,
          "end_time": "2023-03-17T06:24:13.625597",
          "exception": false,
          "start_time": "2023-03-17T06:24:13.430043",
          "status": "completed"
        },
        "tags": [],
        "colab": {
          "base_uri": "https://localhost:8080/",
          "height": 449
        }
      },
      "outputs": [
        {
          "output_type": "display_data",
          "data": {
            "text/plain": [
              "<Figure size 640x480 with 1 Axes>"
            ],
            "image/png": "[encoded data removed]"
          },
          "metadata": {}
        }
      ],
      "source": [
        "sns.countplot(x = \"Married\", data = train)\n",
        "plt.show()"
      ]
    },
    {
      "cell_type": "markdown",
      "id": "b107ed52",
      "metadata": {
        "id": "b107ed52",
        "papermill": {
          "duration": 0.027136,
          "end_time": "2023-03-17T06:24:13.680413",
          "exception": false,
          "start_time": "2023-03-17T06:24:13.653277",
          "status": "completed"
        },
        "tags": []
      },
      "source": [
        "Number of applicants that has been married is significantly higher compared to applicants that hasn't married. It also can be seen there are small number of missing values in this column as well."
      ]
    },
    {
      "cell_type": "code",
      "execution_count": null,
      "id": "8efd1be5",
      "metadata": {
        "execution": {
          "iopub.execute_input": "2023-03-17T06:24:13.737590Z",
          "iopub.status.busy": "2023-03-17T06:24:13.736454Z",
          "iopub.status.idle": "2023-03-17T06:24:13.746953Z",
          "shell.execute_reply": "2023-03-17T06:24:13.745588Z"
        },
        "id": "8efd1be5",
        "outputId": "c6039fef-5c82-4ffb-d320-267a696535e8",
        "papermill": {
          "duration": 0.041508,
          "end_time": "2023-03-17T06:24:13.749307",
          "exception": false,
          "start_time": "2023-03-17T06:24:13.707799",
          "status": "completed"
        },
        "tags": [],
        "colab": {
          "base_uri": "https://localhost:8080/"
        }
      },
      "outputs": [
        {
          "output_type": "stream",
          "name": "stdout",
          "text": [
            "Percentage of married: 64.82 %\n",
            "Percentage of Non married applicant: 34.69 %\n",
            "Missing values percentage: 0.49 %\n"
          ]
        }
      ],
      "source": [
        "count_married = len(train[train.Married == 'Yes'])\n",
        "count_non_married = len(train[train.Married == 'No'])\n",
        "count_null = len(train[train.Married.isnull()])\n",
        "\n",
        "print(\"Percentage of married: {:.2f} %\".format((count_married / (len(train.Married))*100)))\n",
        "print(\"Percentage of Non married applicant: {:.2f} %\".format((count_non_married / (len(train.Married))*100)))\n",
        "print(\"Missing values percentage: {:.2f} %\".format((count_null / (len(train.Married))*100)))"
      ]
    },
    {
      "cell_type": "markdown",
      "id": "4c1bbff1",
      "metadata": {
        "id": "4c1bbff1",
        "papermill": {
          "duration": 0.027103,
          "end_time": "2023-03-17T06:24:13.803786",
          "exception": false,
          "start_time": "2023-03-17T06:24:13.776683",
          "status": "completed"
        },
        "tags": []
      },
      "source": [
        "### Education"
      ]
    },
    {
      "cell_type": "code",
      "execution_count": null,
      "id": "531f7e0f",
      "metadata": {
        "execution": {
          "iopub.execute_input": "2023-03-17T06:24:13.860623Z",
          "iopub.status.busy": "2023-03-17T06:24:13.859859Z",
          "iopub.status.idle": "2023-03-17T06:24:13.869495Z",
          "shell.execute_reply": "2023-03-17T06:24:13.868292Z"
        },
        "id": "531f7e0f",
        "outputId": "6afd7d0b-2590-4a9c-a31b-ee053174eb77",
        "papermill": {
          "duration": 0.040776,
          "end_time": "2023-03-17T06:24:13.871926",
          "exception": false,
          "start_time": "2023-03-17T06:24:13.831150",
          "status": "completed"
        },
        "tags": [],
        "colab": {
          "base_uri": "https://localhost:8080/",
          "height": 178
        }
      },
      "outputs": [
        {
          "output_type": "execute_result",
          "data": {
            "text/plain": [
              "Education\n",
              "Graduate        480\n",
              "Not Graduate    134\n",
              "Name: count, dtype: int64"
            ],
            "text/html": [
              "<div>\n",
              "<style scoped>\n",
              "    .dataframe tbody tr th:only-of-type {\n",
              "        vertical-align: middle;\n",
              "    }\n",
              "\n",
              "    .dataframe tbody tr th {\n",
              "        vertical-align: top;\n",
              "    }\n",
              "\n",
              "    .dataframe thead th {\n",
              "        text-align: right;\n",
              "    }\n",
              "</style>\n",
              "<table border=\"1\" class=\"dataframe\">\n",
              "  <thead>\n",
              "    <tr style=\"text-align: right;\">\n",
              "      <th></th>\n",
              "      <th>count</th>\n",
              "    </tr>\n",
              "    <tr>\n",
              "      <th>Education</th>\n",
              "      <th></th>\n",
              "    </tr>\n",
              "  </thead>\n",
              "  <tbody>\n",
              "    <tr>\n",
              "      <th>Graduate</th>\n",
              "      <td>480</td>\n",
              "    </tr>\n",
              "    <tr>\n",
              "      <th>Not Graduate</th>\n",
              "      <td>134</td>\n",
              "    </tr>\n",
              "  </tbody>\n",
              "</table>\n",
              "</div><br><label><b>dtype:</b> int64</label>"
            ]
          },
          "metadata": {},
          "execution_count": 12
        }
      ],
      "source": [
        "train.Education.value_counts(dropna=False)"
      ]
    },
    {
      "cell_type": "code",
      "execution_count": null,
      "id": "8ab220a1",
      "metadata": {
        "execution": {
          "iopub.execute_input": "2023-03-17T06:24:13.930322Z",
          "iopub.status.busy": "2023-03-17T06:24:13.929531Z",
          "iopub.status.idle": "2023-03-17T06:24:14.087208Z",
          "shell.execute_reply": "2023-03-17T06:24:14.085916Z"
        },
        "id": "8ab220a1",
        "outputId": "78c888ca-4660-43ad-b2e7-f0e1f72841aa",
        "papermill": {
          "duration": 0.18984,
          "end_time": "2023-03-17T06:24:14.089753",
          "exception": false,
          "start_time": "2023-03-17T06:24:13.899913",
          "status": "completed"
        },
        "tags": [],
        "colab": {
          "base_uri": "https://localhost:8080/",
          "height": 452
        }
      },
      "outputs": [
        {
          "output_type": "display_data",
          "data": {
            "text/plain": [
              "<Figure size 640x480 with 1 Axes>"
            ],
            "image/png": "[encoded data removed]"
          },
          "metadata": {}
        }
      ],
      "source": [
        "sns.countplot(x = \"Education\", data = train)\n",
        "plt.show()"
      ]
    },
    {
      "cell_type": "code",
      "execution_count": null,
      "id": "b294f7d9",
      "metadata": {
        "execution": {
          "iopub.execute_input": "2023-03-17T06:24:14.148769Z",
          "iopub.status.busy": "2023-03-17T06:24:14.148342Z",
          "iopub.status.idle": "2023-03-17T06:24:14.158590Z",
          "shell.execute_reply": "2023-03-17T06:24:14.157403Z"
        },
        "id": "b294f7d9",
        "outputId": "69a7759d-dd81-4ac8-f431-77db0cafe842",
        "papermill": {
          "duration": 0.042477,
          "end_time": "2023-03-17T06:24:14.161150",
          "exception": false,
          "start_time": "2023-03-17T06:24:14.118673",
          "status": "completed"
        },
        "tags": [],
        "colab": {
          "base_uri": "https://localhost:8080/"
        }
      },
      "outputs": [
        {
          "output_type": "stream",
          "name": "stdout",
          "text": [
            "Percentage of graduate applicant: 78.18 %\n",
            "Percentage of Not graduate applicant: 21.82 %\n",
            "Missing values percentage: 0.00 %\n"
          ]
        }
      ],
      "source": [
        "count_graduate = len(train[train.Education == 'Graduate'])\n",
        "count_not_graduate = len(train[train.Education == 'Not Graduate'])\n",
        "count_null = len(train[train.Education.isnull()])\n",
        "\n",
        "print(\"Percentage of graduate applicant: {:.2f} %\".format((count_graduate / (len(train.Education))*100)))\n",
        "print(\"Percentage of Not graduate applicant: {:.2f} %\".format((count_not_graduate / (len(train.Education))*100)))\n",
        "print(\"Missing values percentage: {:.2f} %\".format((count_null / (len(train.Education))*100)))"
      ]
    },
    {
      "cell_type": "markdown",
      "id": "fa91648e",
      "metadata": {
        "id": "fa91648e",
        "papermill": {
          "duration": 0.028213,
          "end_time": "2023-03-17T06:24:14.217667",
          "exception": false,
          "start_time": "2023-03-17T06:24:14.189454",
          "status": "completed"
        },
        "tags": []
      },
      "source": [
        "The number of applicants that has been graduated is higher compared to applicants that hasn't graduated."
      ]
    },
    {
      "cell_type": "markdown",
      "id": "6423cd92",
      "metadata": {
        "id": "6423cd92",
        "papermill": {
          "duration": 0.027964,
          "end_time": "2023-03-17T06:24:14.274547",
          "exception": false,
          "start_time": "2023-03-17T06:24:14.246583",
          "status": "completed"
        },
        "tags": []
      },
      "source": [
        "### Self Employed"
      ]
    },
    {
      "cell_type": "code",
      "execution_count": null,
      "id": "0436e664",
      "metadata": {
        "execution": {
          "iopub.execute_input": "2023-03-17T06:24:14.333511Z",
          "iopub.status.busy": "2023-03-17T06:24:14.332636Z",
          "iopub.status.idle": "2023-03-17T06:24:14.342189Z",
          "shell.execute_reply": "2023-03-17T06:24:14.341170Z"
        },
        "id": "0436e664",
        "outputId": "f6cb3dbb-a40e-4ead-bc68-1b42e1b573db",
        "papermill": {
          "duration": 0.041849,
          "end_time": "2023-03-17T06:24:14.344577",
          "exception": false,
          "start_time": "2023-03-17T06:24:14.302728",
          "status": "completed"
        },
        "tags": [],
        "colab": {
          "base_uri": "https://localhost:8080/",
          "height": 209
        }
      },
      "outputs": [
        {
          "output_type": "execute_result",
          "data": {
            "text/plain": [
              "Self_Employed\n",
              "No     500\n",
              "Yes     82\n",
              "NaN     32\n",
              "Name: count, dtype: int64"
            ],
            "text/html": [
              "<div>\n",
              "<style scoped>\n",
              "    .dataframe tbody tr th:only-of-type {\n",
              "        vertical-align: middle;\n",
              "    }\n",
              "\n",
              "    .dataframe tbody tr th {\n",
              "        vertical-align: top;\n",
              "    }\n",
              "\n",
              "    .dataframe thead th {\n",
              "        text-align: right;\n",
              "    }\n",
              "</style>\n",
              "<table border=\"1\" class=\"dataframe\">\n",
              "  <thead>\n",
              "    <tr style=\"text-align: right;\">\n",
              "      <th></th>\n",
              "      <th>count</th>\n",
              "    </tr>\n",
              "    <tr>\n",
              "      <th>Self_Employed</th>\n",
              "      <th></th>\n",
              "    </tr>\n",
              "  </thead>\n",
              "  <tbody>\n",
              "    <tr>\n",
              "      <th>No</th>\n",
              "      <td>500</td>\n",
              "    </tr>\n",
              "    <tr>\n",
              "      <th>Yes</th>\n",
              "      <td>82</td>\n",
              "    </tr>\n",
              "    <tr>\n",
              "      <th>NaN</th>\n",
              "      <td>32</td>\n",
              "    </tr>\n",
              "  </tbody>\n",
              "</table>\n",
              "</div><br><label><b>dtype:</b> int64</label>"
            ]
          },
          "metadata": {},
          "execution_count": 15
        }
      ],
      "source": [
        "train.Self_Employed.value_counts(dropna=False)"
      ]
    },
    {
      "cell_type": "code",
      "execution_count": null,
      "id": "4033114a",
      "metadata": {
        "execution": {
          "iopub.execute_input": "2023-03-17T06:24:14.405500Z",
          "iopub.status.busy": "2023-03-17T06:24:14.404696Z",
          "iopub.status.idle": "2023-03-17T06:24:14.553456Z",
          "shell.execute_reply": "2023-03-17T06:24:14.552186Z"
        },
        "id": "4033114a",
        "outputId": "ba9e884e-efe2-48a4-facc-dfbd7c1f53b7",
        "papermill": {
          "duration": 0.181693,
          "end_time": "2023-03-17T06:24:14.555867",
          "exception": false,
          "start_time": "2023-03-17T06:24:14.374174",
          "status": "completed"
        },
        "tags": [],
        "colab": {
          "base_uri": "https://localhost:8080/",
          "height": 450
        }
      },
      "outputs": [
        {
          "output_type": "display_data",
          "data": {
            "text/plain": [
              "<Figure size 640x480 with 1 Axes>"
            ],
            "image/png": "[encoded data removed]"
          },
          "metadata": {}
        }
      ],
      "source": [
        "sns.countplot(x = \"Self_Employed\", data = train)\n",
        "plt.show()"
      ]
    },
    {
      "cell_type": "code",
      "execution_count": null,
      "id": "bc10cb6a",
      "metadata": {
        "execution": {
          "iopub.execute_input": "2023-03-17T06:24:14.616347Z",
          "iopub.status.busy": "2023-03-17T06:24:14.615539Z",
          "iopub.status.idle": "2023-03-17T06:24:14.625477Z",
          "shell.execute_reply": "2023-03-17T06:24:14.624280Z"
        },
        "id": "bc10cb6a",
        "outputId": "d3776935-c510-4d95-81f6-3d57d795d6c6",
        "papermill": {
          "duration": 0.042789,
          "end_time": "2023-03-17T06:24:14.627796",
          "exception": false,
          "start_time": "2023-03-17T06:24:14.585007",
          "status": "completed"
        },
        "tags": [],
        "colab": {
          "base_uri": "https://localhost:8080/"
        }
      },
      "outputs": [
        {
          "output_type": "stream",
          "name": "stdout",
          "text": [
            "Percentage of Not self employed: 81.43 %\n",
            "Percentage of self employed: 13.36 %\n",
            "Missing values percentage: 5.21 %\n"
          ]
        }
      ],
      "source": [
        "count_no = len(train[train.Self_Employed == 'No'])\n",
        "count_yes = len(train[train.Self_Employed == 'Yes'])\n",
        "count_null = len(train[train.Self_Employed.isnull()])\n",
        "\n",
        "print(\"Percentage of Not self employed: {:.2f} %\".format((count_no / (len(train.Self_Employed))*100)))\n",
        "print(\"Percentage of self employed: {:.2f} %\".format((count_yes / (len(train.Self_Employed))*100)))\n",
        "print(\"Missing values percentage: {:.2f} %\".format((count_null / (len(train.Self_Employed))*100)))"
      ]
    },
    {
      "cell_type": "markdown",
      "id": "3deda99d",
      "metadata": {
        "id": "3deda99d",
        "papermill": {
          "duration": 0.028687,
          "end_time": "2023-03-17T06:24:14.685144",
          "exception": false,
          "start_time": "2023-03-17T06:24:14.656457",
          "status": "completed"
        },
        "tags": []
      },
      "source": [
        "The number of applicants that are not self employed is higher compared to applicants that are self employed. It also can be seen, there are missing values in this column."
      ]
    },
    {
      "cell_type": "markdown",
      "id": "e10a1e45",
      "metadata": {
        "id": "e10a1e45",
        "papermill": {
          "duration": 0.028169,
          "end_time": "2023-03-17T06:24:14.742156",
          "exception": false,
          "start_time": "2023-03-17T06:24:14.713987",
          "status": "completed"
        },
        "tags": []
      },
      "source": [
        "### Credit History"
      ]
    },
    {
      "cell_type": "code",
      "execution_count": null,
      "id": "b90f2c51",
      "metadata": {
        "execution": {
          "iopub.execute_input": "2023-03-17T06:24:14.802520Z",
          "iopub.status.busy": "2023-03-17T06:24:14.801824Z",
          "iopub.status.idle": "2023-03-17T06:24:14.811634Z",
          "shell.execute_reply": "2023-03-17T06:24:14.810775Z"
        },
        "id": "b90f2c51",
        "outputId": "70906191-da40-49a1-8932-5f905a8c8ecc",
        "papermill": {
          "duration": 0.043013,
          "end_time": "2023-03-17T06:24:14.813754",
          "exception": false,
          "start_time": "2023-03-17T06:24:14.770741",
          "status": "completed"
        },
        "tags": [],
        "colab": {
          "base_uri": "https://localhost:8080/",
          "height": 209
        }
      },
      "outputs": [
        {
          "output_type": "execute_result",
          "data": {
            "text/plain": [
              "Credit_History\n",
              "1.0    475\n",
              "0.0     89\n",
              "NaN     50\n",
              "Name: count, dtype: int64"
            ],
            "text/html": [
              "<div>\n",
              "<style scoped>\n",
              "    .dataframe tbody tr th:only-of-type {\n",
              "        vertical-align: middle;\n",
              "    }\n",
              "\n",
              "    .dataframe tbody tr th {\n",
              "        vertical-align: top;\n",
              "    }\n",
              "\n",
              "    .dataframe thead th {\n",
              "        text-align: right;\n",
              "    }\n",
              "</style>\n",
              "<table border=\"1\" class=\"dataframe\">\n",
              "  <thead>\n",
              "    <tr style=\"text-align: right;\">\n",
              "      <th></th>\n",
              "      <th>count</th>\n",
              "    </tr>\n",
              "    <tr>\n",
              "      <th>Credit_History</th>\n",
              "      <th></th>\n",
              "    </tr>\n",
              "  </thead>\n",
              "  <tbody>\n",
              "    <tr>\n",
              "      <th>1.0</th>\n",
              "      <td>475</td>\n",
              "    </tr>\n",
              "    <tr>\n",
              "      <th>0.0</th>\n",
              "      <td>89</td>\n",
              "    </tr>\n",
              "    <tr>\n",
              "      <th>NaN</th>\n",
              "      <td>50</td>\n",
              "    </tr>\n",
              "  </tbody>\n",
              "</table>\n",
              "</div><br><label><b>dtype:</b> int64</label>"
            ]
          },
          "metadata": {},
          "execution_count": 18
        }
      ],
      "source": [
        "train.Credit_History.value_counts(dropna=False)"
      ]
    },
    {
      "cell_type": "code",
      "execution_count": null,
      "id": "dcd86469",
      "metadata": {
        "execution": {
          "iopub.execute_input": "2023-03-17T06:24:14.873586Z",
          "iopub.status.busy": "2023-03-17T06:24:14.872935Z",
          "iopub.status.idle": "2023-03-17T06:24:15.019533Z",
          "shell.execute_reply": "2023-03-17T06:24:15.018076Z"
        },
        "id": "dcd86469",
        "outputId": "bccec0b5-67be-4caa-efed-1e3c5f73551b",
        "papermill": {
          "duration": 0.180159,
          "end_time": "2023-03-17T06:24:15.022788",
          "exception": false,
          "start_time": "2023-03-17T06:24:14.842629",
          "status": "completed"
        },
        "tags": [],
        "colab": {
          "base_uri": "https://localhost:8080/",
          "height": 450
        }
      },
      "outputs": [
        {
          "output_type": "display_data",
          "data": {
            "text/plain": [
              "<Figure size 640x480 with 1 Axes>"
            ],
            "image/png": "[encoded data removed]"
          },
          "metadata": {}
        }
      ],
      "source": [
        "sns.countplot(x = \"Credit_History\", data = train, palette = \"crest\")\n",
        "plt.show()"
      ]
    },
    {
      "cell_type": "code",
      "execution_count": null,
      "id": "ef894602",
      "metadata": {
        "execution": {
          "iopub.execute_input": "2023-03-17T06:24:15.085033Z",
          "iopub.status.busy": "2023-03-17T06:24:15.084558Z",
          "iopub.status.idle": "2023-03-17T06:24:15.095150Z",
          "shell.execute_reply": "2023-03-17T06:24:15.093896Z"
        },
        "id": "ef894602",
        "outputId": "a166a83a-2fdd-4ad2-c244-908a925b7385",
        "papermill": {
          "duration": 0.043841,
          "end_time": "2023-03-17T06:24:15.097759",
          "exception": false,
          "start_time": "2023-03-17T06:24:15.053918",
          "status": "completed"
        },
        "tags": [],
        "colab": {
          "base_uri": "https://localhost:8080/"
        }
      },
      "outputs": [
        {
          "output_type": "stream",
          "name": "stdout",
          "text": [
            "Percentage of Good credit history: 77.36 %\n",
            "Percentage of Bad credit history: 14.50 %\n",
            "Missing values percentage: 8.14 %\n"
          ]
        }
      ],
      "source": [
        "count_1 = len(train[train.Credit_History == 1])\n",
        "count_0 = len(train[train.Credit_History == 0])\n",
        "count_null = len(train[train.Credit_History.isnull()])\n",
        "\n",
        "print(\"Percentage of Good credit history: {:.2f} %\".format((count_1 / (len(train.Credit_History))*100)))\n",
        "print(\"Percentage of Bad credit history: {:.2f} %\".format((count_0 / (len(train.Credit_History))*100)))\n",
        "print(\"Missing values percentage: {:.2f} %\".format((count_null / (len(train.Credit_History))*100)))"
      ]
    },
    {
      "cell_type": "markdown",
      "id": "493b6ad0",
      "metadata": {
        "id": "493b6ad0",
        "papermill": {
          "duration": 0.029252,
          "end_time": "2023-03-17T06:24:15.156136",
          "exception": false,
          "start_time": "2023-03-17T06:24:15.126884",
          "status": "completed"
        },
        "tags": []
      },
      "source": [
        "👉 The number of applicants that have good credit history is higher compared to applicants that have bad credit history. It also can be seen, there are missing values in this column."
      ]
    },
    {
      "cell_type": "markdown",
      "id": "f6f115c8",
      "metadata": {
        "id": "f6f115c8",
        "papermill": {
          "duration": 0.028714,
          "end_time": "2023-03-17T06:24:15.213875",
          "exception": false,
          "start_time": "2023-03-17T06:24:15.185161",
          "status": "completed"
        },
        "tags": []
      },
      "source": [
        "### Property Area"
      ]
    },
    {
      "cell_type": "code",
      "execution_count": null,
      "id": "69f320d8",
      "metadata": {
        "execution": {
          "iopub.execute_input": "2023-03-17T06:24:15.273748Z",
          "iopub.status.busy": "2023-03-17T06:24:15.273347Z",
          "iopub.status.idle": "2023-03-17T06:24:15.281791Z",
          "shell.execute_reply": "2023-03-17T06:24:15.280928Z"
        },
        "id": "69f320d8",
        "outputId": "3e862b92-154e-415d-a02e-c114f22296a8",
        "papermill": {
          "duration": 0.041044,
          "end_time": "2023-03-17T06:24:15.284026",
          "exception": false,
          "start_time": "2023-03-17T06:24:15.242982",
          "status": "completed"
        },
        "tags": [],
        "colab": {
          "base_uri": "https://localhost:8080/",
          "height": 209
        }
      },
      "outputs": [
        {
          "output_type": "execute_result",
          "data": {
            "text/plain": [
              "Area\n",
              "Semiurban    233\n",
              "Urban        202\n",
              "Rural        179\n",
              "Name: count, dtype: int64"
            ],
            "text/html": [
              "<div>\n",
              "<style scoped>\n",
              "    .dataframe tbody tr th:only-of-type {\n",
              "        vertical-align: middle;\n",
              "    }\n",
              "\n",
              "    .dataframe tbody tr th {\n",
              "        vertical-align: top;\n",
              "    }\n",
              "\n",
              "    .dataframe thead th {\n",
              "        text-align: right;\n",
              "    }\n",
              "</style>\n",
              "<table border=\"1\" class=\"dataframe\">\n",
              "  <thead>\n",
              "    <tr style=\"text-align: right;\">\n",
              "      <th></th>\n",
              "      <th>count</th>\n",
              "    </tr>\n",
              "    <tr>\n",
              "      <th>Area</th>\n",
              "      <th></th>\n",
              "    </tr>\n",
              "  </thead>\n",
              "  <tbody>\n",
              "    <tr>\n",
              "      <th>Semiurban</th>\n",
              "      <td>233</td>\n",
              "    </tr>\n",
              "    <tr>\n",
              "      <th>Urban</th>\n",
              "      <td>202</td>\n",
              "    </tr>\n",
              "    <tr>\n",
              "      <th>Rural</th>\n",
              "      <td>179</td>\n",
              "    </tr>\n",
              "  </tbody>\n",
              "</table>\n",
              "</div><br><label><b>dtype:</b> int64</label>"
            ]
          },
          "metadata": {},
          "execution_count": 21
        }
      ],
      "source": [
        "train.Area.value_counts(dropna=False)"
      ]
    },
    {
      "cell_type": "code",
      "execution_count": null,
      "id": "21ad3d3e",
      "metadata": {
        "execution": {
          "iopub.execute_input": "2023-03-17T06:24:15.345079Z",
          "iopub.status.busy": "2023-03-17T06:24:15.344285Z",
          "iopub.status.idle": "2023-03-17T06:24:15.497934Z",
          "shell.execute_reply": "2023-03-17T06:24:15.496653Z"
        },
        "id": "21ad3d3e",
        "outputId": "0230f3cc-20a5-40c4-9962-018f6099ad4b",
        "papermill": {
          "duration": 0.187646,
          "end_time": "2023-03-17T06:24:15.501218",
          "exception": false,
          "start_time": "2023-03-17T06:24:15.313572",
          "status": "completed"
        },
        "tags": [],
        "colab": {
          "base_uri": "https://localhost:8080/",
          "height": 449
        }
      },
      "outputs": [
        {
          "output_type": "display_data",
          "data": {
            "text/plain": [
              "<Figure size 640x480 with 1 Axes>"
            ],
            "image/png": "[encoded data removed]"
          },
          "metadata": {}
        }
      ],
      "source": [
        "sns.countplot(x = \"Area\", data = train, palette=\"crest\")\n",
        "plt.show()"
      ]
    },
    {
      "cell_type": "code",
      "execution_count": null,
      "id": "c951b8cb",
      "metadata": {
        "execution": {
          "iopub.execute_input": "2023-03-17T06:24:15.566529Z",
          "iopub.status.busy": "2023-03-17T06:24:15.565760Z",
          "iopub.status.idle": "2023-03-17T06:24:15.576626Z",
          "shell.execute_reply": "2023-03-17T06:24:15.575407Z"
        },
        "id": "c951b8cb",
        "outputId": "11306505-5f9a-4b01-9d81-4fdf887b1579",
        "papermill": {
          "duration": 0.045765,
          "end_time": "2023-03-17T06:24:15.578791",
          "exception": false,
          "start_time": "2023-03-17T06:24:15.533026",
          "status": "completed"
        },
        "tags": [],
        "colab": {
          "base_uri": "https://localhost:8080/"
        }
      },
      "outputs": [
        {
          "output_type": "stream",
          "name": "stdout",
          "text": [
            "Percentage of Urban: 32.90 %\n",
            "Percentage of Rural: 29.15 %\n",
            "Percentage of Semiurban: 37.95 %\n",
            "Missing values percentage: 0.00 %\n"
          ]
        }
      ],
      "source": [
        "count_urban = len(train[train.Area == 'Urban'])\n",
        "count_rural = len(train[train.Area == 'Rural'])\n",
        "count_semi_urban = len(train[train.Area == 'Semiurban'])\n",
        "count_null = len(train[train.Area.isnull()])\n",
        "\n",
        "print(\"Percentage of Urban: {:.2f} %\".format((count_urban / (len(train.Area))*100)))\n",
        "print(\"Percentage of Rural: {:.2f} %\".format((count_rural / (len(train.Area))*100)))\n",
        "print(\"Percentage of Semiurban: {:.2f} %\".format((count_semi_urban / (len(train.Area))*100)))\n",
        "print(\"Missing values percentage: {:.2f} %\".format((count_null / (len(train.Area))*100)))"
      ]
    },
    {
      "cell_type": "markdown",
      "id": "a3015e71",
      "metadata": {
        "id": "a3015e71",
        "papermill": {
          "duration": 0.030098,
          "end_time": "2023-03-17T06:24:15.638734",
          "exception": false,
          "start_time": "2023-03-17T06:24:15.608636",
          "status": "completed"
        },
        "tags": []
      },
      "source": [
        "This column has a balanced distribution between Urban, Rural, and Semiurban property area. It also can be seen there is no missing value."
      ]
    },
    {
      "cell_type": "markdown",
      "id": "4555e037",
      "metadata": {
        "id": "4555e037",
        "papermill": {
          "duration": 0.029197,
          "end_time": "2023-03-17T06:24:15.697595",
          "exception": false,
          "start_time": "2023-03-17T06:24:15.668398",
          "status": "completed"
        },
        "tags": []
      },
      "source": [
        "### Loan Status"
      ]
    },
    {
      "cell_type": "code",
      "execution_count": null,
      "id": "3698f51f",
      "metadata": {
        "execution": {
          "iopub.execute_input": "2023-03-17T06:24:15.759210Z",
          "iopub.status.busy": "2023-03-17T06:24:15.758427Z",
          "iopub.status.idle": "2023-03-17T06:24:15.766644Z",
          "shell.execute_reply": "2023-03-17T06:24:15.765539Z"
        },
        "id": "3698f51f",
        "outputId": "29e49674-7c1b-4501-e6bf-b44f7b31f351",
        "papermill": {
          "duration": 0.041833,
          "end_time": "2023-03-17T06:24:15.769107",
          "exception": false,
          "start_time": "2023-03-17T06:24:15.727274",
          "status": "completed"
        },
        "tags": [],
        "colab": {
          "base_uri": "https://localhost:8080/",
          "height": 178
        }
      },
      "outputs": [
        {
          "output_type": "execute_result",
          "data": {
            "text/plain": [
              "Status\n",
              "Y    422\n",
              "N    192\n",
              "Name: count, dtype: int64"
            ],
            "text/html": [
              "<div>\n",
              "<style scoped>\n",
              "    .dataframe tbody tr th:only-of-type {\n",
              "        vertical-align: middle;\n",
              "    }\n",
              "\n",
              "    .dataframe tbody tr th {\n",
              "        vertical-align: top;\n",
              "    }\n",
              "\n",
              "    .dataframe thead th {\n",
              "        text-align: right;\n",
              "    }\n",
              "</style>\n",
              "<table border=\"1\" class=\"dataframe\">\n",
              "  <thead>\n",
              "    <tr style=\"text-align: right;\">\n",
              "      <th></th>\n",
              "      <th>count</th>\n",
              "    </tr>\n",
              "    <tr>\n",
              "      <th>Status</th>\n",
              "      <th></th>\n",
              "    </tr>\n",
              "  </thead>\n",
              "  <tbody>\n",
              "    <tr>\n",
              "      <th>Y</th>\n",
              "      <td>422</td>\n",
              "    </tr>\n",
              "    <tr>\n",
              "      <th>N</th>\n",
              "      <td>192</td>\n",
              "    </tr>\n",
              "  </tbody>\n",
              "</table>\n",
              "</div><br><label><b>dtype:</b> int64</label>"
            ]
          },
          "metadata": {},
          "execution_count": 24
        }
      ],
      "source": [
        "train.Status.value_counts(dropna=False)"
      ]
    },
    {
      "cell_type": "code",
      "execution_count": null,
      "id": "12ff4e11",
      "metadata": {
        "execution": {
          "iopub.execute_input": "2023-03-17T06:24:15.831562Z",
          "iopub.status.busy": "2023-03-17T06:24:15.831121Z",
          "iopub.status.idle": "2023-03-17T06:24:16.000720Z",
          "shell.execute_reply": "2023-03-17T06:24:15.999545Z"
        },
        "id": "12ff4e11",
        "outputId": "3abaa0b0-64f8-4892-d844-712a1cf3af85",
        "papermill": {
          "duration": 0.203706,
          "end_time": "2023-03-17T06:24:16.003259",
          "exception": false,
          "start_time": "2023-03-17T06:24:15.799553",
          "status": "completed"
        },
        "tags": [],
        "colab": {
          "base_uri": "https://localhost:8080/",
          "height": 449
        }
      },
      "outputs": [
        {
          "output_type": "display_data",
          "data": {
            "text/plain": [
              "<Figure size 640x480 with 1 Axes>"
            ],
            "image/png": "[encoded data removed]"
          },
          "metadata": {}
        }
      ],
      "source": [
        "sns.countplot(x = \"Status\", data = train, palette = \"crest\")\n",
        "plt.show()"
      ]
    },
    {
      "cell_type": "code",
      "execution_count": null,
      "id": "de7764fc",
      "metadata": {
        "execution": {
          "iopub.execute_input": "2023-03-17T06:24:16.065561Z",
          "iopub.status.busy": "2023-03-17T06:24:16.065120Z",
          "iopub.status.idle": "2023-03-17T06:24:16.075082Z",
          "shell.execute_reply": "2023-03-17T06:24:16.073918Z"
        },
        "id": "de7764fc",
        "outputId": "326e38ec-0c6a-4e2c-cb05-d2cb6d539212",
        "papermill": {
          "duration": 0.043961,
          "end_time": "2023-03-17T06:24:16.077398",
          "exception": false,
          "start_time": "2023-03-17T06:24:16.033437",
          "status": "completed"
        },
        "tags": [],
        "colab": {
          "base_uri": "https://localhost:8080/"
        }
      },
      "outputs": [
        {
          "output_type": "stream",
          "name": "stdout",
          "text": [
            "Percentage of Approved: 68.73 %\n",
            "Percentage of Rejected: 31.27 %\n",
            "Missing values percentage: 0.00 %\n"
          ]
        }
      ],
      "source": [
        "count_Y = len(train[train.Status == 'Y'])\n",
        "count_N = len(train[train.Status == 'N'])\n",
        "count_null = len(train[train.Status.isnull()])\n",
        "\n",
        "print(\"Percentage of Approved: {:.2f} %\".format((count_Y / (len(train.Status))*100)))\n",
        "print(\"Percentage of Rejected: {:.2f} %\".format((count_N / (len(train.Status))*100)))\n",
        "print(\"Missing values percentage: {:.2f} %\".format((count_null / (len(train.Status))*100)))"
      ]
    },
    {
      "cell_type": "markdown",
      "id": "542246d6",
      "metadata": {
        "id": "542246d6",
        "papermill": {
          "duration": 0.030089,
          "end_time": "2023-03-17T06:24:16.138288",
          "exception": false,
          "start_time": "2023-03-17T06:24:16.108199",
          "status": "completed"
        },
        "tags": []
      },
      "source": [
        "The number of approved loans is higher compared to rejected loans . It also can be seen, there is no missing values in this column."
      ]
    },
    {
      "cell_type": "markdown",
      "id": "0df7c8bf",
      "metadata": {
        "id": "0df7c8bf",
        "papermill": {
          "duration": 0.029935,
          "end_time": "2023-03-17T06:24:16.198484",
          "exception": false,
          "start_time": "2023-03-17T06:24:16.168549",
          "status": "completed"
        },
        "tags": []
      },
      "source": [
        "### Loan Amount Term"
      ]
    },
    {
      "cell_type": "code",
      "execution_count": null,
      "id": "9932220b",
      "metadata": {
        "execution": {
          "iopub.execute_input": "2023-03-17T06:24:16.261221Z",
          "iopub.status.busy": "2023-03-17T06:24:16.260762Z",
          "iopub.status.idle": "2023-03-17T06:24:16.270607Z",
          "shell.execute_reply": "2023-03-17T06:24:16.269656Z"
        },
        "id": "9932220b",
        "outputId": "3fb80e72-d863-444a-a448-03b3b64d48e5",
        "papermill": {
          "duration": 0.043815,
          "end_time": "2023-03-17T06:24:16.272723",
          "exception": false,
          "start_time": "2023-03-17T06:24:16.228908",
          "status": "completed"
        },
        "tags": [],
        "colab": {
          "base_uri": "https://localhost:8080/",
          "height": 460
        }
      },
      "outputs": [
        {
          "output_type": "execute_result",
          "data": {
            "text/plain": [
              "Term\n",
              "360.0    512\n",
              "180.0     44\n",
              "480.0     15\n",
              "NaN       14\n",
              "300.0     13\n",
              "240.0      4\n",
              "84.0       4\n",
              "120.0      3\n",
              "60.0       2\n",
              "36.0       2\n",
              "12.0       1\n",
              "Name: count, dtype: int64"
            ],
            "text/html": [
              "<div>\n",
              "<style scoped>\n",
              "    .dataframe tbody tr th:only-of-type {\n",
              "        vertical-align: middle;\n",
              "    }\n",
              "\n",
              "    .dataframe tbody tr th {\n",
              "        vertical-align: top;\n",
              "    }\n",
              "\n",
              "    .dataframe thead th {\n",
              "        text-align: right;\n",
              "    }\n",
              "</style>\n",
              "<table border=\"1\" class=\"dataframe\">\n",
              "  <thead>\n",
              "    <tr style=\"text-align: right;\">\n",
              "      <th></th>\n",
              "      <th>count</th>\n",
              "    </tr>\n",
              "    <tr>\n",
              "      <th>Term</th>\n",
              "      <th></th>\n",
              "    </tr>\n",
              "  </thead>\n",
              "  <tbody>\n",
              "    <tr>\n",
              "      <th>360.0</th>\n",
              "      <td>512</td>\n",
              "    </tr>\n",
              "    <tr>\n",
              "      <th>180.0</th>\n",
              "      <td>44</td>\n",
              "    </tr>\n",
              "    <tr>\n",
              "      <th>480.0</th>\n",
              "      <td>15</td>\n",
              "    </tr>\n",
              "    <tr>\n",
              "      <th>NaN</th>\n",
              "      <td>14</td>\n",
              "    </tr>\n",
              "    <tr>\n",
              "      <th>300.0</th>\n",
              "      <td>13</td>\n",
              "    </tr>\n",
              "    <tr>\n",
              "      <th>240.0</th>\n",
              "      <td>4</td>\n",
              "    </tr>\n",
              "    <tr>\n",
              "      <th>84.0</th>\n",
              "      <td>4</td>\n",
              "    </tr>\n",
              "    <tr>\n",
              "      <th>120.0</th>\n",
              "      <td>3</td>\n",
              "    </tr>\n",
              "    <tr>\n",
              "      <th>60.0</th>\n",
              "      <td>2</td>\n",
              "    </tr>\n",
              "    <tr>\n",
              "      <th>36.0</th>\n",
              "      <td>2</td>\n",
              "    </tr>\n",
              "    <tr>\n",
              "      <th>12.0</th>\n",
              "      <td>1</td>\n",
              "    </tr>\n",
              "  </tbody>\n",
              "</table>\n",
              "</div><br><label><b>dtype:</b> int64</label>"
            ]
          },
          "metadata": {},
          "execution_count": 27
        }
      ],
      "source": [
        "train.Term.value_counts(dropna=False)"
      ]
    },
    {
      "cell_type": "code",
      "execution_count": null,
      "id": "0e0a2068",
      "metadata": {
        "execution": {
          "iopub.execute_input": "2023-03-17T06:24:16.336246Z",
          "iopub.status.busy": "2023-03-17T06:24:16.335778Z",
          "iopub.status.idle": "2023-03-17T06:24:16.547461Z",
          "shell.execute_reply": "2023-03-17T06:24:16.546201Z"
        },
        "id": "0e0a2068",
        "outputId": "61339e1e-8967-4cfb-e36f-632ee401fa2a",
        "papermill": {
          "duration": 0.246439,
          "end_time": "2023-03-17T06:24:16.550118",
          "exception": false,
          "start_time": "2023-03-17T06:24:16.303679",
          "status": "completed"
        },
        "tags": [],
        "colab": {
          "base_uri": "https://localhost:8080/",
          "height": 449
        }
      },
      "outputs": [
        {
          "output_type": "display_data",
          "data": {
            "text/plain": [
              "<Figure size 640x480 with 1 Axes>"
            ],
            "image/png": "[encoded data removed]"
          },
          "metadata": {}
        }
      ],
      "source": [
        "sns.countplot(x = \"Term\", data = train, palette = \"crest\")\n",
        "plt.show()"
      ]
    },
    {
      "cell_type": "code",
      "execution_count": null,
      "id": "01277aa0",
      "metadata": {
        "execution": {
          "iopub.execute_input": "2023-03-17T06:24:16.614465Z",
          "iopub.status.busy": "2023-03-17T06:24:16.614019Z",
          "iopub.status.idle": "2023-03-17T06:24:16.623854Z",
          "shell.execute_reply": "2023-03-17T06:24:16.622648Z"
        },
        "id": "01277aa0",
        "outputId": "0ed35d2f-66fc-470c-bd69-7f14ce9b3980",
        "papermill": {
          "duration": 0.044913,
          "end_time": "2023-03-17T06:24:16.626237",
          "exception": false,
          "start_time": "2023-03-17T06:24:16.581324",
          "status": "completed"
        },
        "tags": [],
        "colab": {
          "base_uri": "https://localhost:8080/",
          "height": 429
        }
      },
      "outputs": [
        {
          "output_type": "execute_result",
          "data": {
            "text/plain": [
              "Term\n",
              "360.0    83.387622\n",
              "180.0     7.166124\n",
              "480.0     2.442997\n",
              "300.0     2.117264\n",
              "240.0     0.651466\n",
              "84.0      0.651466\n",
              "120.0     0.488599\n",
              "60.0      0.325733\n",
              "36.0      0.325733\n",
              "12.0      0.162866\n",
              "Name: count, dtype: float64"
            ],
            "text/html": [
              "<div>\n",
              "<style scoped>\n",
              "    .dataframe tbody tr th:only-of-type {\n",
              "        vertical-align: middle;\n",
              "    }\n",
              "\n",
              "    .dataframe tbody tr th {\n",
              "        vertical-align: top;\n",
              "    }\n",
              "\n",
              "    .dataframe thead th {\n",
              "        text-align: right;\n",
              "    }\n",
              "</style>\n",
              "<table border=\"1\" class=\"dataframe\">\n",
              "  <thead>\n",
              "    <tr style=\"text-align: right;\">\n",
              "      <th></th>\n",
              "      <th>count</th>\n",
              "    </tr>\n",
              "    <tr>\n",
              "      <th>Term</th>\n",
              "      <th></th>\n",
              "    </tr>\n",
              "  </thead>\n",
              "  <tbody>\n",
              "    <tr>\n",
              "      <th>360.0</th>\n",
              "      <td>83.387622</td>\n",
              "    </tr>\n",
              "    <tr>\n",
              "      <th>180.0</th>\n",
              "      <td>7.166124</td>\n",
              "    </tr>\n",
              "    <tr>\n",
              "      <th>480.0</th>\n",
              "      <td>2.442997</td>\n",
              "    </tr>\n",
              "    <tr>\n",
              "      <th>300.0</th>\n",
              "      <td>2.117264</td>\n",
              "    </tr>\n",
              "    <tr>\n",
              "      <th>240.0</th>\n",
              "      <td>0.651466</td>\n",
              "    </tr>\n",
              "    <tr>\n",
              "      <th>84.0</th>\n",
              "      <td>0.651466</td>\n",
              "    </tr>\n",
              "    <tr>\n",
              "      <th>120.0</th>\n",
              "      <td>0.488599</td>\n",
              "    </tr>\n",
              "    <tr>\n",
              "      <th>60.0</th>\n",
              "      <td>0.325733</td>\n",
              "    </tr>\n",
              "    <tr>\n",
              "      <th>36.0</th>\n",
              "      <td>0.325733</td>\n",
              "    </tr>\n",
              "    <tr>\n",
              "      <th>12.0</th>\n",
              "      <td>0.162866</td>\n",
              "    </tr>\n",
              "  </tbody>\n",
              "</table>\n",
              "</div><br><label><b>dtype:</b> float64</label>"
            ]
          },
          "metadata": {},
          "execution_count": 29
        }
      ],
      "source": [
        "train.Term.value_counts()/len(train) * 100"
      ]
    },
    {
      "cell_type": "markdown",
      "id": "bcd60151",
      "metadata": {
        "id": "bcd60151",
        "papermill": {
          "duration": 0.031066,
          "end_time": "2023-03-17T06:24:16.689541",
          "exception": false,
          "start_time": "2023-03-17T06:24:16.658475",
          "status": "completed"
        },
        "tags": []
      },
      "source": [
        "As can be seen from the results, the 360 days loan duration is the most popular compared to others."
      ]
    },
    {
      "cell_type": "markdown",
      "id": "f6911937",
      "metadata": {
        "id": "f6911937",
        "papermill": {
          "duration": 0.030933,
          "end_time": "2023-03-17T06:24:16.751781",
          "exception": false,
          "start_time": "2023-03-17T06:24:16.720848",
          "status": "completed"
        },
        "tags": []
      },
      "source": [
        "## Numerical Variable"
      ]
    },
    {
      "cell_type": "markdown",
      "id": "47408128",
      "metadata": {
        "id": "47408128",
        "papermill": {
          "duration": 0.030753,
          "end_time": "2023-03-17T06:24:16.813795",
          "exception": false,
          "start_time": "2023-03-17T06:24:16.783042",
          "status": "completed"
        },
        "tags": []
      },
      "source": [
        "### Describing Numerical Variable\n"
      ]
    },
    {
      "cell_type": "code",
      "execution_count": null,
      "id": "0b1a3bad",
      "metadata": {
        "execution": {
          "iopub.execute_input": "2023-03-17T06:24:16.878760Z",
          "iopub.status.busy": "2023-03-17T06:24:16.877579Z",
          "iopub.status.idle": "2023-03-17T06:24:16.902992Z",
          "shell.execute_reply": "2023-03-17T06:24:16.901945Z"
        },
        "id": "0b1a3bad",
        "outputId": "53aaef97-9ba5-40b5-ea4f-4c0704518d47",
        "papermill": {
          "duration": 0.06051,
          "end_time": "2023-03-17T06:24:16.905403",
          "exception": false,
          "start_time": "2023-03-17T06:24:16.844893",
          "status": "completed"
        },
        "tags": [],
        "colab": {
          "base_uri": "https://localhost:8080/",
          "height": 300
        }
      },
      "outputs": [
        {
          "output_type": "execute_result",
          "data": {
            "text/plain": [
              "       Applicant_Income  Coapplicant_Income   Loan_Amount\n",
              "count      6.140000e+02        6.140000e+02  6.140000e+02\n",
              "mean       5.403459e+05        1.621246e+05  1.414104e+07\n",
              "std        6.109042e+05        2.926248e+05  8.815682e+06\n",
              "min        1.500000e+04        0.000000e+00  0.000000e+00\n",
              "25%        2.877500e+05        0.000000e+00  9.800000e+06\n",
              "50%        3.812500e+05        1.188500e+05  1.250000e+07\n",
              "75%        5.795000e+05        2.297250e+05  1.647500e+07\n",
              "max        8.100000e+06        4.166700e+06  7.000000e+07"
            ],
            "text/html": [
              "\n",
              "  <div id=\"df-0c239615-24b8-4b0b-9da9-d2fdd561602e\" class=\"colab-df-container\">\n",
              "    <div>\n",
              "<style scoped>\n",
              "    .dataframe tbody tr th:only-of-type {\n",
              "        vertical-align: middle;\n",
              "    }\n",
              "\n",
              "    .dataframe tbody tr th {\n",
              "        vertical-align: top;\n",
              "    }\n",
              "\n",
              "    .dataframe thead th {\n",
              "        text-align: right;\n",
              "    }\n",
              "</style>\n",
              "<table border=\"1\" class=\"dataframe\">\n",
              "  <thead>\n",
              "    <tr style=\"text-align: right;\">\n",
              "      <th></th>\n",
              "      <th>Applicant_Income</th>\n",
              "      <th>Coapplicant_Income</th>\n",
              "      <th>Loan_Amount</th>\n",
              "    </tr>\n",
              "  </thead>\n",
              "  <tbody>\n",
              "    <tr>\n",
              "      <th>count</th>\n",
              "      <td>6.140000e+02</td>\n",
              "      <td>6.140000e+02</td>\n",
              "      <td>6.140000e+02</td>\n",
              "    </tr>\n",
              "    <tr>\n",
              "      <th>mean</th>\n",
              "      <td>5.403459e+05</td>\n",
              "      <td>1.621246e+05</td>\n",
              "      <td>1.414104e+07</td>\n",
              "    </tr>\n",
              "    <tr>\n",
              "      <th>std</th>\n",
              "      <td>6.109042e+05</td>\n",
              "      <td>2.926248e+05</td>\n",
              "      <td>8.815682e+06</td>\n",
              "    </tr>\n",
              "    <tr>\n",
              "      <th>min</th>\n",
              "      <td>1.500000e+04</td>\n",
              "      <td>0.000000e+00</td>\n",
              "      <td>0.000000e+00</td>\n",
              "    </tr>\n",
              "    <tr>\n",
              "      <th>25%</th>\n",
              "      <td>2.877500e+05</td>\n",
              "      <td>0.000000e+00</td>\n",
              "      <td>9.800000e+06</td>\n",
              "    </tr>\n",
              "    <tr>\n",
              "      <th>50%</th>\n",
              "      <td>3.812500e+05</td>\n",
              "      <td>1.188500e+05</td>\n",
              "      <td>1.250000e+07</td>\n",
              "    </tr>\n",
              "    <tr>\n",
              "      <th>75%</th>\n",
              "      <td>5.795000e+05</td>\n",
              "      <td>2.297250e+05</td>\n",
              "      <td>1.647500e+07</td>\n",
              "    </tr>\n",
              "    <tr>\n",
              "      <th>max</th>\n",
              "      <td>8.100000e+06</td>\n",
              "      <td>4.166700e+06</td>\n",
              "      <td>7.000000e+07</td>\n",
              "    </tr>\n",
              "  </tbody>\n",
              "</table>\n",
              "</div>\n",
              "    <div class=\"colab-df-buttons\">\n",
              "\n",
              "  <div class=\"colab-df-container\">\n",
              "    <button class=\"colab-df-convert\" onclick=\"convertToInteractive('df-0c239615-24b8-4b0b-9da9-d2fdd561602e')\"\n",
              "            title=\"Convert this dataframe to an interactive table.\"\n",
              "            style=\"display:none;\">\n",
              "\n",
              "  <svg xmlns=\"http://www.w3.org/2000/svg\" height=\"24px\" viewBox=\"0 -960 960 960\">\n",
              "    <path d=\"M120-120v-720h720v720H120Zm60-500h600v-160H180v160Zm220 220h160v-160H400v160Zm0 220h160v-160H400v160ZM180-400h160v-160H180v160Zm440 0h160v-160H620v160ZM180-180h160v-160H180v160Zm440 0h160v-160H620v160Z\"/>\n",
              "  </svg>\n",
              "    </button>\n",
              "\n",
              "  <style>\n",
              "    .colab-df-container {\n",
              "      display:flex;\n",
              "      gap: 12px;\n",
              "    }\n",
              "\n",
              "    .colab-df-convert {\n",
              "      background-color: #E8F0FE;\n",
              "      border: none;\n",
              "      border-radius: 50%;\n",
              "      cursor: pointer;\n",
              "      display: none;\n",
              "      fill: #1967D2;\n",
              "      height: 32px;\n",
              "      padding: 0 0 0 0;\n",
              "      width: 32px;\n",
              "    }\n",
              "\n",
              "    .colab-df-convert:hover {\n",
              "      background-color: #E2EBFA;\n",
              "      box-shadow: 0px 1px 2px rgba(60, 64, 67, 0.3), 0px 1px 3px 1px rgba(60, 64, 67, 0.15);\n",
              "      fill: #174EA6;\n",
              "    }\n",
              "\n",
              "    .colab-df-buttons div {\n",
              "      margin-bottom: 4px;\n",
              "    }\n",
              "\n",
              "    [theme=dark] .colab-df-convert {\n",
              "      background-color: #3B4455;\n",
              "      fill: #D2E3FC;\n",
              "    }\n",
              "\n",
              "    [theme=dark] .colab-df-convert:hover {\n",
              "      background-color: #434B5C;\n",
              "      box-shadow: 0px 1px 3px 1px rgba(0, 0, 0, 0.15);\n",
              "      filter: drop-shadow(0px 1px 2px rgba(0, 0, 0, 0.3));\n",
              "      fill: #FFFFFF;\n",
              "    }\n",
              "  </style>\n",
              "\n",
              "    <script>\n",
              "      const buttonEl =\n",
              "        document.querySelector('#df-0c239615-24b8-4b0b-9da9-d2fdd561602e button.colab-df-convert');\n",
              "      buttonEl.style.display =\n",
              "        google.colab.kernel.accessAllowed ? 'block' : 'none';\n",
              "\n",
              "      async function convertToInteractive(key) {\n",
              "        const element = document.querySelector('#df-0c239615-24b8-4b0b-9da9-d2fdd561602e');\n",
              "        const dataTable =\n",
              "          await google.colab.kernel.invokeFunction('convertToInteractive',\n",
              "                                                    [key], {});\n",
              "        if (!dataTable) return;\n",
              "\n",
              "        const docLinkHtml = 'Like what you see? Visit the ' +\n",
              "          '<a target=\"_blank\" href=https://colab.research.google.com/notebooks/data_table.ipynb>data table notebook</a>'\n",
              "          + ' to learn more about interactive tables.';\n",
              "        element.innerHTML = '';\n",
              "        dataTable['output_type'] = 'display_data';\n",
              "        await google.colab.output.renderOutput(dataTable, element);\n",
              "        const docLink = document.createElement('div');\n",
              "        docLink.innerHTML = docLinkHtml;\n",
              "        element.appendChild(docLink);\n",
              "      }\n",
              "    </script>\n",
              "  </div>\n",
              "\n",
              "\n",
              "<div id=\"df-f87e25fc-8e8b-4b90-98bb-3db168e76ffc\">\n",
              "  <button class=\"colab-df-quickchart\" onclick=\"quickchart('df-f87e25fc-8e8b-4b90-98bb-3db168e76ffc')\"\n",
              "            title=\"Suggest charts\"\n",
              "            style=\"display:none;\">\n",
              "\n",
              "<svg xmlns=\"http://www.w3.org/2000/svg\" height=\"24px\"viewBox=\"0 0 24 24\"\n",
              "     width=\"24px\">\n",
              "    <g>\n",
              "        <path d=\"M19 3H5c-1.1 0-2 .9-2 2v14c0 1.1.9 2 2 2h14c1.1 0 2-.9 2-2V5c0-1.1-.9-2-2-2zM9 17H7v-7h2v7zm4 0h-2V7h2v10zm4 0h-2v-4h2v4z\"/>\n",
              "    </g>\n",
              "</svg>\n",
              "  </button>\n",
              "\n",
              "<style>\n",
              "  .colab-df-quickchart {\n",
              "      --bg-color: #E8F0FE;\n",
              "      --fill-color: #1967D2;\n",
              "      --hover-bg-color: #E2EBFA;\n",
              "      --hover-fill-color: #174EA6;\n",
              "      --disabled-fill-color: #AAA;\n",
              "      --disabled-bg-color: #DDD;\n",
              "  }\n",
              "\n",
              "  [theme=dark] .colab-df-quickchart {\n",
              "      --bg-color: #3B4455;\n",
              "      --fill-color: #D2E3FC;\n",
              "      --hover-bg-color: #434B5C;\n",
              "      --hover-fill-color: #FFFFFF;\n",
              "      --disabled-bg-color: #3B4455;\n",
              "      --disabled-fill-color: #666;\n",
              "  }\n",
              "\n",
              "  .colab-df-quickchart {\n",
              "    background-color: var(--bg-color);\n",
              "    border: none;\n",
              "    border-radius: 50%;\n",
              "    cursor: pointer;\n",
              "    display: none;\n",
              "    fill: var(--fill-color);\n",
              "    height: 32px;\n",
              "    padding: 0;\n",
              "    width: 32px;\n",
              "  }\n",
              "\n",
              "  .colab-df-quickchart:hover {\n",
              "    background-color: var(--hover-bg-color);\n",
              "    box-shadow: 0 1px 2px rgba(60, 64, 67, 0.3), 0 1px 3px 1px rgba(60, 64, 67, 0.15);\n",
              "    fill: var(--button-hover-fill-color);\n",
              "  }\n",
              "\n",
              "  .colab-df-quickchart-complete:disabled,\n",
              "  .colab-df-quickchart-complete:disabled:hover {\n",
              "    background-color: var(--disabled-bg-color);\n",
              "    fill: var(--disabled-fill-color);\n",
              "    box-shadow: none;\n",
              "  }\n",
              "\n",
              "  .colab-df-spinner {\n",
              "    border: 2px solid var(--fill-color);\n",
              "    border-color: transparent;\n",
              "    border-bottom-color: var(--fill-color);\n",
              "    animation:\n",
              "      spin 1s steps(1) infinite;\n",
              "  }\n",
              "\n",
              "  @keyframes spin {\n",
              "    0% {\n",
              "      border-color: transparent;\n",
              "      border-bottom-color: var(--fill-color);\n",
              "      border-left-color: var(--fill-color);\n",
              "    }\n",
              "    20% {\n",
              "      border-color: transparent;\n",
              "      border-left-color: var(--fill-color);\n",
              "      border-top-color: var(--fill-color);\n",
              "    }\n",
              "    30% {\n",
              "      border-color: transparent;\n",
              "      border-left-color: var(--fill-color);\n",
              "      border-top-color: var(--fill-color);\n",
              "      border-right-color: var(--fill-color);\n",
              "    }\n",
              "    40% {\n",
              "      border-color: transparent;\n",
              "      border-right-color: var(--fill-color);\n",
              "      border-top-color: var(--fill-color);\n",
              "    }\n",
              "    60% {\n",
              "      border-color: transparent;\n",
              "      border-right-color: var(--fill-color);\n",
              "    }\n",
              "    80% {\n",
              "      border-color: transparent;\n",
              "      border-right-color: var(--fill-color);\n",
              "      border-bottom-color: var(--fill-color);\n",
              "    }\n",
              "    90% {\n",
              "      border-color: transparent;\n",
              "      border-bottom-color: var(--fill-color);\n",
              "    }\n",
              "  }\n",
              "</style>\n",
              "\n",
              "  <script>\n",
              "    async function quickchart(key) {\n",
              "      const quickchartButtonEl =\n",
              "        document.querySelector('#' + key + ' button');\n",
              "      quickchartButtonEl.disabled = true;  // To prevent multiple clicks.\n",
              "      quickchartButtonEl.classList.add('colab-df-spinner');\n",
              "      try {\n",
              "        const charts = await google.colab.kernel.invokeFunction(\n",
              "            'suggestCharts', [key], {});\n",
              "      } catch (error) {\n",
              "        console.error('Error during call to suggestCharts:', error);\n",
              "      }\n",
              "      quickchartButtonEl.classList.remove('colab-df-spinner');\n",
              "      quickchartButtonEl.classList.add('colab-df-quickchart-complete');\n",
              "    }\n",
              "    (() => {\n",
              "      let quickchartButtonEl =\n",
              "        document.querySelector('#df-f87e25fc-8e8b-4b90-98bb-3db168e76ffc button');\n",
              "      quickchartButtonEl.style.display =\n",
              "        google.colab.kernel.accessAllowed ? 'block' : 'none';\n",
              "    })();\n",
              "  </script>\n",
              "</div>\n",
              "\n",
              "    </div>\n",
              "  </div>\n"
            ],
            "application/vnd.google.colaboratory.intrinsic+json": {
              "type": "dataframe",
              "summary": "{\n  \"name\": \"train[['Applicant_Income','Coapplicant_Income','Loan_Amount']]\",\n  \"rows\": 8,\n  \"fields\": [\n    {\n      \"column\": \"Applicant_Income\",\n      \"properties\": {\n        \"dtype\": \"number\",\n        \"std\": 2752084.005618215,\n        \"min\": 614.0,\n        \"max\": 8100000.0,\n        \"num_unique_values\": 8,\n        \"samples\": [\n          540345.9283387623,\n          381250.0,\n          614.0\n        ],\n        \"semantic_type\": \"\",\n        \"description\": \"\"\n      }\n    },\n    {\n      \"column\": \"Coapplicant_Income\",\n      \"properties\": {\n        \"dtype\": \"number\",\n        \"std\": 1436851.5211070308,\n        \"min\": 0.0,\n        \"max\": 4166700.0,\n        \"num_unique_values\": 7,\n        \"samples\": [\n          614.0,\n          162124.5798027101,\n          229725.0\n        ],\n        \"semantic_type\": \"\",\n        \"description\": \"\"\n      }\n    },\n    {\n      \"column\": \"Loan_Amount\",\n      \"properties\": {\n        \"dtype\": \"number\",\n        \"std\": 22463382.346984398,\n        \"min\": 0.0,\n        \"max\": 70000000.0,\n        \"num_unique_values\": 8,\n        \"samples\": [\n          14141042.345276874,\n          12500000.0,\n          614.0\n        ],\n        \"semantic_type\": \"\",\n        \"description\": \"\"\n      }\n    }\n  ]\n}"
            }
          },
          "metadata": {},
          "execution_count": 30
        }
      ],
      "source": [
        "train[['Applicant_Income','Coapplicant_Income','Loan_Amount']].describe()"
      ]
    },
    {
      "cell_type": "markdown",
      "id": "c00ff89e",
      "metadata": {
        "id": "c00ff89e",
        "papermill": {
          "duration": 0.030923,
          "end_time": "2023-03-17T06:24:16.968056",
          "exception": false,
          "start_time": "2023-03-17T06:24:16.937133",
          "status": "completed"
        },
        "tags": []
      },
      "source": [
        "### Distribution of Numerical Variables"
      ]
    },
    {
      "cell_type": "markdown",
      "id": "ab367031",
      "metadata": {
        "id": "ab367031",
        "papermill": {
          "duration": 0.031032,
          "end_time": "2023-03-17T06:24:17.030473",
          "exception": false,
          "start_time": "2023-03-17T06:24:16.999441",
          "status": "completed"
        },
        "tags": []
      },
      "source": [
        "#### Histogram Distribution"
      ]
    },
    {
      "cell_type": "code",
      "execution_count": null,
      "id": "faee6d05",
      "metadata": {
        "execution": {
          "iopub.execute_input": "2023-03-17T06:24:17.095702Z",
          "iopub.status.busy": "2023-03-17T06:24:17.094565Z",
          "iopub.status.idle": "2023-03-17T06:24:18.366691Z",
          "shell.execute_reply": "2023-03-17T06:24:18.365499Z"
        },
        "id": "faee6d05",
        "outputId": "7b317a28-7cfd-460c-c723-b866f746320b",
        "papermill": {
          "duration": 1.307506,
          "end_time": "2023-03-17T06:24:18.369306",
          "exception": false,
          "start_time": "2023-03-17T06:24:17.061800",
          "status": "completed"
        },
        "tags": [],
        "colab": {
          "base_uri": "https://localhost:8080/",
          "height": 707
        }
      },
      "outputs": [
        {
          "output_type": "display_data",
          "data": {
            "text/plain": [
              "<Figure size 1000x800 with 3 Axes>"
            ],
            "image/png": "[encoded data removed]"
          },
          "metadata": {}
        }
      ],
      "source": [
        "sns.set(style = \"darkgrid\")\n",
        "fig, axs = plt.subplots(1, 3, figsize=(10, 8))\n",
        "plt.subplot(1,3,1)\n",
        "sns.histplot(data = train, x = \"Applicant_Income\", kde = True, color = 'green')\n",
        "plt.subplot(1,3,2)\n",
        "sns.histplot(data = train, x = \"Coapplicant_Income\", kde = True, color = 'skyblue')\n",
        "plt.subplot(1,3,3)\n",
        "sns.histplot(data = train, x = \"Loan_Amount\", kde = True, color = 'orange');"
      ]
    },
    {
      "cell_type": "markdown",
      "id": "8e72f5ad",
      "metadata": {
        "id": "8e72f5ad",
        "papermill": {
          "duration": 0.03284,
          "end_time": "2023-03-17T06:24:18.435528",
          "exception": false,
          "start_time": "2023-03-17T06:24:18.402688",
          "status": "completed"
        },
        "tags": []
      },
      "source": [
        "#### Violin Plot"
      ]
    },
    {
      "cell_type": "code",
      "execution_count": null,
      "id": "4ba0598a",
      "metadata": {
        "execution": {
          "iopub.execute_input": "2023-03-17T06:24:18.505060Z",
          "iopub.status.busy": "2023-03-17T06:24:18.504306Z",
          "iopub.status.idle": "2023-03-17T06:24:18.969172Z",
          "shell.execute_reply": "2023-03-17T06:24:18.967730Z"
        },
        "id": "4ba0598a",
        "outputId": "25a8aa51-348b-4965-98bd-6e9acf89f6e4",
        "papermill": {
          "duration": 0.502861,
          "end_time": "2023-03-17T06:24:18.971920",
          "exception": false,
          "start_time": "2023-03-17T06:24:18.469059",
          "status": "completed"
        },
        "tags": [],
        "colab": {
          "base_uri": "https://localhost:8080/",
          "height": 823
        }
      },
      "outputs": [
        {
          "output_type": "display_data",
          "data": {
            "text/plain": [
              "<Figure size 1000x1000 with 3 Axes>"
            ],
            "image/png": "[encoded data removed]"
          },
          "metadata": {}
        }
      ],
      "source": [
        "sns.set(style=\"darkgrid\")\n",
        "fig, axs1 = plt.subplots(1, 3, figsize=(10, 10))\n",
        "plt.subplot(1,3,1)\n",
        "sns.violinplot(data = train, y = \"Applicant_Income\", color = 'green')\n",
        "plt.subplot(1,3,2)\n",
        "sns.violinplot(data = train, y = \"Coapplicant_Income\", color='skyblue')\n",
        "plt.subplot(1,3,3)\n",
        "sns.violinplot(data = train, y = \"Loan_Amount\", color='orange');"
      ]
    },
    {
      "cell_type": "markdown",
      "id": "147f9bfd",
      "metadata": {
        "id": "147f9bfd",
        "papermill": {
          "duration": 0.033666,
          "end_time": "2023-03-17T06:24:19.040340",
          "exception": false,
          "start_time": "2023-03-17T06:24:19.006674",
          "status": "completed"
        },
        "tags": []
      },
      "source": [
        "The distribution of Applicant_income, Co_Applicant Income, and Loan_Amount are positively skewed and contains outliers.\n",
        "\n",
        "The distribution of Loan_Amount Term is negativly skewed and contain outliers as well.\n",
        "\n"
      ]
    },
    {
      "cell_type": "markdown",
      "id": "cbc5b84c",
      "metadata": {
        "id": "cbc5b84c",
        "papermill": {
          "duration": 0.033664,
          "end_time": "2023-03-17T06:24:19.107954",
          "exception": false,
          "start_time": "2023-03-17T06:24:19.074290",
          "status": "completed"
        },
        "tags": []
      },
      "source": [
        "## Other Viz.\n"
      ]
    },
    {
      "cell_type": "markdown",
      "id": "08cc1204",
      "metadata": {
        "id": "08cc1204",
        "papermill": {
          "duration": 0.033771,
          "end_time": "2023-03-17T06:24:19.176419",
          "exception": false,
          "start_time": "2023-03-17T06:24:19.142648",
          "status": "completed"
        },
        "tags": []
      },
      "source": [
        "### Heatmap"
      ]
    },
    {
      "cell_type": "code",
      "execution_count": null,
      "id": "ef4730f9",
      "metadata": {
        "execution": {
          "iopub.execute_input": "2023-03-17T06:24:19.246742Z",
          "iopub.status.busy": "2023-03-17T06:24:19.246340Z",
          "iopub.status.idle": "2023-03-17T06:24:19.653275Z",
          "shell.execute_reply": "2023-03-17T06:24:19.651999Z"
        },
        "id": "ef4730f9",
        "outputId": "6f8a8342-dd4c-4c2d-842d-b38e8500331d",
        "papermill": {
          "duration": 0.445849,
          "end_time": "2023-03-17T06:24:19.656154",
          "exception": false,
          "start_time": "2023-03-17T06:24:19.210305",
          "status": "completed"
        },
        "tags": [],
        "colab": {
          "base_uri": "https://localhost:8080/",
          "height": 596
        }
      },
      "outputs": [
        {
          "output_type": "display_data",
          "data": {
            "text/plain": [
              "<Figure size 1000x500 with 2 Axes>"
            ],
            "image/png": "[encoded data removed]"
          },
          "metadata": {}
        }
      ],
      "source": [
        "train_numeric = train.select_dtypes(include=[float, int])\n",
        "\n",
        "plt.figure(figsize=(10, 5))\n",
        "sns.heatmap(train_numeric.corr(), annot=True)\n",
        "plt.show()"
      ]
    },
    {
      "cell_type": "markdown",
      "id": "990382ef",
      "metadata": {
        "id": "990382ef",
        "papermill": {
          "duration": 0.035226,
          "end_time": "2023-03-17T06:24:19.728321",
          "exception": false,
          "start_time": "2023-03-17T06:24:19.693095",
          "status": "completed"
        },
        "tags": []
      },
      "source": [
        "We observe positive correlation between Loan Amount and Applicant Income."
      ]
    },
    {
      "cell_type": "markdown",
      "id": "0a949ae8",
      "metadata": {
        "id": "0a949ae8",
        "papermill": {
          "duration": 0.035855,
          "end_time": "2023-03-17T06:24:19.801736",
          "exception": false,
          "start_time": "2023-03-17T06:24:19.765881",
          "status": "completed"
        },
        "tags": []
      },
      "source": [
        "### Categorical v/s Categorical"
      ]
    },
    {
      "cell_type": "code",
      "execution_count": null,
      "id": "e1c0af5d",
      "metadata": {
        "execution": {
          "iopub.execute_input": "2023-03-17T06:24:19.876224Z",
          "iopub.status.busy": "2023-03-17T06:24:19.875710Z",
          "iopub.status.idle": "2023-03-17T06:24:20.158082Z",
          "shell.execute_reply": "2023-03-17T06:24:20.156903Z"
        },
        "id": "e1c0af5d",
        "outputId": "4321dc65-5daf-4237-f7de-cbbb27eb3763",
        "papermill": {
          "duration": 0.322527,
          "end_time": "2023-03-17T06:24:20.160591",
          "exception": false,
          "start_time": "2023-03-17T06:24:19.838064",
          "status": "completed"
        },
        "tags": [],
        "colab": {
          "base_uri": "https://localhost:8080/",
          "height": 480
        }
      },
      "outputs": [
        {
          "output_type": "display_data",
          "data": {
            "text/plain": [
              "<Figure size 640x480 with 1 Axes>"
            ],
            "image/png": "[encoded data removed]"
          },
          "metadata": {}
        }
      ],
      "source": [
        "pd.crosstab(train.Gender, train.Married).plot(kind = \"bar\", stacked = True)\n",
        "plt.title('Gender vs Married')\n",
        "plt.xlabel('Gender')\n",
        "plt.ylabel('Frequency')\n",
        "plt.xticks(rotation = 0)\n",
        "plt.show()"
      ]
    },
    {
      "cell_type": "markdown",
      "id": "4d475c3a",
      "metadata": {
        "id": "4d475c3a",
        "papermill": {
          "duration": 0.037623,
          "end_time": "2023-03-17T06:24:20.236517",
          "exception": false,
          "start_time": "2023-03-17T06:24:20.198894",
          "status": "completed"
        },
        "tags": []
      },
      "source": [
        "Most male applicants are already married compared to female applicants. Also, the number of not married male applicants are higher compare to female applicants that had not married."
      ]
    },
    {
      "cell_type": "code",
      "execution_count": null,
      "id": "1fe9d29f",
      "metadata": {
        "execution": {
          "iopub.execute_input": "2023-03-17T06:24:20.313897Z",
          "iopub.status.busy": "2023-03-17T06:24:20.312475Z",
          "iopub.status.idle": "2023-03-17T06:24:20.532731Z",
          "shell.execute_reply": "2023-03-17T06:24:20.531493Z"
        },
        "id": "1fe9d29f",
        "outputId": "48f62f60-13bf-4aeb-a390-a0ce9bba4494",
        "papermill": {
          "duration": 0.261367,
          "end_time": "2023-03-17T06:24:20.535376",
          "exception": false,
          "start_time": "2023-03-17T06:24:20.274009",
          "status": "completed"
        },
        "tags": [],
        "colab": {
          "base_uri": "https://localhost:8080/",
          "height": 480
        }
      },
      "outputs": [
        {
          "output_type": "display_data",
          "data": {
            "text/plain": [
              "<Figure size 640x480 with 1 Axes>"
            ],
            "image/png": "[encoded data removed]"
          },
          "metadata": {}
        }
      ],
      "source": [
        "pd.crosstab(train.Self_Employed, train.Credit_History).plot(kind = \"bar\", stacked = True)\n",
        "plt.title('Self Employed vs Credit History')\n",
        "plt.xlabel('Self Employed')\n",
        "plt.ylabel('Frequency')\n",
        "plt.legend([\"Bad Credit\", \"Good Credit\"])\n",
        "plt.xticks(rotation = 0)\n",
        "plt.show()"
      ]
    },
    {
      "cell_type": "markdown",
      "id": "af023f26",
      "metadata": {
        "id": "af023f26",
        "papermill": {
          "duration": 0.040126,
          "end_time": "2023-03-17T06:24:20.613087",
          "exception": false,
          "start_time": "2023-03-17T06:24:20.572961",
          "status": "completed"
        },
        "tags": []
      },
      "source": [
        "Most not self employed applicants have good credit compared to self employed applicants."
      ]
    },
    {
      "cell_type": "code",
      "execution_count": null,
      "id": "43178257",
      "metadata": {
        "execution": {
          "iopub.execute_input": "2023-03-17T06:24:20.691014Z",
          "iopub.status.busy": "2023-03-17T06:24:20.690157Z",
          "iopub.status.idle": "2023-03-17T06:24:20.919611Z",
          "shell.execute_reply": "2023-03-17T06:24:20.918290Z"
        },
        "id": "43178257",
        "outputId": "fef7224a-46a1-49f4-a590-5be6b0a047df",
        "papermill": {
          "duration": 0.271226,
          "end_time": "2023-03-17T06:24:20.922287",
          "exception": false,
          "start_time": "2023-03-17T06:24:20.651061",
          "status": "completed"
        },
        "tags": [],
        "colab": {
          "base_uri": "https://localhost:8080/",
          "height": 480
        }
      },
      "outputs": [
        {
          "output_type": "display_data",
          "data": {
            "text/plain": [
              "<Figure size 640x480 with 1 Axes>"
            ],
            "image/png": "[encoded data removed]"
          },
          "metadata": {}
        }
      ],
      "source": [
        "pd.crosstab(train.Area, train.Status).plot(kind = \"bar\", stacked = True)\n",
        "plt.title('Property Area vs Loan Status')\n",
        "plt.xlabel('Property Area')\n",
        "plt.ylabel('Frequency')\n",
        "plt.xticks(rotation = 0)\n",
        "plt.show()"
      ]
    },
    {
      "cell_type": "markdown",
      "id": "9fdebdd8",
      "metadata": {
        "id": "9fdebdd8",
        "papermill": {
          "duration": 0.038084,
          "end_time": "2023-03-17T06:24:20.999278",
          "exception": false,
          "start_time": "2023-03-17T06:24:20.961194",
          "status": "completed"
        },
        "tags": []
      },
      "source": [
        "Most of loans that got accepted has property in Semiurban compared to Urban and Rural."
      ]
    },
    {
      "cell_type": "markdown",
      "id": "d7aec671",
      "metadata": {
        "id": "d7aec671",
        "papermill": {
          "duration": 0.038177,
          "end_time": "2023-03-17T06:24:21.076269",
          "exception": false,
          "start_time": "2023-03-17T06:24:21.038092",
          "status": "completed"
        },
        "tags": []
      },
      "source": [
        "### Categorical v/s Numerical"
      ]
    },
    {
      "cell_type": "code",
      "execution_count": null,
      "id": "633c12d9",
      "metadata": {
        "execution": {
          "iopub.execute_input": "2023-03-17T06:24:21.154872Z",
          "iopub.status.busy": "2023-03-17T06:24:21.154129Z",
          "iopub.status.idle": "2023-03-17T06:24:21.390383Z",
          "shell.execute_reply": "2023-03-17T06:24:21.389134Z"
        },
        "id": "633c12d9",
        "outputId": "22cdb011-5a73-4371-83d3-090acfdf63e9",
        "papermill": {
          "duration": 0.278643,
          "end_time": "2023-03-17T06:24:21.393018",
          "exception": false,
          "start_time": "2023-03-17T06:24:21.114375",
          "status": "completed"
        },
        "tags": [],
        "colab": {
          "base_uri": "https://localhost:8080/",
          "height": 474
        }
      },
      "outputs": [
        {
          "output_type": "display_data",
          "data": {
            "text/plain": [
              "<Figure size 640x480 with 1 Axes>"
            ],
            "image/png": "[encoded data removed]"
          },
          "metadata": {}
        }
      ],
      "source": [
        "sns.boxplot(x = \"Status\", y = \"Applicant_Income\", data = train, palette = 'crest');"
      ]
    },
    {
      "cell_type": "markdown",
      "id": "b5f89140",
      "metadata": {
        "id": "b5f89140",
        "papermill": {
          "duration": 0.03833,
          "end_time": "2023-03-17T06:24:21.471434",
          "exception": false,
          "start_time": "2023-03-17T06:24:21.433104",
          "status": "completed"
        },
        "tags": []
      },
      "source": [
        "We can observe that there are lots of outliers in Applicant Income, and the distribution also positively skewed."
      ]
    },
    {
      "cell_type": "code",
      "execution_count": null,
      "id": "fcc8d6a6",
      "metadata": {
        "execution": {
          "iopub.execute_input": "2023-03-17T06:24:21.550531Z",
          "iopub.status.busy": "2023-03-17T06:24:21.550103Z",
          "iopub.status.idle": "2023-03-17T06:24:21.755852Z",
          "shell.execute_reply": "2023-03-17T06:24:21.754636Z"
        },
        "id": "fcc8d6a6",
        "outputId": "e154169c-8a0f-4a87-db43-e9379fc2ab50",
        "papermill": {
          "duration": 0.248025,
          "end_time": "2023-03-17T06:24:21.758385",
          "exception": false,
          "start_time": "2023-03-17T06:24:21.510360",
          "status": "completed"
        },
        "tags": [],
        "colab": {
          "base_uri": "https://localhost:8080/",
          "height": 474
        }
      },
      "outputs": [
        {
          "output_type": "display_data",
          "data": {
            "text/plain": [
              "<Figure size 640x480 with 1 Axes>"
            ],
            "image/png": "[encoded data removed]"
          },
          "metadata": {}
        }
      ],
      "source": [
        "sns.boxplot(x = \"Status\", y = \"Coapplicant_Income\", data = train, palette=\"crest\");"
      ]
    },
    {
      "cell_type": "markdown",
      "id": "d4d94c46",
      "metadata": {
        "id": "d4d94c46",
        "papermill": {
          "duration": 0.038408,
          "end_time": "2023-03-17T06:24:21.836058",
          "exception": false,
          "start_time": "2023-03-17T06:24:21.797650",
          "status": "completed"
        },
        "tags": []
      },
      "source": [
        "It's clear that Co Applicant Income has a number of outliers, and the distribution is also positively skewed."
      ]
    },
    {
      "cell_type": "code",
      "execution_count": null,
      "id": "59ec2856",
      "metadata": {
        "execution": {
          "iopub.execute_input": "2023-03-17T06:24:21.916229Z",
          "iopub.status.busy": "2023-03-17T06:24:21.915766Z",
          "iopub.status.idle": "2023-03-17T06:24:22.139852Z",
          "shell.execute_reply": "2023-03-17T06:24:22.138903Z"
        },
        "id": "59ec2856",
        "outputId": "e75f6224-48b6-4a81-b536-2d2bc2df944e",
        "papermill": {
          "duration": 0.268235,
          "end_time": "2023-03-17T06:24:22.143057",
          "exception": false,
          "start_time": "2023-03-17T06:24:21.874822",
          "status": "completed"
        },
        "tags": [],
        "colab": {
          "base_uri": "https://localhost:8080/",
          "height": 474
        }
      },
      "outputs": [
        {
          "output_type": "display_data",
          "data": {
            "text/plain": [
              "<Figure size 640x480 with 1 Axes>"
            ],
            "image/png": "[encoded data removed]"
          },
          "metadata": {}
        }
      ],
      "source": [
        "sns.boxplot(x = \"Status\", y = \"Loan_Amount\", data = train, palette = \"crest\");"
      ]
    },
    {
      "cell_type": "markdown",
      "id": "a93a6913",
      "metadata": {
        "id": "a93a6913",
        "papermill": {
          "duration": 0.039128,
          "end_time": "2023-03-17T06:24:22.223041",
          "exception": false,
          "start_time": "2023-03-17T06:24:22.183913",
          "status": "completed"
        },
        "tags": []
      },
      "source": [
        "We observe that Loan Amount has a high number of outliers, and the distribution is also positively skewed."
      ]
    },
    {
      "cell_type": "markdown",
      "id": "84982367",
      "metadata": {
        "id": "84982367",
        "papermill": {
          "duration": 0.038853,
          "end_time": "2023-03-17T06:24:22.301261",
          "exception": false,
          "start_time": "2023-03-17T06:24:22.262408",
          "status": "completed"
        },
        "tags": []
      },
      "source": [
        "### Numerical v/s Numerical"
      ]
    },
    {
      "cell_type": "code",
      "execution_count": null,
      "id": "e2e04ad5",
      "metadata": {
        "execution": {
          "iopub.execute_input": "2023-03-17T06:24:22.382122Z",
          "iopub.status.busy": "2023-03-17T06:24:22.381384Z",
          "iopub.status.idle": "2023-03-17T06:24:22.664558Z",
          "shell.execute_reply": "2023-03-17T06:24:22.663545Z"
        },
        "id": "e2e04ad5",
        "outputId": "97782e0e-729c-4433-f227-4ef223db67f1",
        "papermill": {
          "duration": 0.326313,
          "end_time": "2023-03-17T06:24:22.666801",
          "exception": false,
          "start_time": "2023-03-17T06:24:22.340488",
          "status": "completed"
        },
        "tags": [],
        "colab": {
          "base_uri": "https://localhost:8080/",
          "height": 532
        }
      },
      "outputs": [
        {
          "output_type": "display_data",
          "data": {
            "text/plain": [
              "<Figure size 640x480 with 1 Axes>"
            ],
            "image/png": "[encoded data removed]"
          },
          "metadata": {}
        },
        {
          "output_type": "stream",
          "name": "stdout",
          "text": [
            "Pearson correlation: -0.11660458122889975\n",
            "T Test and P value: \n",
            " TtestResult(statistic=13.835753259915663, pvalue=1.4609839484240346e-40, df=1226.0)\n"
          ]
        }
      ],
      "source": [
        "train.plot(x = 'Applicant_Income', y = 'Coapplicant_Income', style = 'o')\n",
        "plt.title('Applicant Income v/s Co Applicant Income')\n",
        "plt.xlabel('Applicant_Income')\n",
        "plt.ylabel('Coapplicant_Income')\n",
        "plt.show()\n",
        "print('Pearson correlation:', train['Applicant_Income'].corr(train['Coapplicant_Income']))\n",
        "print('T Test and P value: \\n', stats.ttest_ind(train['Applicant_Income'], train['Coapplicant_Income']))"
      ]
    },
    {
      "cell_type": "markdown",
      "id": "84e7630a",
      "metadata": {
        "id": "84e7630a",
        "papermill": {
          "duration": 0.040111,
          "end_time": "2023-03-17T06:24:22.748099",
          "exception": false,
          "start_time": "2023-03-17T06:24:22.707988",
          "status": "completed"
        },
        "tags": []
      },
      "source": [
        "There exists negative correlation between Applicant income and Co Applicant Income.\n",
        "\n",
        "The correlation coefficient is significant at the 95 per cent confidence interval, as it has a p-value of 1.46.\n"
      ]
    },
    {
      "cell_type": "markdown",
      "id": "00d6288d",
      "metadata": {
        "id": "00d6288d",
        "papermill": {
          "duration": 0.039722,
          "end_time": "2023-03-17T06:24:22.828119",
          "exception": false,
          "start_time": "2023-03-17T06:24:22.788397",
          "status": "completed"
        },
        "tags": []
      },
      "source": [
        "# Data Preprocessing"
      ]
    },
    {
      "cell_type": "markdown",
      "id": "503cb3d8",
      "metadata": {
        "id": "503cb3d8",
        "papermill": {
          "duration": 0.040936,
          "end_time": "2023-03-17T06:24:22.908974",
          "exception": false,
          "start_time": "2023-03-17T06:24:22.868038",
          "status": "completed"
        },
        "tags": []
      },
      "source": [
        "## Dealing with null values"
      ]
    },
    {
      "cell_type": "code",
      "execution_count": null,
      "id": "60c5b860",
      "metadata": {
        "execution": {
          "iopub.execute_input": "2023-03-17T06:24:23.010799Z",
          "iopub.status.busy": "2023-03-17T06:24:23.009643Z",
          "iopub.status.idle": "2023-03-17T06:24:23.020010Z",
          "shell.execute_reply": "2023-03-17T06:24:23.018681Z"
        },
        "id": "60c5b860",
        "outputId": "80a0aa76-1122-4acd-c819-b6c0208ef175",
        "papermill": {
          "duration": 0.067316,
          "end_time": "2023-03-17T06:24:23.022331",
          "exception": false,
          "start_time": "2023-03-17T06:24:22.955015",
          "status": "completed"
        },
        "tags": [],
        "colab": {
          "base_uri": "https://localhost:8080/",
          "height": 460
        }
      },
      "outputs": [
        {
          "output_type": "execute_result",
          "data": {
            "text/plain": [
              "Gender                13\n",
              "Married                3\n",
              "Dependents            15\n",
              "Education              0\n",
              "Self_Employed         32\n",
              "Applicant_Income       0\n",
              "Coapplicant_Income     0\n",
              "Loan_Amount            0\n",
              "Term                  14\n",
              "Credit_History        50\n",
              "Area                   0\n",
              "Status                 0\n",
              "dtype: int64"
            ],
            "text/html": [
              "<div>\n",
              "<style scoped>\n",
              "    .dataframe tbody tr th:only-of-type {\n",
              "        vertical-align: middle;\n",
              "    }\n",
              "\n",
              "    .dataframe tbody tr th {\n",
              "        vertical-align: top;\n",
              "    }\n",
              "\n",
              "    .dataframe thead th {\n",
              "        text-align: right;\n",
              "    }\n",
              "</style>\n",
              "<table border=\"1\" class=\"dataframe\">\n",
              "  <thead>\n",
              "    <tr style=\"text-align: right;\">\n",
              "      <th></th>\n",
              "      <th>0</th>\n",
              "    </tr>\n",
              "  </thead>\n",
              "  <tbody>\n",
              "    <tr>\n",
              "      <th>Gender</th>\n",
              "      <td>13</td>\n",
              "    </tr>\n",
              "    <tr>\n",
              "      <th>Married</th>\n",
              "      <td>3</td>\n",
              "    </tr>\n",
              "    <tr>\n",
              "      <th>Dependents</th>\n",
              "      <td>15</td>\n",
              "    </tr>\n",
              "    <tr>\n",
              "      <th>Education</th>\n",
              "      <td>0</td>\n",
              "    </tr>\n",
              "    <tr>\n",
              "      <th>Self_Employed</th>\n",
              "      <td>32</td>\n",
              "    </tr>\n",
              "    <tr>\n",
              "      <th>Applicant_Income</th>\n",
              "      <td>0</td>\n",
              "    </tr>\n",
              "    <tr>\n",
              "      <th>Coapplicant_Income</th>\n",
              "      <td>0</td>\n",
              "    </tr>\n",
              "    <tr>\n",
              "      <th>Loan_Amount</th>\n",
              "      <td>0</td>\n",
              "    </tr>\n",
              "    <tr>\n",
              "      <th>Term</th>\n",
              "      <td>14</td>\n",
              "    </tr>\n",
              "    <tr>\n",
              "      <th>Credit_History</th>\n",
              "      <td>50</td>\n",
              "    </tr>\n",
              "    <tr>\n",
              "      <th>Area</th>\n",
              "      <td>0</td>\n",
              "    </tr>\n",
              "    <tr>\n",
              "      <th>Status</th>\n",
              "      <td>0</td>\n",
              "    </tr>\n",
              "  </tbody>\n",
              "</table>\n",
              "</div><br><label><b>dtype:</b> int64</label>"
            ]
          },
          "metadata": {},
          "execution_count": 41
        }
      ],
      "source": [
        "train.isnull().sum()"
      ]
    },
    {
      "cell_type": "markdown",
      "id": "b7ab2e29",
      "metadata": {
        "id": "b7ab2e29",
        "papermill": {
          "duration": 0.039815,
          "end_time": "2023-03-17T06:24:23.102719",
          "exception": false,
          "start_time": "2023-03-17T06:24:23.062904",
          "status": "completed"
        },
        "tags": []
      },
      "source": [
        "### Data Imputation for categorical variables\n"
      ]
    },
    {
      "cell_type": "code",
      "execution_count": null,
      "id": "b0006277",
      "metadata": {
        "execution": {
          "iopub.execute_input": "2023-03-17T06:24:23.185619Z",
          "iopub.status.busy": "2023-03-17T06:24:23.184907Z",
          "iopub.status.idle": "2023-03-17T06:24:23.196803Z",
          "shell.execute_reply": "2023-03-17T06:24:23.195848Z"
        },
        "id": "b0006277",
        "papermill": {
          "duration": 0.056118,
          "end_time": "2023-03-17T06:24:23.199336",
          "exception": false,
          "start_time": "2023-03-17T06:24:23.143218",
          "status": "completed"
        },
        "tags": []
      },
      "outputs": [],
      "source": [
        "train['Gender'].fillna(train['Gender'].mode()[0],inplace = True)\n",
        "train['Married'].fillna(train['Married'].mode()[0],inplace = True)\n",
        "train['Dependents'].fillna(train['Dependents'].mode()[0],inplace = True)\n",
        "train['Self_Employed'].fillna(train['Self_Employed'].mode()[0],inplace = True)\n",
        "train['Credit_History'].fillna(train['Credit_History'].mode()[0],inplace = True)\n",
        "train['Term'].fillna(train['Term'].mode()[0],inplace = True)"
      ]
    },
    {
      "cell_type": "markdown",
      "id": "36f8fb56",
      "metadata": {
        "id": "36f8fb56",
        "papermill": {
          "duration": 0.039836,
          "end_time": "2023-03-17T06:24:23.279964",
          "exception": false,
          "start_time": "2023-03-17T06:24:23.240128",
          "status": "completed"
        },
        "tags": []
      },
      "source": [
        "Similarly we impute for the test set as well."
      ]
    },
    {
      "cell_type": "code",
      "execution_count": null,
      "id": "e0189977",
      "metadata": {
        "execution": {
          "iopub.execute_input": "2023-03-17T06:24:23.363258Z",
          "iopub.status.busy": "2023-03-17T06:24:23.362527Z",
          "iopub.status.idle": "2023-03-17T06:24:23.374220Z",
          "shell.execute_reply": "2023-03-17T06:24:23.373209Z"
        },
        "id": "e0189977",
        "papermill": {
          "duration": 0.056524,
          "end_time": "2023-03-17T06:24:23.376757",
          "exception": false,
          "start_time": "2023-03-17T06:24:23.320233",
          "status": "completed"
        },
        "tags": []
      },
      "outputs": [],
      "source": [
        "test['Gender'].fillna(test['Gender'].mode()[0],inplace = True)\n",
        "test['Married'].fillna(test['Married'].mode()[0],inplace = True)\n",
        "test['Dependents'].fillna(test['Dependents'].mode()[0],inplace = True)\n",
        "test['Self_Employed'].fillna(test['Self_Employed'].mode()[0],inplace = True)\n",
        "test['Credit_History'].fillna(test['Credit_History'].mode()[0],inplace = True)\n",
        "test['Term'].fillna(test['Term'].mode()[0],inplace = True)"
      ]
    },
    {
      "cell_type": "markdown",
      "id": "70a4a3f1",
      "metadata": {
        "id": "70a4a3f1",
        "papermill": {
          "duration": 0.039902,
          "end_time": "2023-03-17T06:24:23.456853",
          "exception": false,
          "start_time": "2023-03-17T06:24:23.416951",
          "status": "completed"
        },
        "tags": []
      },
      "source": [
        "### Data Imputation for numerical variables"
      ]
    },
    {
      "cell_type": "code",
      "execution_count": null,
      "id": "b92276ed",
      "metadata": {
        "execution": {
          "iopub.execute_input": "2023-03-17T06:24:23.539769Z",
          "iopub.status.busy": "2023-03-17T06:24:23.538970Z",
          "iopub.status.idle": "2023-03-17T06:24:23.545227Z",
          "shell.execute_reply": "2023-03-17T06:24:23.544239Z"
        },
        "id": "b92276ed",
        "papermill": {
          "duration": 0.050148,
          "end_time": "2023-03-17T06:24:23.547517",
          "exception": false,
          "start_time": "2023-03-17T06:24:23.497369",
          "status": "completed"
        },
        "tags": []
      },
      "outputs": [],
      "source": [
        "train['Loan_Amount'].fillna(train['Loan_Amount'].mean(),inplace = True)"
      ]
    },
    {
      "cell_type": "code",
      "execution_count": null,
      "id": "0211401d",
      "metadata": {
        "execution": {
          "iopub.execute_input": "2023-03-17T06:24:23.631155Z",
          "iopub.status.busy": "2023-03-17T06:24:23.630435Z",
          "iopub.status.idle": "2023-03-17T06:24:23.636560Z",
          "shell.execute_reply": "2023-03-17T06:24:23.635665Z"
        },
        "id": "0211401d",
        "papermill": {
          "duration": 0.050211,
          "end_time": "2023-03-17T06:24:23.638843",
          "exception": false,
          "start_time": "2023-03-17T06:24:23.588632",
          "status": "completed"
        },
        "tags": []
      },
      "outputs": [],
      "source": [
        "test['Loan_Amount'].fillna(test['Loan_Amount'].mean(),inplace = True)"
      ]
    },
    {
      "cell_type": "markdown",
      "id": "b3bcdbae",
      "metadata": {
        "id": "b3bcdbae",
        "papermill": {
          "duration": 0.040679,
          "end_time": "2023-03-17T06:24:23.720532",
          "exception": false,
          "start_time": "2023-03-17T06:24:23.679853",
          "status": "completed"
        },
        "tags": []
      },
      "source": [
        "## One-hot Encoding"
      ]
    },
    {
      "cell_type": "code",
      "execution_count": null,
      "id": "7eb63271",
      "metadata": {
        "execution": {
          "iopub.execute_input": "2023-03-17T06:24:23.803320Z",
          "iopub.status.busy": "2023-03-17T06:24:23.802615Z",
          "iopub.status.idle": "2023-03-17T06:24:23.820121Z",
          "shell.execute_reply": "2023-03-17T06:24:23.818889Z"
        },
        "id": "7eb63271",
        "papermill": {
          "duration": 0.062194,
          "end_time": "2023-03-17T06:24:23.822942",
          "exception": false,
          "start_time": "2023-03-17T06:24:23.760748",
          "status": "completed"
        },
        "tags": []
      },
      "outputs": [],
      "source": [
        "train = pd.get_dummies(train,dtype=int)\n",
        "\n",
        "# Drop columns\n",
        "train = train.drop(['Gender_Female', 'Married_No', 'Education_Not Graduate',\n",
        "              'Self_Employed_No', 'Status_N'], axis = 1)\n",
        "\n",
        "# Rename columns name\n",
        "new = {'Gender_Male': 'Gender', 'Married_Yes': 'Married',\n",
        "       'Education_Graduate': 'Education', 'Self_Employed_Yes': 'Self_Employed',\n",
        "       'Loan_Status_Y': 'Loan_Status'}\n",
        "\n",
        "train.rename(columns = new, inplace = True)"
      ]
    },
    {
      "cell_type": "code",
      "execution_count": null,
      "id": "2be5ef12",
      "metadata": {
        "execution": {
          "iopub.execute_input": "2023-03-17T06:24:23.908934Z",
          "iopub.status.busy": "2023-03-17T06:24:23.908448Z",
          "iopub.status.idle": "2023-03-17T06:24:23.924987Z",
          "shell.execute_reply": "2023-03-17T06:24:23.923986Z"
        },
        "id": "2be5ef12",
        "papermill": {
          "duration": 0.063697,
          "end_time": "2023-03-17T06:24:23.927486",
          "exception": false,
          "start_time": "2023-03-17T06:24:23.863789",
          "status": "completed"
        },
        "tags": []
      },
      "outputs": [],
      "source": [
        "test = pd.get_dummies(test,dtype=int)\n",
        "\n",
        "# Drop columns\n",
        "test = test.drop(['Gender_Female', 'Married_No', 'Education_Not Graduate',\n",
        "              'Self_Employed_No'], axis = 1)\n",
        "\n",
        "# Rename columns name\n",
        "new = {'Gender_Male': 'Gender', 'Married_Yes': 'Married',\n",
        "       'Education_Graduate': 'Education', 'Self_Employed_Yes': 'Self_Employed',\n",
        "       'Loan_Status_Y': 'Loan_Status'}\n",
        "\n",
        "test.rename(columns = new, inplace = True)"
      ]
    },
    {
      "cell_type": "markdown",
      "id": "f70fabb7",
      "metadata": {
        "id": "f70fabb7",
        "papermill": {
          "duration": 0.040921,
          "end_time": "2023-03-17T06:24:24.009127",
          "exception": false,
          "start_time": "2023-03-17T06:24:23.968206",
          "status": "completed"
        },
        "tags": []
      },
      "source": [
        "## Removing outliers"
      ]
    },
    {
      "cell_type": "code",
      "source": [
        "train.head()"
      ],
      "metadata": {
        "colab": {
          "base_uri": "https://localhost:8080/",
          "height": 226
        },
        "id": "kEJzay4_wIHX",
        "outputId": "d7e8a18d-978f-483a-fc7e-0afc0b352802"
      },
      "id": "kEJzay4_wIHX",
      "execution_count": null,
      "outputs": [
        {
          "output_type": "execute_result",
          "data": {
            "text/plain": [
              "   Applicant_Income  Coapplicant_Income  Loan_Amount   Term  Credit_History  \\\n",
              "0            584900                 0.0     15000000  360.0             1.0   \n",
              "1            458300            150800.0     12800000  360.0             1.0   \n",
              "2            300000                 0.0      6600000  360.0             1.0   \n",
              "3            258300            235800.0     12000000  360.0             1.0   \n",
              "4            600000                 0.0     14100000  360.0             1.0   \n",
              "\n",
              "   Gender  Married  Dependents_0  Dependents_1  Dependents_2  Dependents_3+  \\\n",
              "0       1        0             1             0             0              0   \n",
              "1       1        1             0             1             0              0   \n",
              "2       1        1             1             0             0              0   \n",
              "3       1        1             1             0             0              0   \n",
              "4       1        0             1             0             0              0   \n",
              "\n",
              "   Education  Self_Employed  Area_Rural  Area_Semiurban  Area_Urban  Status_Y  \n",
              "0          1              0           0               0           1         1  \n",
              "1          1              0           1               0           0         0  \n",
              "2          1              1           0               0           1         1  \n",
              "3          0              0           0               0           1         1  \n",
              "4          1              0           0               0           1         1  "
            ],
            "text/html": [
              "\n",
              "  <div id=\"df-2b674e62-a3f6-4f26-b217-c2c9e97c9dac\" class=\"colab-df-container\">\n",
              "    <div>\n",
              "<style scoped>\n",
              "    .dataframe tbody tr th:only-of-type {\n",
              "        vertical-align: middle;\n",
              "    }\n",
              "\n",
              "    .dataframe tbody tr th {\n",
              "        vertical-align: top;\n",
              "    }\n",
              "\n",
              "    .dataframe thead th {\n",
              "        text-align: right;\n",
              "    }\n",
              "</style>\n",
              "<table border=\"1\" class=\"dataframe\">\n",
              "  <thead>\n",
              "    <tr style=\"text-align: right;\">\n",
              "      <th></th>\n",
              "      <th>Applicant_Income</th>\n",
              "      <th>Coapplicant_Income</th>\n",
              "      <th>Loan_Amount</th>\n",
              "      <th>Term</th>\n",
              "      <th>Credit_History</th>\n",
              "      <th>Gender</th>\n",
              "      <th>Married</th>\n",
              "      <th>Dependents_0</th>\n",
              "      <th>Dependents_1</th>\n",
              "      <th>Dependents_2</th>\n",
              "      <th>Dependents_3+</th>\n",
              "      <th>Education</th>\n",
              "      <th>Self_Employed</th>\n",
              "      <th>Area_Rural</th>\n",
              "      <th>Area_Semiurban</th>\n",
              "      <th>Area_Urban</th>\n",
              "      <th>Status_Y</th>\n",
              "    </tr>\n",
              "  </thead>\n",
              "  <tbody>\n",
              "    <tr>\n",
              "      <th>0</th>\n",
              "      <td>584900</td>\n",
              "      <td>0.0</td>\n",
              "      <td>15000000</td>\n",
              "      <td>360.0</td>\n",
              "      <td>1.0</td>\n",
              "      <td>1</td>\n",
              "      <td>0</td>\n",
              "      <td>1</td>\n",
              "      <td>0</td>\n",
              "      <td>0</td>\n",
              "      <td>0</td>\n",
              "      <td>1</td>\n",
              "      <td>0</td>\n",
              "      <td>0</td>\n",
              "      <td>0</td>\n",
              "      <td>1</td>\n",
              "      <td>1</td>\n",
              "    </tr>\n",
              "    <tr>\n",
              "      <th>1</th>\n",
              "      <td>458300</td>\n",
              "      <td>150800.0</td>\n",
              "      <td>12800000</td>\n",
              "      <td>360.0</td>\n",
              "      <td>1.0</td>\n",
              "      <td>1</td>\n",
              "      <td>1</td>\n",
              "      <td>0</td>\n",
              "      <td>1</td>\n",
              "      <td>0</td>\n",
              "      <td>0</td>\n",
              "      <td>1</td>\n",
              "      <td>0</td>\n",
              "      <td>1</td>\n",
              "      <td>0</td>\n",
              "      <td>0</td>\n",
              "      <td>0</td>\n",
              "    </tr>\n",
              "    <tr>\n",
              "      <th>2</th>\n",
              "      <td>300000</td>\n",
              "      <td>0.0</td>\n",
              "      <td>6600000</td>\n",
              "      <td>360.0</td>\n",
              "      <td>1.0</td>\n",
              "      <td>1</td>\n",
              "      <td>1</td>\n",
              "      <td>1</td>\n",
              "      <td>0</td>\n",
              "      <td>0</td>\n",
              "      <td>0</td>\n",
              "      <td>1</td>\n",
              "      <td>1</td>\n",
              "      <td>0</td>\n",
              "      <td>0</td>\n",
              "      <td>1</td>\n",
              "      <td>1</td>\n",
              "    </tr>\n",
              "    <tr>\n",
              "      <th>3</th>\n",
              "      <td>258300</td>\n",
              "      <td>235800.0</td>\n",
              "      <td>12000000</td>\n",
              "      <td>360.0</td>\n",
              "      <td>1.0</td>\n",
              "      <td>1</td>\n",
              "      <td>1</td>\n",
              "      <td>1</td>\n",
              "      <td>0</td>\n",
              "      <td>0</td>\n",
              "      <td>0</td>\n",
              "      <td>0</td>\n",
              "      <td>0</td>\n",
              "      <td>0</td>\n",
              "      <td>0</td>\n",
              "      <td>1</td>\n",
              "      <td>1</td>\n",
              "    </tr>\n",
              "    <tr>\n",
              "      <th>4</th>\n",
              "      <td>600000</td>\n",
              "      <td>0.0</td>\n",
              "      <td>14100000</td>\n",
              "      <td>360.0</td>\n",
              "      <td>1.0</td>\n",
              "      <td>1</td>\n",
              "      <td>0</td>\n",
              "      <td>1</td>\n",
              "      <td>0</td>\n",
              "      <td>0</td>\n",
              "      <td>0</td>\n",
              "      <td>1</td>\n",
              "      <td>0</td>\n",
              "      <td>0</td>\n",
              "      <td>0</td>\n",
              "      <td>1</td>\n",
              "      <td>1</td>\n",
              "    </tr>\n",
              "  </tbody>\n",
              "</table>\n",
              "</div>\n",
              "    <div class=\"colab-df-buttons\">\n",
              "\n",
              "  <div class=\"colab-df-container\">\n",
              "    <button class=\"colab-df-convert\" onclick=\"convertToInteractive('df-2b674e62-a3f6-4f26-b217-c2c9e97c9dac')\"\n",
              "            title=\"Convert this dataframe to an interactive table.\"\n",
              "            style=\"display:none;\">\n",
              "\n",
              "  <svg xmlns=\"http://www.w3.org/2000/svg\" height=\"24px\" viewBox=\"0 -960 960 960\">\n",
              "    <path d=\"M120-120v-720h720v720H120Zm60-500h600v-160H180v160Zm220 220h160v-160H400v160Zm0 220h160v-160H400v160ZM180-400h160v-160H180v160Zm440 0h160v-160H620v160ZM180-180h160v-160H180v160Zm440 0h160v-160H620v160Z\"/>\n",
              "  </svg>\n",
              "    </button>\n",
              "\n",
              "  <style>\n",
              "    .colab-df-container {\n",
              "      display:flex;\n",
              "      gap: 12px;\n",
              "    }\n",
              "\n",
              "    .colab-df-convert {\n",
              "      background-color: #E8F0FE;\n",
              "      border: none;\n",
              "      border-radius: 50%;\n",
              "      cursor: pointer;\n",
              "      display: none;\n",
              "      fill: #1967D2;\n",
              "      height: 32px;\n",
              "      padding: 0 0 0 0;\n",
              "      width: 32px;\n",
              "    }\n",
              "\n",
              "    .colab-df-convert:hover {\n",
              "      background-color: #E2EBFA;\n",
              "      box-shadow: 0px 1px 2px rgba(60, 64, 67, 0.3), 0px 1px 3px 1px rgba(60, 64, 67, 0.15);\n",
              "      fill: #174EA6;\n",
              "    }\n",
              "\n",
              "    .colab-df-buttons div {\n",
              "      margin-bottom: 4px;\n",
              "    }\n",
              "\n",
              "    [theme=dark] .colab-df-convert {\n",
              "      background-color: #3B4455;\n",
              "      fill: #D2E3FC;\n",
              "    }\n",
              "\n",
              "    [theme=dark] .colab-df-convert:hover {\n",
              "      background-color: #434B5C;\n",
              "      box-shadow: 0px 1px 3px 1px rgba(0, 0, 0, 0.15);\n",
              "      filter: drop-shadow(0px 1px 2px rgba(0, 0, 0, 0.3));\n",
              "      fill: #FFFFFF;\n",
              "    }\n",
              "  </style>\n",
              "\n",
              "    <script>\n",
              "      const buttonEl =\n",
              "        document.querySelector('#df-2b674e62-a3f6-4f26-b217-c2c9e97c9dac button.colab-df-convert');\n",
              "      buttonEl.style.display =\n",
              "        google.colab.kernel.accessAllowed ? 'block' : 'none';\n",
              "\n",
              "      async function convertToInteractive(key) {\n",
              "        const element = document.querySelector('#df-2b674e62-a3f6-4f26-b217-c2c9e97c9dac');\n",
              "        const dataTable =\n",
              "          await google.colab.kernel.invokeFunction('convertToInteractive',\n",
              "                                                    [key], {});\n",
              "        if (!dataTable) return;\n",
              "\n",
              "        const docLinkHtml = 'Like what you see? Visit the ' +\n",
              "          '<a target=\"_blank\" href=https://colab.research.google.com/notebooks/data_table.ipynb>data table notebook</a>'\n",
              "          + ' to learn more about interactive tables.';\n",
              "        element.innerHTML = '';\n",
              "        dataTable['output_type'] = 'display_data';\n",
              "        await google.colab.output.renderOutput(dataTable, element);\n",
              "        const docLink = document.createElement('div');\n",
              "        docLink.innerHTML = docLinkHtml;\n",
              "        element.appendChild(docLink);\n",
              "      }\n",
              "    </script>\n",
              "  </div>\n",
              "\n",
              "\n",
              "<div id=\"df-8b24116b-08d4-48a5-8f11-d1938d204ce1\">\n",
              "  <button class=\"colab-df-quickchart\" onclick=\"quickchart('df-8b24116b-08d4-48a5-8f11-d1938d204ce1')\"\n",
              "            title=\"Suggest charts\"\n",
              "            style=\"display:none;\">\n",
              "\n",
              "<svg xmlns=\"http://www.w3.org/2000/svg\" height=\"24px\"viewBox=\"0 0 24 24\"\n",
              "     width=\"24px\">\n",
              "    <g>\n",
              "        <path d=\"M19 3H5c-1.1 0-2 .9-2 2v14c0 1.1.9 2 2 2h14c1.1 0 2-.9 2-2V5c0-1.1-.9-2-2-2zM9 17H7v-7h2v7zm4 0h-2V7h2v10zm4 0h-2v-4h2v4z\"/>\n",
              "    </g>\n",
              "</svg>\n",
              "  </button>\n",
              "\n",
              "<style>\n",
              "  .colab-df-quickchart {\n",
              "      --bg-color: #E8F0FE;\n",
              "      --fill-color: #1967D2;\n",
              "      --hover-bg-color: #E2EBFA;\n",
              "      --hover-fill-color: #174EA6;\n",
              "      --disabled-fill-color: #AAA;\n",
              "      --disabled-bg-color: #DDD;\n",
              "  }\n",
              "\n",
              "  [theme=dark] .colab-df-quickchart {\n",
              "      --bg-color: #3B4455;\n",
              "      --fill-color: #D2E3FC;\n",
              "      --hover-bg-color: #434B5C;\n",
              "      --hover-fill-color: #FFFFFF;\n",
              "      --disabled-bg-color: #3B4455;\n",
              "      --disabled-fill-color: #666;\n",
              "  }\n",
              "\n",
              "  .colab-df-quickchart {\n",
              "    background-color: var(--bg-color);\n",
              "    border: none;\n",
              "    border-radius: 50%;\n",
              "    cursor: pointer;\n",
              "    display: none;\n",
              "    fill: var(--fill-color);\n",
              "    height: 32px;\n",
              "    padding: 0;\n",
              "    width: 32px;\n",
              "  }\n",
              "\n",
              "  .colab-df-quickchart:hover {\n",
              "    background-color: var(--hover-bg-color);\n",
              "    box-shadow: 0 1px 2px rgba(60, 64, 67, 0.3), 0 1px 3px 1px rgba(60, 64, 67, 0.15);\n",
              "    fill: var(--button-hover-fill-color);\n",
              "  }\n",
              "\n",
              "  .colab-df-quickchart-complete:disabled,\n",
              "  .colab-df-quickchart-complete:disabled:hover {\n",
              "    background-color: var(--disabled-bg-color);\n",
              "    fill: var(--disabled-fill-color);\n",
              "    box-shadow: none;\n",
              "  }\n",
              "\n",
              "  .colab-df-spinner {\n",
              "    border: 2px solid var(--fill-color);\n",
              "    border-color: transparent;\n",
              "    border-bottom-color: var(--fill-color);\n",
              "    animation:\n",
              "      spin 1s steps(1) infinite;\n",
              "  }\n",
              "\n",
              "  @keyframes spin {\n",
              "    0% {\n",
              "      border-color: transparent;\n",
              "      border-bottom-color: var(--fill-color);\n",
              "      border-left-color: var(--fill-color);\n",
              "    }\n",
              "    20% {\n",
              "      border-color: transparent;\n",
              "      border-left-color: var(--fill-color);\n",
              "      border-top-color: var(--fill-color);\n",
              "    }\n",
              "    30% {\n",
              "      border-color: transparent;\n",
              "      border-left-color: var(--fill-color);\n",
              "      border-top-color: var(--fill-color);\n",
              "      border-right-color: var(--fill-color);\n",
              "    }\n",
              "    40% {\n",
              "      border-color: transparent;\n",
              "      border-right-color: var(--fill-color);\n",
              "      border-top-color: var(--fill-color);\n",
              "    }\n",
              "    60% {\n",
              "      border-color: transparent;\n",
              "      border-right-color: var(--fill-color);\n",
              "    }\n",
              "    80% {\n",
              "      border-color: transparent;\n",
              "      border-right-color: var(--fill-color);\n",
              "      border-bottom-color: var(--fill-color);\n",
              "    }\n",
              "    90% {\n",
              "      border-color: transparent;\n",
              "      border-bottom-color: var(--fill-color);\n",
              "    }\n",
              "  }\n",
              "</style>\n",
              "\n",
              "  <script>\n",
              "    async function quickchart(key) {\n",
              "      const quickchartButtonEl =\n",
              "        document.querySelector('#' + key + ' button');\n",
              "      quickchartButtonEl.disabled = true;  // To prevent multiple clicks.\n",
              "      quickchartButtonEl.classList.add('colab-df-spinner');\n",
              "      try {\n",
              "        const charts = await google.colab.kernel.invokeFunction(\n",
              "            'suggestCharts', [key], {});\n",
              "      } catch (error) {\n",
              "        console.error('Error during call to suggestCharts:', error);\n",
              "      }\n",
              "      quickchartButtonEl.classList.remove('colab-df-spinner');\n",
              "      quickchartButtonEl.classList.add('colab-df-quickchart-complete');\n",
              "    }\n",
              "    (() => {\n",
              "      let quickchartButtonEl =\n",
              "        document.querySelector('#df-8b24116b-08d4-48a5-8f11-d1938d204ce1 button');\n",
              "      quickchartButtonEl.style.display =\n",
              "        google.colab.kernel.accessAllowed ? 'block' : 'none';\n",
              "    })();\n",
              "  </script>\n",
              "</div>\n",
              "\n",
              "    </div>\n",
              "  </div>\n"
            ],
            "application/vnd.google.colaboratory.intrinsic+json": {
              "type": "dataframe",
              "variable_name": "train",
              "summary": "{\n  \"name\": \"train\",\n  \"rows\": 614,\n  \"fields\": [\n    {\n      \"column\": \"Applicant_Income\",\n      \"properties\": {\n        \"dtype\": \"number\",\n        \"std\": 610904,\n        \"min\": 15000,\n        \"max\": 8100000,\n        \"num_unique_values\": 505,\n        \"samples\": [\n          833300,\n          434200,\n          1612000\n        ],\n        \"semantic_type\": \"\",\n        \"description\": \"\"\n      }\n    },\n    {\n      \"column\": \"Coapplicant_Income\",\n      \"properties\": {\n        \"dtype\": \"number\",\n        \"std\": 292624.8369224189,\n        \"min\": 0.0,\n        \"max\": 4166700.0,\n        \"num_unique_values\": 287,\n        \"samples\": [\n          184000.0,\n          204200.0,\n          242600.0\n        ],\n        \"semantic_type\": \"\",\n        \"description\": \"\"\n      }\n    },\n    {\n      \"column\": \"Loan_Amount\",\n      \"properties\": {\n        \"dtype\": \"number\",\n        \"std\": 8815682,\n        \"min\": 0,\n        \"max\": 70000000,\n        \"num_unique_values\": 204,\n        \"samples\": [\n          12500000,\n          34900000,\n          5900000\n        ],\n        \"semantic_type\": \"\",\n        \"description\": \"\"\n      }\n    },\n    {\n      \"column\": \"Term\",\n      \"properties\": {\n        \"dtype\": \"number\",\n        \"std\": 64.42862906767307,\n        \"min\": 12.0,\n        \"max\": 480.0,\n        \"num_unique_values\": 10,\n        \"samples\": [\n          84.0,\n          120.0,\n          300.0\n        ],\n        \"semantic_type\": \"\",\n        \"description\": \"\"\n      }\n    },\n    {\n      \"column\": \"Credit_History\",\n      \"properties\": {\n        \"dtype\": \"number\",\n        \"std\": 0.3523386063582998,\n        \"min\": 0.0,\n        \"max\": 1.0,\n        \"num_unique_values\": 2,\n        \"samples\": [\n          0.0,\n          1.0\n        ],\n        \"semantic_type\": \"\",\n        \"description\": \"\"\n      }\n    },\n    {\n      \"column\": \"Gender\",\n      \"properties\": {\n        \"dtype\": \"number\",\n        \"std\": 0,\n        \"min\": 0,\n        \"max\": 1,\n        \"num_unique_values\": 2,\n        \"samples\": [\n          0,\n          1\n        ],\n        \"semantic_type\": \"\",\n        \"description\": \"\"\n      }\n    },\n    {\n      \"column\": \"Married\",\n      \"properties\": {\n        \"dtype\": \"number\",\n        \"std\": 0,\n        \"min\": 0,\n        \"max\": 1,\n        \"num_unique_values\": 2,\n        \"samples\": [\n          1,\n          0\n        ],\n        \"semantic_type\": \"\",\n        \"description\": \"\"\n      }\n    },\n    {\n      \"column\": \"Dependents_0\",\n      \"properties\": {\n        \"dtype\": \"number\",\n        \"std\": 0,\n        \"min\": 0,\n        \"max\": 1,\n        \"num_unique_values\": 2,\n        \"samples\": [\n          0,\n          1\n        ],\n        \"semantic_type\": \"\",\n        \"description\": \"\"\n      }\n    },\n    {\n      \"column\": \"Dependents_1\",\n      \"properties\": {\n        \"dtype\": \"number\",\n        \"std\": 0,\n        \"min\": 0,\n        \"max\": 1,\n        \"num_unique_values\": 2,\n        \"samples\": [\n          1,\n          0\n        ],\n        \"semantic_type\": \"\",\n        \"description\": \"\"\n      }\n    },\n    {\n      \"column\": \"Dependents_2\",\n      \"properties\": {\n        \"dtype\": \"number\",\n        \"std\": 0,\n        \"min\": 0,\n        \"max\": 1,\n        \"num_unique_values\": 2,\n        \"samples\": [\n          1,\n          0\n        ],\n        \"semantic_type\": \"\",\n        \"description\": \"\"\n      }\n    },\n    {\n      \"column\": \"Dependents_3+\",\n      \"properties\": {\n        \"dtype\": \"number\",\n        \"std\": 0,\n        \"min\": 0,\n        \"max\": 1,\n        \"num_unique_values\": 2,\n        \"samples\": [\n          1,\n          0\n        ],\n        \"semantic_type\": \"\",\n        \"description\": \"\"\n      }\n    },\n    {\n      \"column\": \"Education\",\n      \"properties\": {\n        \"dtype\": \"number\",\n        \"std\": 0,\n        \"min\": 0,\n        \"max\": 1,\n        \"num_unique_values\": 2,\n        \"samples\": [\n          0,\n          1\n        ],\n        \"semantic_type\": \"\",\n        \"description\": \"\"\n      }\n    },\n    {\n      \"column\": \"Self_Employed\",\n      \"properties\": {\n        \"dtype\": \"number\",\n        \"std\": 0,\n        \"min\": 0,\n        \"max\": 1,\n        \"num_unique_values\": 2,\n        \"samples\": [\n          1,\n          0\n        ],\n        \"semantic_type\": \"\",\n        \"description\": \"\"\n      }\n    },\n    {\n      \"column\": \"Area_Rural\",\n      \"properties\": {\n        \"dtype\": \"number\",\n        \"std\": 0,\n        \"min\": 0,\n        \"max\": 1,\n        \"num_unique_values\": 2,\n        \"samples\": [\n          1,\n          0\n        ],\n        \"semantic_type\": \"\",\n        \"description\": \"\"\n      }\n    },\n    {\n      \"column\": \"Area_Semiurban\",\n      \"properties\": {\n        \"dtype\": \"number\",\n        \"std\": 0,\n        \"min\": 0,\n        \"max\": 1,\n        \"num_unique_values\": 2,\n        \"samples\": [\n          1,\n          0\n        ],\n        \"semantic_type\": \"\",\n        \"description\": \"\"\n      }\n    },\n    {\n      \"column\": \"Area_Urban\",\n      \"properties\": {\n        \"dtype\": \"number\",\n        \"std\": 0,\n        \"min\": 0,\n        \"max\": 1,\n        \"num_unique_values\": 2,\n        \"samples\": [\n          0,\n          1\n        ],\n        \"semantic_type\": \"\",\n        \"description\": \"\"\n      }\n    },\n    {\n      \"column\": \"Status_Y\",\n      \"properties\": {\n        \"dtype\": \"number\",\n        \"std\": 0,\n        \"min\": 0,\n        \"max\": 1,\n        \"num_unique_values\": 2,\n        \"samples\": [\n          0,\n          1\n        ],\n        \"semantic_type\": \"\",\n        \"description\": \"\"\n      }\n    }\n  ]\n}"
            }
          },
          "metadata": {},
          "execution_count": 48
        }
      ]
    },
    {
      "cell_type": "code",
      "execution_count": null,
      "id": "219d08e8",
      "metadata": {
        "execution": {
          "iopub.execute_input": "2023-03-17T06:24:24.092641Z",
          "iopub.status.busy": "2023-03-17T06:24:24.091791Z",
          "iopub.status.idle": "2023-03-17T06:24:24.104402Z",
          "shell.execute_reply": "2023-03-17T06:24:24.103239Z"
        },
        "id": "219d08e8",
        "papermill": {
          "duration": 0.057502,
          "end_time": "2023-03-17T06:24:24.107221",
          "exception": false,
          "start_time": "2023-03-17T06:24:24.049719",
          "status": "completed"
        },
        "tags": []
      },
      "outputs": [],
      "source": [
        "q1 = train.quantile(0.25)\n",
        "q3 = train.quantile(0.75)\n",
        "iqr = q3 - q1\n",
        "\n",
        "train = train[~((train < (q1 - 1.5 * iqr)) |(train > (q3 + 1.5 * iqr))).any(axis = 1)]"
      ]
    },
    {
      "cell_type": "code",
      "execution_count": null,
      "id": "06001b9a",
      "metadata": {
        "execution": {
          "iopub.execute_input": "2023-03-17T06:24:24.191049Z",
          "iopub.status.busy": "2023-03-17T06:24:24.190584Z",
          "iopub.status.idle": "2023-03-17T06:24:24.203485Z",
          "shell.execute_reply": "2023-03-17T06:24:24.202320Z"
        },
        "id": "06001b9a",
        "papermill": {
          "duration": 0.058393,
          "end_time": "2023-03-17T06:24:24.205998",
          "exception": false,
          "start_time": "2023-03-17T06:24:24.147605",
          "status": "completed"
        },
        "tags": []
      },
      "outputs": [],
      "source": [
        "q1 = test.quantile(0.25)\n",
        "q3 = test.quantile(0.75)\n",
        "iqr = q3 - q1\n",
        "\n",
        "test = test[~((test < (q1 - 1.5 * iqr)) |(test > (q3 + 1.5 * iqr))).any(axis = 1)]"
      ]
    },
    {
      "cell_type": "markdown",
      "id": "2d996861",
      "metadata": {
        "id": "2d996861",
        "papermill": {
          "duration": 0.039788,
          "end_time": "2023-03-17T06:24:24.290738",
          "exception": false,
          "start_time": "2023-03-17T06:24:24.250950",
          "status": "completed"
        },
        "tags": []
      },
      "source": [
        "## Treating Skewness"
      ]
    },
    {
      "cell_type": "code",
      "execution_count": null,
      "id": "a3cc6ca5",
      "metadata": {
        "execution": {
          "iopub.execute_input": "2023-03-17T06:24:24.373738Z",
          "iopub.status.busy": "2023-03-17T06:24:24.373286Z",
          "iopub.status.idle": "2023-03-17T06:24:24.382107Z",
          "shell.execute_reply": "2023-03-17T06:24:24.380582Z"
        },
        "id": "a3cc6ca5",
        "papermill": {
          "duration": 0.053583,
          "end_time": "2023-03-17T06:24:24.384732",
          "exception": false,
          "start_time": "2023-03-17T06:24:24.331149",
          "status": "completed"
        },
        "tags": []
      },
      "outputs": [],
      "source": [
        "# Square Root Transformation\n",
        "\n",
        "train.Applicant_Income = np.sqrt(train.Applicant_Income)\n",
        "train.Coapplicant_Income = np.sqrt(train.Coapplicant_Income)\n",
        "train.Loan_Amount = np.sqrt(train.Loan_Amount)"
      ]
    },
    {
      "cell_type": "code",
      "execution_count": null,
      "id": "c3e8877f",
      "metadata": {
        "execution": {
          "iopub.execute_input": "2023-03-17T06:24:24.467170Z",
          "iopub.status.busy": "2023-03-17T06:24:24.466750Z",
          "iopub.status.idle": "2023-03-17T06:24:24.473696Z",
          "shell.execute_reply": "2023-03-17T06:24:24.472725Z"
        },
        "id": "c3e8877f",
        "papermill": {
          "duration": 0.050964,
          "end_time": "2023-03-17T06:24:24.475997",
          "exception": false,
          "start_time": "2023-03-17T06:24:24.425033",
          "status": "completed"
        },
        "tags": []
      },
      "outputs": [],
      "source": [
        "# Square Root Transformation\n",
        "\n",
        "test.Applicant_Income = np.sqrt(test.Applicant_Income)\n",
        "test.Coapplicant_Income = np.sqrt(test.Coapplicant_Income)\n",
        "test.Loan_Amount = np.sqrt(test.Loan_Amount)"
      ]
    },
    {
      "cell_type": "code",
      "execution_count": null,
      "id": "156c71dc",
      "metadata": {
        "execution": {
          "iopub.execute_input": "2023-03-17T06:24:24.558987Z",
          "iopub.status.busy": "2023-03-17T06:24:24.558250Z",
          "iopub.status.idle": "2023-03-17T06:24:25.275548Z",
          "shell.execute_reply": "2023-03-17T06:24:25.274240Z"
        },
        "id": "156c71dc",
        "outputId": "9d021702-bb9e-457a-beeb-1786df4b93cf",
        "papermill": {
          "duration": 0.762237,
          "end_time": "2023-03-17T06:24:25.278509",
          "exception": false,
          "start_time": "2023-03-17T06:24:24.516272",
          "status": "completed"
        },
        "tags": [],
        "colab": {
          "base_uri": "https://localhost:8080/",
          "height": 474
        }
      },
      "outputs": [
        {
          "output_type": "display_data",
          "data": {
            "text/plain": [
              "<Figure size 1000x500 with 3 Axes>"
            ],
            "image/png": "[encoded data removed]"
          },
          "metadata": {}
        }
      ],
      "source": [
        "sns.set(style=\"darkgrid\")\n",
        "fig, axs = plt.subplots(1, 3, figsize = (10, 5))\n",
        "plt.subplot(1,3,1)\n",
        "sns.histplot(data = train, x = \"Applicant_Income\", kde = True, color='green')\n",
        "plt.subplot(1,3,2)\n",
        "sns.histplot(data = train, x = \"Coapplicant_Income\", kde = True, color='skyblue')\n",
        "plt.subplot(1,3,3)\n",
        "sns.histplot(data = train, x = \"Loan_Amount\", kde = True, color='orange');"
      ]
    },
    {
      "cell_type": "markdown",
      "id": "dd97c7fb",
      "metadata": {
        "id": "dd97c7fb",
        "papermill": {
          "duration": 0.042423,
          "end_time": "2023-03-17T06:24:25.364152",
          "exception": false,
          "start_time": "2023-03-17T06:24:25.321729",
          "status": "completed"
        },
        "tags": []
      },
      "source": [
        "We observe that the distributions after using log transformation are much better when compared to the original distribution."
      ]
    },
    {
      "cell_type": "markdown",
      "id": "24e778e0",
      "metadata": {
        "id": "24e778e0",
        "papermill": {
          "duration": 0.042059,
          "end_time": "2023-03-17T06:24:25.449457",
          "exception": false,
          "start_time": "2023-03-17T06:24:25.407398",
          "status": "completed"
        },
        "tags": []
      },
      "source": [
        "## Separating target variable from the train dataset"
      ]
    },
    {
      "cell_type": "code",
      "execution_count": null,
      "id": "1638cca1",
      "metadata": {
        "execution": {
          "iopub.execute_input": "2023-03-17T06:24:25.536582Z",
          "iopub.status.busy": "2023-03-17T06:24:25.535661Z",
          "iopub.status.idle": "2023-03-17T06:24:25.542626Z",
          "shell.execute_reply": "2023-03-17T06:24:25.541776Z"
        },
        "id": "1638cca1",
        "outputId": "52112ded-1003-4e85-f3ed-23332d6084f2",
        "papermill": {
          "duration": 0.053257,
          "end_time": "2023-03-17T06:24:25.544707",
          "exception": false,
          "start_time": "2023-03-17T06:24:25.491450",
          "status": "completed"
        },
        "tags": [],
        "colab": {
          "base_uri": "https://localhost:8080/"
        }
      },
      "outputs": [
        {
          "output_type": "execute_result",
          "data": {
            "text/plain": [
              "Index(['Applicant_Income', 'Coapplicant_Income', 'Loan_Amount', 'Term',\n",
              "       'Credit_History', 'Gender', 'Married', 'Dependents_0', 'Dependents_1',\n",
              "       'Dependents_2', 'Dependents_3+', 'Education', 'Self_Employed',\n",
              "       'Area_Rural', 'Area_Semiurban', 'Area_Urban', 'Status_Y'],\n",
              "      dtype='object')"
            ]
          },
          "metadata": {},
          "execution_count": 54
        }
      ],
      "source": [
        "train.columns"
      ]
    },
    {
      "cell_type": "code",
      "execution_count": null,
      "id": "203806d4",
      "metadata": {
        "execution": {
          "iopub.execute_input": "2023-03-17T06:24:25.633613Z",
          "iopub.status.busy": "2023-03-17T06:24:25.633198Z",
          "iopub.status.idle": "2023-03-17T06:24:25.640037Z",
          "shell.execute_reply": "2023-03-17T06:24:25.638891Z"
        },
        "id": "203806d4",
        "outputId": "c85e22bf-6e8f-4ce2-e9cc-3bdf091fbf63",
        "papermill": {
          "duration": 0.053681,
          "end_time": "2023-03-17T06:24:25.642208",
          "exception": false,
          "start_time": "2023-03-17T06:24:25.588527",
          "status": "completed"
        },
        "tags": [],
        "colab": {
          "base_uri": "https://localhost:8080/"
        }
      },
      "outputs": [
        {
          "output_type": "execute_result",
          "data": {
            "text/plain": [
              "Index(['Applicant_Income', 'Coapplicant_Income', 'Loan_Amount', 'Term',\n",
              "       'Credit_History', 'Gender', 'Married', 'Dependents_0', 'Dependents_1',\n",
              "       'Dependents_2', 'Dependents_3+', 'Education', 'Self_Employed',\n",
              "       'Area_Rural', 'Area_Semiurban', 'Area_Urban'],\n",
              "      dtype='object')"
            ]
          },
          "metadata": {},
          "execution_count": 55
        }
      ],
      "source": [
        "test.columns"
      ]
    },
    {
      "cell_type": "code",
      "execution_count": null,
      "id": "41f9dad3",
      "metadata": {
        "execution": {
          "iopub.execute_input": "2023-03-17T06:24:25.729170Z",
          "iopub.status.busy": "2023-03-17T06:24:25.728354Z",
          "iopub.status.idle": "2023-03-17T06:24:25.734287Z",
          "shell.execute_reply": "2023-03-17T06:24:25.733417Z"
        },
        "id": "41f9dad3",
        "papermill": {
          "duration": 0.051697,
          "end_time": "2023-03-17T06:24:25.736570",
          "exception": false,
          "start_time": "2023-03-17T06:24:25.684873",
          "status": "completed"
        },
        "tags": []
      },
      "outputs": [],
      "source": [
        "x = train.drop([\"Status_Y\"], axis = 1)\n",
        "y = train[\"Status_Y\"]"
      ]
    },
    {
      "cell_type": "markdown",
      "id": "a89b5fbb",
      "metadata": {
        "id": "a89b5fbb",
        "papermill": {
          "duration": 0.041411,
          "end_time": "2023-03-17T06:24:25.820000",
          "exception": false,
          "start_time": "2023-03-17T06:24:25.778589",
          "status": "completed"
        },
        "tags": []
      },
      "source": [
        "## Dealing with Data Imbalance : SMOTE"
      ]
    },
    {
      "cell_type": "code",
      "execution_count": null,
      "id": "af6751c9",
      "metadata": {
        "execution": {
          "iopub.execute_input": "2023-03-17T06:24:25.906587Z",
          "iopub.status.busy": "2023-03-17T06:24:25.905772Z",
          "iopub.status.idle": "2023-03-17T06:24:25.919748Z",
          "shell.execute_reply": "2023-03-17T06:24:25.918769Z"
        },
        "id": "af6751c9",
        "papermill": {
          "duration": 0.060671,
          "end_time": "2023-03-17T06:24:25.922327",
          "exception": false,
          "start_time": "2023-03-17T06:24:25.861656",
          "status": "completed"
        },
        "tags": []
      },
      "outputs": [],
      "source": [
        "x, y = SMOTE().fit_resample(x, y)"
      ]
    },
    {
      "cell_type": "code",
      "execution_count": null,
      "id": "b263fdb9",
      "metadata": {
        "execution": {
          "iopub.execute_input": "2023-03-17T06:24:26.009141Z",
          "iopub.status.busy": "2023-03-17T06:24:26.008324Z",
          "iopub.status.idle": "2023-03-17T06:24:26.211996Z",
          "shell.execute_reply": "2023-03-17T06:24:26.211079Z"
        },
        "id": "b263fdb9",
        "outputId": "562a93bd-32e3-4035-a3df-3646a0a651d1",
        "papermill": {
          "duration": 0.250096,
          "end_time": "2023-03-17T06:24:26.214519",
          "exception": false,
          "start_time": "2023-03-17T06:24:25.964423",
          "status": "completed"
        },
        "tags": [],
        "colab": {
          "base_uri": "https://localhost:8080/",
          "height": 458
        }
      },
      "outputs": [
        {
          "output_type": "display_data",
          "data": {
            "text/plain": [
              "<Figure size 640x480 with 1 Axes>"
            ],
            "image/png": "[encoded data removed]"
          },
          "metadata": {}
        }
      ],
      "source": [
        "sns.set_theme(style = \"darkgrid\")\n",
        "sns.countplot(y = y, data = train)\n",
        "plt.ylabel('Loan Status')\n",
        "plt.xlabel('Total')\n",
        "plt.show()"
      ]
    },
    {
      "cell_type": "markdown",
      "id": "1b86437a",
      "metadata": {
        "id": "1b86437a",
        "papermill": {
          "duration": 0.042718,
          "end_time": "2023-03-17T06:24:26.300506",
          "exception": false,
          "start_time": "2023-03-17T06:24:26.257788",
          "status": "completed"
        },
        "tags": []
      },
      "source": [
        "## Data Normalization"
      ]
    },
    {
      "cell_type": "code",
      "execution_count": null,
      "id": "17d5d178",
      "metadata": {
        "execution": {
          "iopub.execute_input": "2023-03-17T06:24:26.387002Z",
          "iopub.status.busy": "2023-03-17T06:24:26.386539Z",
          "iopub.status.idle": "2023-03-17T06:24:26.395366Z",
          "shell.execute_reply": "2023-03-17T06:24:26.394108Z"
        },
        "id": "17d5d178",
        "papermill": {
          "duration": 0.055046,
          "end_time": "2023-03-17T06:24:26.397793",
          "exception": false,
          "start_time": "2023-03-17T06:24:26.342747",
          "status": "completed"
        },
        "tags": []
      },
      "outputs": [],
      "source": [
        "x_train, x_test, y_train, y_test = train_test_split(x, y, test_size = 0.2, random_state = 42)"
      ]
    },
    {
      "cell_type": "code",
      "execution_count": null,
      "id": "794ca70d",
      "metadata": {
        "execution": {
          "iopub.execute_input": "2023-03-17T06:24:26.484383Z",
          "iopub.status.busy": "2023-03-17T06:24:26.483461Z",
          "iopub.status.idle": "2023-03-17T06:24:26.496092Z",
          "shell.execute_reply": "2023-03-17T06:24:26.494819Z"
        },
        "id": "794ca70d",
        "papermill": {
          "duration": 0.058961,
          "end_time": "2023-03-17T06:24:26.498766",
          "exception": false,
          "start_time": "2023-03-17T06:24:26.439805",
          "status": "completed"
        },
        "tags": []
      },
      "outputs": [],
      "source": [
        "minmax = MinMaxScaler()\n",
        "x_train = minmax.fit_transform(x_train)\n",
        "x_test = minmax.transform(x_test)\n",
        "test = minmax.transform(test)"
      ]
    },
    {
      "cell_type": "markdown",
      "id": "63a55013",
      "metadata": {
        "id": "63a55013",
        "papermill": {
          "duration": 0.042425,
          "end_time": "2023-03-17T06:24:26.583297",
          "exception": false,
          "start_time": "2023-03-17T06:24:26.540872",
          "status": "completed"
        },
        "tags": []
      },
      "source": [
        "# Models"
      ]
    },
    {
      "cell_type": "markdown",
      "id": "14523f56",
      "metadata": {
        "id": "14523f56",
        "papermill": {
          "duration": 0.041587,
          "end_time": "2023-03-17T06:24:26.667067",
          "exception": false,
          "start_time": "2023-03-17T06:24:26.625480",
          "status": "completed"
        },
        "tags": []
      },
      "source": [
        "## Logistic Regression"
      ]
    },
    {
      "cell_type": "code",
      "execution_count": null,
      "id": "71579c1d",
      "metadata": {
        "execution": {
          "iopub.execute_input": "2023-03-17T06:24:26.754052Z",
          "iopub.status.busy": "2023-03-17T06:24:26.753573Z",
          "iopub.status.idle": "2023-03-17T06:24:26.770209Z",
          "shell.execute_reply": "2023-03-17T06:24:26.768893Z"
        },
        "id": "71579c1d",
        "outputId": "ce630457-9073-47bf-ebff-ac5e96810e1e",
        "papermill": {
          "duration": 0.062763,
          "end_time": "2023-03-17T06:24:26.772817",
          "exception": false,
          "start_time": "2023-03-17T06:24:26.710054",
          "status": "completed"
        },
        "tags": [],
        "colab": {
          "base_uri": "https://localhost:8080/"
        }
      },
      "outputs": [
        {
          "output_type": "stream",
          "name": "stdout",
          "text": [
            "              precision    recall  f1-score   support\n",
            "\n",
            "           0       0.75      0.84      0.79        25\n",
            "           1       0.76      0.65      0.70        20\n",
            "\n",
            "    accuracy                           0.76        45\n",
            "   macro avg       0.76      0.74      0.75        45\n",
            "weighted avg       0.76      0.76      0.75        45\n",
            "\n",
            "[[21  4]\n",
            " [ 7 13]]\n",
            "LR accuracy: 75.56%\n"
          ]
        }
      ],
      "source": [
        "lr = LogisticRegression(solver = 'saga', max_iter = 500, random_state = 1)\n",
        "lr.fit(x_train, y_train)\n",
        "\n",
        "y_pred = lr.predict(x_test)\n",
        "\n",
        "print(classification_report(y_test, y_pred))\n",
        "print(confusion_matrix(y_test, y_pred))\n",
        "\n",
        "from sklearn.metrics import accuracy_score\n",
        "LRAcc = accuracy_score(y_pred,y_test)\n",
        "print('LR accuracy: {:.2f}%'.format(LRAcc*100))"
      ]
    },
    {
      "cell_type": "markdown",
      "id": "b7dd53f1",
      "metadata": {
        "id": "b7dd53f1",
        "papermill": {
          "duration": 0.04189,
          "end_time": "2023-03-17T06:24:26.857212",
          "exception": false,
          "start_time": "2023-03-17T06:24:26.815322",
          "status": "completed"
        },
        "tags": []
      },
      "source": [
        "## K-Nearest Neighbour (KNN)"
      ]
    },
    {
      "cell_type": "code",
      "execution_count": null,
      "id": "8797d6b5",
      "metadata": {
        "execution": {
          "iopub.execute_input": "2023-03-17T06:24:26.945036Z",
          "iopub.status.busy": "2023-03-17T06:24:26.944598Z",
          "iopub.status.idle": "2023-03-17T06:24:27.305318Z",
          "shell.execute_reply": "2023-03-17T06:24:27.304197Z"
        },
        "id": "8797d6b5",
        "outputId": "13a8addf-c934-4dd0-9c5d-d631f8ba8f73",
        "papermill": {
          "duration": 0.408255,
          "end_time": "2023-03-17T06:24:27.307746",
          "exception": false,
          "start_time": "2023-03-17T06:24:26.899491",
          "status": "completed"
        },
        "tags": [],
        "colab": {
          "base_uri": "https://localhost:8080/",
          "height": 475
        }
      },
      "outputs": [
        {
          "output_type": "display_data",
          "data": {
            "text/plain": [
              "<Figure size 640x480 with 1 Axes>"
            ],
            "image/png": "[encoded data removed]"
          },
          "metadata": {}
        },
        {
          "output_type": "stream",
          "name": "stdout",
          "text": [
            "KNN best accuracy: 84.44%\n"
          ]
        }
      ],
      "source": [
        "score_knn = []\n",
        "for i in range(1,21):\n",
        "    knn = KNeighborsClassifier(n_neighbors = i)\n",
        "    knn.fit(x_train, y_train)\n",
        "    score_knn.append(knn.score(x_test, y_test))\n",
        "\n",
        "plt.plot(range(1,21), score_knn)\n",
        "plt.xticks(np.arange(1,21,1))\n",
        "plt.xlabel(\"K value\")\n",
        "plt.ylabel(\"Score\")\n",
        "plt.show()\n",
        "KNAcc = max(score_knn)\n",
        "print(\"KNN best accuracy: {:.2f}%\".format(KNAcc*100))"
      ]
    },
    {
      "cell_type": "markdown",
      "id": "4246f115",
      "metadata": {
        "id": "4246f115",
        "papermill": {
          "duration": 0.047603,
          "end_time": "2023-03-17T06:24:28.100270",
          "exception": false,
          "start_time": "2023-03-17T06:24:28.052667",
          "status": "completed"
        },
        "tags": []
      },
      "source": [
        "## Decision Tree"
      ]
    },
    {
      "cell_type": "code",
      "execution_count": null,
      "id": "65812956",
      "metadata": {
        "execution": {
          "iopub.execute_input": "2023-03-17T06:24:28.193209Z",
          "iopub.status.busy": "2023-03-17T06:24:28.192114Z",
          "iopub.status.idle": "2023-03-17T06:24:28.677019Z",
          "shell.execute_reply": "2023-03-17T06:24:28.675585Z"
        },
        "id": "65812956",
        "outputId": "da31586c-eece-4586-8f38-5ce4f687025c",
        "papermill": {
          "duration": 0.53523,
          "end_time": "2023-03-17T06:24:28.679696",
          "exception": false,
          "start_time": "2023-03-17T06:24:28.144466",
          "status": "completed"
        },
        "tags": [],
        "colab": {
          "base_uri": "https://localhost:8080/",
          "height": 475
        }
      },
      "outputs": [
        {
          "output_type": "display_data",
          "data": {
            "text/plain": [
              "<Figure size 640x480 with 1 Axes>"
            ],
            "image/png": "[encoded data removed]"
          },
          "metadata": {}
        },
        {
          "output_type": "stream",
          "name": "stdout",
          "text": [
            "Decision Tree Accuracy: 86.67%\n"
          ]
        }
      ],
      "source": [
        "score_dt = []\n",
        "for i in range(2,21):\n",
        "    dtc = DecisionTreeClassifier(max_leaf_nodes=i)\n",
        "    dtc.fit(x_train, y_train)\n",
        "    score_dt.append(dtc.score(x_test, y_test))\n",
        "\n",
        "plt.plot(range(2,21), score_dt)\n",
        "plt.xticks(np.arange(2,21,1))\n",
        "plt.xlabel(\"Leaf\")\n",
        "plt.ylabel(\"Score\")\n",
        "plt.show()\n",
        "DTAcc = max(score_dt)\n",
        "print(\"Decision Tree Accuracy: {:.2f}%\".format(DTAcc*100))"
      ]
    },
    {
      "cell_type": "markdown",
      "id": "0bbb56dc",
      "metadata": {
        "id": "0bbb56dc",
        "papermill": {
          "duration": 0.046155,
          "end_time": "2023-03-17T06:24:28.771790",
          "exception": false,
          "start_time": "2023-03-17T06:24:28.725635",
          "status": "completed"
        },
        "tags": []
      },
      "source": [
        "## Random Forest"
      ]
    },
    {
      "cell_type": "code",
      "execution_count": null,
      "id": "b74e76b5",
      "metadata": {
        "execution": {
          "iopub.execute_input": "2023-03-17T06:24:28.862908Z",
          "iopub.status.busy": "2023-03-17T06:24:28.862106Z",
          "iopub.status.idle": "2023-03-17T06:25:02.911583Z",
          "shell.execute_reply": "2023-03-17T06:25:02.910208Z"
        },
        "id": "b74e76b5",
        "outputId": "79d8b515-6d09-4737-e4fe-8e61b0b9133c",
        "papermill": {
          "duration": 34.144718,
          "end_time": "2023-03-17T06:25:02.961108",
          "exception": false,
          "start_time": "2023-03-17T06:24:28.816390",
          "status": "completed"
        },
        "tags": [],
        "colab": {
          "base_uri": "https://localhost:8080/",
          "height": 480
        }
      },
      "outputs": [
        {
          "output_type": "display_data",
          "data": {
            "text/plain": [
              "<Figure size 640x480 with 1 Axes>"
            ],
            "image/png": "[encoded data removed]"
          },
          "metadata": {}
        },
        {
          "output_type": "stream",
          "name": "stdout",
          "text": [
            "Random Forest Accuracy:  86.67%\n"
          ]
        }
      ],
      "source": [
        "score_rf = []\n",
        "for i in range(2,25):\n",
        "    rfc = RandomForestClassifier(n_estimators = 1000, random_state = 1, max_leaf_nodes=i)\n",
        "    rfc.fit(x_train, y_train)\n",
        "    score_rf.append(rfc.score(x_test, y_test))\n",
        "\n",
        "plt.plot(range(2,25), score_rf)\n",
        "plt.xticks(np.arange(2,25,1))\n",
        "plt.xlabel(\"RF Value\")\n",
        "plt.ylabel(\"Score\")\n",
        "plt.show()\n",
        "RFAcc = max(score_rf)\n",
        "print(\"Random Forest Accuracy:  {:.2f}%\".format(RFAcc*100))"
      ]
    },
    {
      "cell_type": "markdown",
      "id": "5b45b807",
      "metadata": {
        "id": "5b45b807",
        "papermill": {
          "duration": 0.045765,
          "end_time": "2023-03-17T06:25:03.051951",
          "exception": false,
          "start_time": "2023-03-17T06:25:03.006186",
          "status": "completed"
        },
        "tags": []
      },
      "source": [
        "## Gradient Boosting"
      ]
    },
    {
      "cell_type": "code",
      "execution_count": null,
      "id": "47b488c3",
      "metadata": {
        "execution": {
          "iopub.execute_input": "2023-03-17T06:25:03.145641Z",
          "iopub.status.busy": "2023-03-17T06:25:03.145225Z",
          "iopub.status.idle": "2023-03-17T06:25:03.150469Z",
          "shell.execute_reply": "2023-03-17T06:25:03.149553Z"
        },
        "id": "47b488c3",
        "papermill": {
          "duration": 0.05503,
          "end_time": "2023-03-17T06:25:03.152689",
          "exception": false,
          "start_time": "2023-03-17T06:25:03.097659",
          "status": "completed"
        },
        "tags": []
      },
      "outputs": [],
      "source": [
        "paramsGB={'n_estimators' : [100,200,300,400,500],\n",
        "      'max_depth' : [1,2,3,4,5],\n",
        "      'subsample' : [0.5,1],\n",
        "      'max_leaf_nodes' : [2,5,10,20,30,40,50]}"
      ]
    },
    {
      "cell_type": "code",
      "execution_count": null,
      "id": "a5cbdcaa",
      "metadata": {
        "execution": {
          "iopub.execute_input": "2023-03-17T06:25:03.246873Z",
          "iopub.status.busy": "2023-03-17T06:25:03.245774Z",
          "iopub.status.idle": "2023-03-17T06:25:25.605813Z",
          "shell.execute_reply": "2023-03-17T06:25:25.604922Z"
        },
        "id": "a5cbdcaa",
        "outputId": "b637a7fd-24eb-4ae7-96b8-b574b5f8d6e4",
        "papermill": {
          "duration": 22.409757,
          "end_time": "2023-03-17T06:25:25.608426",
          "exception": false,
          "start_time": "2023-03-17T06:25:03.198669",
          "status": "completed"
        },
        "tags": [],
        "colab": {
          "base_uri": "https://localhost:8080/",
          "height": 116
        }
      },
      "outputs": [
        {
          "output_type": "execute_result",
          "data": {
            "text/plain": [
              "RandomizedSearchCV(cv=20, estimator=GradientBoostingClassifier(),\n",
              "                   param_distributions={'max_depth': [1, 2, 3, 4, 5],\n",
              "                                        'max_leaf_nodes': [2, 5, 10, 20, 30, 40,\n",
              "                                                           50],\n",
              "                                        'n_estimators': [100, 200, 300, 400,\n",
              "                                                         500],\n",
              "                                        'subsample': [0.5, 1]})"
            ],
            "text/html": [
              "<style>#sk-container-id-1 {color: black;}#sk-container-id-1 pre{padding: 0;}#sk-container-id-1 div.sk-toggleable {background-color: white;}#sk-container-id-1 label.sk-toggleable__label {cursor: pointer;display: block;width: 100%;margin-bottom: 0;padding: 0.3em;box-sizing: border-box;text-align: center;}#sk-container-id-1 label.sk-toggleable__label-arrow:before {content: \"▸\";float: left;margin-right: 0.25em;color: #696969;}#sk-container-id-1 label.sk-toggleable__label-arrow:hover:before {color: black;}#sk-container-id-1 div.sk-estimator:hover label.sk-toggleable__label-arrow:before {color: black;}#sk-container-id-1 div.sk-toggleable__content {max-height: 0;max-width: 0;overflow: hidden;text-align: left;background-color: #f0f8ff;}#sk-container-id-1 div.sk-toggleable__content pre {margin: 0.2em;color: black;border-radius: 0.25em;background-color: #f0f8ff;}#sk-container-id-1 input.sk-toggleable__control:checked~div.sk-toggleable__content {max-height: 200px;max-width: 100%;overflow: auto;}#sk-container-id-1 input.sk-toggleable__control:checked~label.sk-toggleable__label-arrow:before {content: \"▾\";}#sk-container-id-1 div.sk-estimator input.sk-toggleable__control:checked~label.sk-toggleable__label {background-color: #d4ebff;}#sk-container-id-1 div.sk-label input.sk-toggleable__control:checked~label.sk-toggleable__label {background-color: #d4ebff;}#sk-container-id-1 input.sk-hidden--visually {border: 0;clip: rect(1px 1px 1px 1px);clip: rect(1px, 1px, 1px, 1px);height: 1px;margin: -1px;overflow: hidden;padding: 0;position: absolute;width: 1px;}#sk-container-id-1 div.sk-estimator {font-family: monospace;background-color: #f0f8ff;border: 1px dotted black;border-radius: 0.25em;box-sizing: border-box;margin-bottom: 0.5em;}#sk-container-id-1 div.sk-estimator:hover {background-color: #d4ebff;}#sk-container-id-1 div.sk-parallel-item::after {content: \"\";width: 100%;border-bottom: 1px solid gray;flex-grow: 1;}#sk-container-id-1 div.sk-label:hover label.sk-toggleable__label {background-color: #d4ebff;}#sk-container-id-1 div.sk-serial::before {content: \"\";position: absolute;border-left: 1px solid gray;box-sizing: border-box;top: 0;bottom: 0;left: 50%;z-index: 0;}#sk-container-id-1 div.sk-serial {display: flex;flex-direction: column;align-items: center;background-color: white;padding-right: 0.2em;padding-left: 0.2em;position: relative;}#sk-container-id-1 div.sk-item {position: relative;z-index: 1;}#sk-container-id-1 div.sk-parallel {display: flex;align-items: stretch;justify-content: center;background-color: white;position: relative;}#sk-container-id-1 div.sk-item::before, #sk-container-id-1 div.sk-parallel-item::before {content: \"\";position: absolute;border-left: 1px solid gray;box-sizing: border-box;top: 0;bottom: 0;left: 50%;z-index: -1;}#sk-container-id-1 div.sk-parallel-item {display: flex;flex-direction: column;z-index: 1;position: relative;background-color: white;}#sk-container-id-1 div.sk-parallel-item:first-child::after {align-self: flex-end;width: 50%;}#sk-container-id-1 div.sk-parallel-item:last-child::after {align-self: flex-start;width: 50%;}#sk-container-id-1 div.sk-parallel-item:only-child::after {width: 0;}#sk-container-id-1 div.sk-dashed-wrapped {border: 1px dashed gray;margin: 0 0.4em 0.5em 0.4em;box-sizing: border-box;padding-bottom: 0.4em;background-color: white;}#sk-container-id-1 div.sk-label label {font-family: monospace;font-weight: bold;display: inline-block;line-height: 1.2em;}#sk-container-id-1 div.sk-label-container {text-align: center;}#sk-container-id-1 div.sk-container {/* jupyter's `normalize.less` sets `[hidden] { display: none; }` but bootstrap.min.css set `[hidden] { display: none !important; }` so we also need the `!important` here to be able to override the default hidden behavior on the sphinx rendered scikit-learn.org. See: https://github.com/scikit-learn/scikit-learn/issues/21755 */display: inline-block !important;position: relative;}#sk-container-id-1 div.sk-text-repr-fallback {display: none;}</style><div id=\"sk-container-id-1\" class=\"sk-top-container\"><div class=\"sk-text-repr-fallback\"><pre>RandomizedSearchCV(cv=20, estimator=GradientBoostingClassifier(),\n",
              "                   param_distributions={&#x27;max_depth&#x27;: [1, 2, 3, 4, 5],\n",
              "                                        &#x27;max_leaf_nodes&#x27;: [2, 5, 10, 20, 30, 40,\n",
              "                                                           50],\n",
              "                                        &#x27;n_estimators&#x27;: [100, 200, 300, 400,\n",
              "                                                         500],\n",
              "                                        &#x27;subsample&#x27;: [0.5, 1]})</pre><b>In a Jupyter environment, please rerun this cell to show the HTML representation or trust the notebook. <br />On GitHub, the HTML representation is unable to render, please try loading this page with nbviewer.org.</b></div><div class=\"sk-container\" hidden><div class=\"sk-item sk-dashed-wrapped\"><div class=\"sk-label-container\"><div class=\"sk-label sk-toggleable\"><input class=\"sk-toggleable__control sk-hidden--visually\" id=\"sk-estimator-id-1\" type=\"checkbox\" ><label for=\"sk-estimator-id-1\" class=\"sk-toggleable__label sk-toggleable__label-arrow\">RandomizedSearchCV</label><div class=\"sk-toggleable__content\"><pre>RandomizedSearchCV(cv=20, estimator=GradientBoostingClassifier(),\n",
              "                   param_distributions={&#x27;max_depth&#x27;: [1, 2, 3, 4, 5],\n",
              "                                        &#x27;max_leaf_nodes&#x27;: [2, 5, 10, 20, 30, 40,\n",
              "                                                           50],\n",
              "                                        &#x27;n_estimators&#x27;: [100, 200, 300, 400,\n",
              "                                                         500],\n",
              "                                        &#x27;subsample&#x27;: [0.5, 1]})</pre></div></div></div><div class=\"sk-parallel\"><div class=\"sk-parallel-item\"><div class=\"sk-item\"><div class=\"sk-label-container\"><div class=\"sk-label sk-toggleable\"><input class=\"sk-toggleable__control sk-hidden--visually\" id=\"sk-estimator-id-2\" type=\"checkbox\" ><label for=\"sk-estimator-id-2\" class=\"sk-toggleable__label sk-toggleable__label-arrow\">estimator: GradientBoostingClassifier</label><div class=\"sk-toggleable__content\"><pre>GradientBoostingClassifier()</pre></div></div></div><div class=\"sk-serial\"><div class=\"sk-item\"><div class=\"sk-estimator sk-toggleable\"><input class=\"sk-toggleable__control sk-hidden--visually\" id=\"sk-estimator-id-3\" type=\"checkbox\" ><label for=\"sk-estimator-id-3\" class=\"sk-toggleable__label sk-toggleable__label-arrow\">GradientBoostingClassifier</label><div class=\"sk-toggleable__content\"><pre>GradientBoostingClassifier()</pre></div></div></div></div></div></div></div></div></div></div>"
            ]
          },
          "metadata": {},
          "execution_count": 66
        }
      ],
      "source": [
        "GB = RandomizedSearchCV(GradientBoostingClassifier(), paramsGB, cv=20)\n",
        "GB.fit(x_train, y_train)"
      ]
    },
    {
      "cell_type": "code",
      "execution_count": null,
      "id": "c6cf1ab8",
      "metadata": {
        "execution": {
          "iopub.execute_input": "2023-03-17T06:25:25.700797Z",
          "iopub.status.busy": "2023-03-17T06:25:25.700128Z",
          "iopub.status.idle": "2023-03-17T06:25:25.707117Z",
          "shell.execute_reply": "2023-03-17T06:25:25.705919Z"
        },
        "id": "c6cf1ab8",
        "outputId": "e240376d-17af-4e3d-eb4c-dd9a8a8b61c4",
        "papermill": {
          "duration": 0.055792,
          "end_time": "2023-03-17T06:25:25.709273",
          "exception": false,
          "start_time": "2023-03-17T06:25:25.653481",
          "status": "completed"
        },
        "tags": [],
        "colab": {
          "base_uri": "https://localhost:8080/"
        }
      },
      "outputs": [
        {
          "output_type": "stream",
          "name": "stdout",
          "text": [
            "GradientBoostingClassifier(max_depth=5, max_leaf_nodes=50, n_estimators=500,\n",
            "                           subsample=1)\n",
            "0.7708333333333334\n",
            "{'subsample': 1, 'n_estimators': 500, 'max_leaf_nodes': 50, 'max_depth': 5}\n",
            "7\n"
          ]
        }
      ],
      "source": [
        "print(GB.best_estimator_)\n",
        "print(GB.best_score_)\n",
        "print(GB.best_params_)\n",
        "print(GB.best_index_)"
      ]
    },
    {
      "cell_type": "code",
      "execution_count": null,
      "id": "de234bf9",
      "metadata": {
        "execution": {
          "iopub.execute_input": "2023-03-17T06:25:25.802616Z",
          "iopub.status.busy": "2023-03-17T06:25:25.801886Z",
          "iopub.status.idle": "2023-03-17T06:25:26.104987Z",
          "shell.execute_reply": "2023-03-17T06:25:26.103668Z"
        },
        "id": "de234bf9",
        "outputId": "fe5a2fed-6bdf-4790-8c26-1b7e3d71889e",
        "papermill": {
          "duration": 0.352327,
          "end_time": "2023-03-17T06:25:26.107373",
          "exception": false,
          "start_time": "2023-03-17T06:25:25.755046",
          "status": "completed"
        },
        "tags": [],
        "colab": {
          "base_uri": "https://localhost:8080/"
        }
      },
      "outputs": [
        {
          "output_type": "stream",
          "name": "stdout",
          "text": [
            "              precision    recall  f1-score   support\n",
            "\n",
            "           0       0.81      0.84      0.82        25\n",
            "           1       0.79      0.75      0.77        20\n",
            "\n",
            "    accuracy                           0.80        45\n",
            "   macro avg       0.80      0.79      0.80        45\n",
            "weighted avg       0.80      0.80      0.80        45\n",
            "\n",
            "[[21  4]\n",
            " [ 5 15]]\n",
            "Gradient Boosting accuracy: 80.00%\n"
          ]
        }
      ],
      "source": [
        "gbc = GradientBoostingClassifier(subsample = 0.5, n_estimators = 400, max_depth = 4, max_leaf_nodes = 10)\n",
        "gbc.fit(x_train, y_train)\n",
        "\n",
        "y_pred = gbc.predict(x_test)\n",
        "\n",
        "print(classification_report(y_test, y_pred))\n",
        "print(confusion_matrix(y_test, y_pred))\n",
        "\n",
        "from sklearn.metrics import accuracy_score\n",
        "GBAcc = accuracy_score(y_pred,y_test)\n",
        "print('Gradient Boosting accuracy: {:.2f}%'.format(GBAcc*100))"
      ]
    },
    {
      "cell_type": "markdown",
      "source": [
        "## XGBoost"
      ],
      "metadata": {
        "id": "IPc9aLGxsbRd"
      },
      "id": "IPc9aLGxsbRd"
    },
    {
      "cell_type": "code",
      "source": [
        "# prompt: write code for fitting XGBoost to train and test it on test data\n",
        "\n",
        "paramsXG = {'n_estimators' : [100,200,300,400,500],\n",
        "      'max_depth' : [1,2,3,4,5],\n",
        "      'learning_rate' : [0.1,0.2,0.3,0.5]}\n",
        "XG = RandomizedSearchCV(XGBClassifier(), paramsXG, cv=20)\n",
        "XG.fit(x_train, y_train)\n",
        "print(XG.best_estimator_)\n",
        "print(XG.best_score_)\n",
        "print(XG.best_params_)\n",
        "print(XG.best_index_)\n",
        "xgb = XGBClassifier(n_estimators=200, max_depth=2, learning_rate=0.3)\n",
        "xgb.fit(x_train, y_train)\n",
        "\n",
        "y_pred = xgb.predict(x_test)\n",
        "\n",
        "print(classification_report(y_test, y_pred))\n",
        "print(confusion_matrix(y_test, y_pred))\n",
        "\n",
        "XGAcc = accuracy_score(y_pred,y_test)\n",
        "print('XGBoost accuracy: {:.2f}%'.format(XGAcc*100))\n"
      ],
      "metadata": {
        "colab": {
          "base_uri": "https://localhost:8080/"
        },
        "id": "7hWW449Eroes",
        "outputId": "c7eeba8f-60b5-4849-a686-cf1888a0c180"
      },
      "id": "7hWW449Eroes",
      "execution_count": null,
      "outputs": [
        {
          "output_type": "stream",
          "name": "stdout",
          "text": [
            "XGBClassifier(base_score=None, booster=None, callbacks=None,\n",
            "              colsample_bylevel=None, colsample_bynode=None,\n",
            "              colsample_bytree=None, device=None, early_stopping_rounds=None,\n",
            "              enable_categorical=False, eval_metric=None, feature_types=None,\n",
            "              gamma=None, grow_policy=None, importance_type=None,\n",
            "              interaction_constraints=None, learning_rate=0.1, max_bin=None,\n",
            "              max_cat_threshold=None, max_cat_to_onehot=None,\n",
            "              max_delta_step=None, max_depth=3, max_leaves=None,\n",
            "              min_child_weight=None, missing=nan, monotone_constraints=None,\n",
            "              multi_strategy=None, n_estimators=500, n_jobs=None,\n",
            "              num_parallel_tree=None, random_state=None, ...)\n",
            "0.7881944444444444\n",
            "{'n_estimators': 500, 'max_depth': 3, 'learning_rate': 0.1}\n",
            "0\n",
            "              precision    recall  f1-score   support\n",
            "\n",
            "           0       0.87      0.80      0.83        25\n",
            "           1       0.77      0.85      0.81        20\n",
            "\n",
            "    accuracy                           0.82        45\n",
            "   macro avg       0.82      0.82      0.82        45\n",
            "weighted avg       0.83      0.82      0.82        45\n",
            "\n",
            "[[20  5]\n",
            " [ 3 17]]\n",
            "XGBoost accuracy: 82.22%\n"
          ]
        }
      ]
    },
    {
      "cell_type": "markdown",
      "id": "36511a02",
      "metadata": {
        "id": "36511a02",
        "papermill": {
          "duration": 0.045185,
          "end_time": "2023-03-17T06:25:26.197724",
          "exception": false,
          "start_time": "2023-03-17T06:25:26.152539",
          "status": "completed"
        },
        "tags": []
      },
      "source": [
        "# Model Comparison"
      ]
    },
    {
      "cell_type": "code",
      "execution_count": null,
      "id": "49afcc27",
      "metadata": {
        "execution": {
          "iopub.execute_input": "2023-03-17T06:25:26.291089Z",
          "iopub.status.busy": "2023-03-17T06:25:26.290365Z",
          "iopub.status.idle": "2023-03-17T06:25:26.304861Z",
          "shell.execute_reply": "2023-03-17T06:25:26.303705Z"
        },
        "id": "49afcc27",
        "outputId": "16477d2b-5406-4b3e-b766-e57ef3f04a14",
        "papermill": {
          "duration": 0.064077,
          "end_time": "2023-03-17T06:25:26.307186",
          "exception": false,
          "start_time": "2023-03-17T06:25:26.243109",
          "status": "completed"
        },
        "tags": [],
        "colab": {
          "base_uri": "https://localhost:8080/",
          "height": 237
        }
      },
      "outputs": [
        {
          "output_type": "execute_result",
          "data": {
            "text/plain": [
              "                 Model   Accuracy\n",
              "2        Decision Tree  86.666667\n",
              "3        Random Forest  86.666667\n",
              "1          K Neighbors  84.444444\n",
              "5             XG Boost  82.222222\n",
              "4       Gradient Boost  80.000000\n",
              "0  Logistic Regression  75.555556"
            ],
            "text/html": [
              "\n",
              "  <div id=\"df-485307d4-7966-491d-9ca6-3b8646734bb9\" class=\"colab-df-container\">\n",
              "    <div>\n",
              "<style scoped>\n",
              "    .dataframe tbody tr th:only-of-type {\n",
              "        vertical-align: middle;\n",
              "    }\n",
              "\n",
              "    .dataframe tbody tr th {\n",
              "        vertical-align: top;\n",
              "    }\n",
              "\n",
              "    .dataframe thead th {\n",
              "        text-align: right;\n",
              "    }\n",
              "</style>\n",
              "<table border=\"1\" class=\"dataframe\">\n",
              "  <thead>\n",
              "    <tr style=\"text-align: right;\">\n",
              "      <th></th>\n",
              "      <th>Model</th>\n",
              "      <th>Accuracy</th>\n",
              "    </tr>\n",
              "  </thead>\n",
              "  <tbody>\n",
              "    <tr>\n",
              "      <th>2</th>\n",
              "      <td>Decision Tree</td>\n",
              "      <td>86.666667</td>\n",
              "    </tr>\n",
              "    <tr>\n",
              "      <th>3</th>\n",
              "      <td>Random Forest</td>\n",
              "      <td>86.666667</td>\n",
              "    </tr>\n",
              "    <tr>\n",
              "      <th>1</th>\n",
              "      <td>K Neighbors</td>\n",
              "      <td>84.444444</td>\n",
              "    </tr>\n",
              "    <tr>\n",
              "      <th>5</th>\n",
              "      <td>XG Boost</td>\n",
              "      <td>82.222222</td>\n",
              "    </tr>\n",
              "    <tr>\n",
              "      <th>4</th>\n",
              "      <td>Gradient Boost</td>\n",
              "      <td>80.000000</td>\n",
              "    </tr>\n",
              "    <tr>\n",
              "      <th>0</th>\n",
              "      <td>Logistic Regression</td>\n",
              "      <td>75.555556</td>\n",
              "    </tr>\n",
              "  </tbody>\n",
              "</table>\n",
              "</div>\n",
              "    <div class=\"colab-df-buttons\">\n",
              "\n",
              "  <div class=\"colab-df-container\">\n",
              "    <button class=\"colab-df-convert\" onclick=\"convertToInteractive('df-485307d4-7966-491d-9ca6-3b8646734bb9')\"\n",
              "            title=\"Convert this dataframe to an interactive table.\"\n",
              "            style=\"display:none;\">\n",
              "\n",
              "  <svg xmlns=\"http://www.w3.org/2000/svg\" height=\"24px\" viewBox=\"0 -960 960 960\">\n",
              "    <path d=\"M120-120v-720h720v720H120Zm60-500h600v-160H180v160Zm220 220h160v-160H400v160Zm0 220h160v-160H400v160ZM180-400h160v-160H180v160Zm440 0h160v-160H620v160ZM180-180h160v-160H180v160Zm440 0h160v-160H620v160Z\"/>\n",
              "  </svg>\n",
              "    </button>\n",
              "\n",
              "  <style>\n",
              "    .colab-df-container {\n",
              "      display:flex;\n",
              "      gap: 12px;\n",
              "    }\n",
              "\n",
              "    .colab-df-convert {\n",
              "      background-color: #E8F0FE;\n",
              "      border: none;\n",
              "      border-radius: 50%;\n",
              "      cursor: pointer;\n",
              "      display: none;\n",
              "      fill: #1967D2;\n",
              "      height: 32px;\n",
              "      padding: 0 0 0 0;\n",
              "      width: 32px;\n",
              "    }\n",
              "\n",
              "    .colab-df-convert:hover {\n",
              "      background-color: #E2EBFA;\n",
              "      box-shadow: 0px 1px 2px rgba(60, 64, 67, 0.3), 0px 1px 3px 1px rgba(60, 64, 67, 0.15);\n",
              "      fill: #174EA6;\n",
              "    }\n",
              "\n",
              "    .colab-df-buttons div {\n",
              "      margin-bottom: 4px;\n",
              "    }\n",
              "\n",
              "    [theme=dark] .colab-df-convert {\n",
              "      background-color: #3B4455;\n",
              "      fill: #D2E3FC;\n",
              "    }\n",
              "\n",
              "    [theme=dark] .colab-df-convert:hover {\n",
              "      background-color: #434B5C;\n",
              "      box-shadow: 0px 1px 3px 1px rgba(0, 0, 0, 0.15);\n",
              "      filter: drop-shadow(0px 1px 2px rgba(0, 0, 0, 0.3));\n",
              "      fill: #FFFFFF;\n",
              "    }\n",
              "  </style>\n",
              "\n",
              "    <script>\n",
              "      const buttonEl =\n",
              "        document.querySelector('#df-485307d4-7966-491d-9ca6-3b8646734bb9 button.colab-df-convert');\n",
              "      buttonEl.style.display =\n",
              "        google.colab.kernel.accessAllowed ? 'block' : 'none';\n",
              "\n",
              "      async function convertToInteractive(key) {\n",
              "        const element = document.querySelector('#df-485307d4-7966-491d-9ca6-3b8646734bb9');\n",
              "        const dataTable =\n",
              "          await google.colab.kernel.invokeFunction('convertToInteractive',\n",
              "                                                    [key], {});\n",
              "        if (!dataTable) return;\n",
              "\n",
              "        const docLinkHtml = 'Like what you see? Visit the ' +\n",
              "          '<a target=\"_blank\" href=https://colab.research.google.com/notebooks/data_table.ipynb>data table notebook</a>'\n",
              "          + ' to learn more about interactive tables.';\n",
              "        element.innerHTML = '';\n",
              "        dataTable['output_type'] = 'display_data';\n",
              "        await google.colab.output.renderOutput(dataTable, element);\n",
              "        const docLink = document.createElement('div');\n",
              "        docLink.innerHTML = docLinkHtml;\n",
              "        element.appendChild(docLink);\n",
              "      }\n",
              "    </script>\n",
              "  </div>\n",
              "\n",
              "\n",
              "<div id=\"df-753ccf98-62f0-48ad-a59a-39fd03ad5721\">\n",
              "  <button class=\"colab-df-quickchart\" onclick=\"quickchart('df-753ccf98-62f0-48ad-a59a-39fd03ad5721')\"\n",
              "            title=\"Suggest charts\"\n",
              "            style=\"display:none;\">\n",
              "\n",
              "<svg xmlns=\"http://www.w3.org/2000/svg\" height=\"24px\"viewBox=\"0 0 24 24\"\n",
              "     width=\"24px\">\n",
              "    <g>\n",
              "        <path d=\"M19 3H5c-1.1 0-2 .9-2 2v14c0 1.1.9 2 2 2h14c1.1 0 2-.9 2-2V5c0-1.1-.9-2-2-2zM9 17H7v-7h2v7zm4 0h-2V7h2v10zm4 0h-2v-4h2v4z\"/>\n",
              "    </g>\n",
              "</svg>\n",
              "  </button>\n",
              "\n",
              "<style>\n",
              "  .colab-df-quickchart {\n",
              "      --bg-color: #E8F0FE;\n",
              "      --fill-color: #1967D2;\n",
              "      --hover-bg-color: #E2EBFA;\n",
              "      --hover-fill-color: #174EA6;\n",
              "      --disabled-fill-color: #AAA;\n",
              "      --disabled-bg-color: #DDD;\n",
              "  }\n",
              "\n",
              "  [theme=dark] .colab-df-quickchart {\n",
              "      --bg-color: #3B4455;\n",
              "      --fill-color: #D2E3FC;\n",
              "      --hover-bg-color: #434B5C;\n",
              "      --hover-fill-color: #FFFFFF;\n",
              "      --disabled-bg-color: #3B4455;\n",
              "      --disabled-fill-color: #666;\n",
              "  }\n",
              "\n",
              "  .colab-df-quickchart {\n",
              "    background-color: var(--bg-color);\n",
              "    border: none;\n",
              "    border-radius: 50%;\n",
              "    cursor: pointer;\n",
              "    display: none;\n",
              "    fill: var(--fill-color);\n",
              "    height: 32px;\n",
              "    padding: 0;\n",
              "    width: 32px;\n",
              "  }\n",
              "\n",
              "  .colab-df-quickchart:hover {\n",
              "    background-color: var(--hover-bg-color);\n",
              "    box-shadow: 0 1px 2px rgba(60, 64, 67, 0.3), 0 1px 3px 1px rgba(60, 64, 67, 0.15);\n",
              "    fill: var(--button-hover-fill-color);\n",
              "  }\n",
              "\n",
              "  .colab-df-quickchart-complete:disabled,\n",
              "  .colab-df-quickchart-complete:disabled:hover {\n",
              "    background-color: var(--disabled-bg-color);\n",
              "    fill: var(--disabled-fill-color);\n",
              "    box-shadow: none;\n",
              "  }\n",
              "\n",
              "  .colab-df-spinner {\n",
              "    border: 2px solid var(--fill-color);\n",
              "    border-color: transparent;\n",
              "    border-bottom-color: var(--fill-color);\n",
              "    animation:\n",
              "      spin 1s steps(1) infinite;\n",
              "  }\n",
              "\n",
              "  @keyframes spin {\n",
              "    0% {\n",
              "      border-color: transparent;\n",
              "      border-bottom-color: var(--fill-color);\n",
              "      border-left-color: var(--fill-color);\n",
              "    }\n",
              "    20% {\n",
              "      border-color: transparent;\n",
              "      border-left-color: var(--fill-color);\n",
              "      border-top-color: var(--fill-color);\n",
              "    }\n",
              "    30% {\n",
              "      border-color: transparent;\n",
              "      border-left-color: var(--fill-color);\n",
              "      border-top-color: var(--fill-color);\n",
              "      border-right-color: var(--fill-color);\n",
              "    }\n",
              "    40% {\n",
              "      border-color: transparent;\n",
              "      border-right-color: var(--fill-color);\n",
              "      border-top-color: var(--fill-color);\n",
              "    }\n",
              "    60% {\n",
              "      border-color: transparent;\n",
              "      border-right-color: var(--fill-color);\n",
              "    }\n",
              "    80% {\n",
              "      border-color: transparent;\n",
              "      border-right-color: var(--fill-color);\n",
              "      border-bottom-color: var(--fill-color);\n",
              "    }\n",
              "    90% {\n",
              "      border-color: transparent;\n",
              "      border-bottom-color: var(--fill-color);\n",
              "    }\n",
              "  }\n",
              "</style>\n",
              "\n",
              "  <script>\n",
              "    async function quickchart(key) {\n",
              "      const quickchartButtonEl =\n",
              "        document.querySelector('#' + key + ' button');\n",
              "      quickchartButtonEl.disabled = true;  // To prevent multiple clicks.\n",
              "      quickchartButtonEl.classList.add('colab-df-spinner');\n",
              "      try {\n",
              "        const charts = await google.colab.kernel.invokeFunction(\n",
              "            'suggestCharts', [key], {});\n",
              "      } catch (error) {\n",
              "        console.error('Error during call to suggestCharts:', error);\n",
              "      }\n",
              "      quickchartButtonEl.classList.remove('colab-df-spinner');\n",
              "      quickchartButtonEl.classList.add('colab-df-quickchart-complete');\n",
              "    }\n",
              "    (() => {\n",
              "      let quickchartButtonEl =\n",
              "        document.querySelector('#df-753ccf98-62f0-48ad-a59a-39fd03ad5721 button');\n",
              "      quickchartButtonEl.style.display =\n",
              "        google.colab.kernel.accessAllowed ? 'block' : 'none';\n",
              "    })();\n",
              "  </script>\n",
              "</div>\n",
              "\n",
              "    </div>\n",
              "  </div>\n"
            ],
            "application/vnd.google.colaboratory.intrinsic+json": {
              "type": "dataframe",
              "summary": "{\n  \"name\": \"comparison\",\n  \"rows\": 6,\n  \"fields\": [\n    {\n      \"column\": \"Model\",\n      \"properties\": {\n        \"dtype\": \"string\",\n        \"num_unique_values\": 6,\n        \"samples\": [\n          \"Decision Tree\",\n          \"Random Forest\",\n          \"Logistic Regression\"\n        ],\n        \"semantic_type\": \"\",\n        \"description\": \"\"\n      }\n    },\n    {\n      \"column\": \"Accuracy\",\n      \"properties\": {\n        \"dtype\": \"number\",\n        \"std\": 4.312867149039894,\n        \"min\": 75.55555555555556,\n        \"max\": 86.66666666666667,\n        \"num_unique_values\": 5,\n        \"samples\": [\n          84.44444444444444,\n          75.55555555555556,\n          82.22222222222221\n        ],\n        \"semantic_type\": \"\",\n        \"description\": \"\"\n      }\n    }\n  ]\n}"
            }
          },
          "metadata": {},
          "execution_count": 70
        }
      ],
      "source": [
        "comparison = pd.DataFrame({'Model': ['Logistic Regression', 'K Neighbors', 'Decision Tree',\n",
        "                                  'Random Forest', 'Gradient Boost','XG Boost'],\n",
        "                        'Accuracy': [LRAcc*100, KNAcc*100, DTAcc*100,\n",
        "                                     RFAcc*100, GBAcc*100, XGAcc*100]})\n",
        "comparison.sort_values(by='Accuracy', ascending=False)"
      ]
    },
    {
      "cell_type": "markdown",
      "id": "8068e8bc",
      "metadata": {
        "id": "8068e8bc",
        "papermill": {
          "duration": 0.045394,
          "end_time": "2023-03-17T06:25:26.398183",
          "exception": false,
          "start_time": "2023-03-17T06:25:26.352789",
          "status": "completed"
        },
        "tags": []
      },
      "source": [
        "Going forward with random forest in order to calculate the y_pred for out test loan dataset."
      ]
    },
    {
      "cell_type": "code",
      "execution_count": null,
      "id": "47c9892c",
      "metadata": {
        "execution": {
          "iopub.execute_input": "2023-03-17T06:25:26.491523Z",
          "iopub.status.busy": "2023-03-17T06:25:26.490780Z",
          "iopub.status.idle": "2023-03-17T06:25:26.605375Z",
          "shell.execute_reply": "2023-03-17T06:25:26.604155Z"
        },
        "id": "47c9892c",
        "papermill": {
          "duration": 0.164478,
          "end_time": "2023-03-17T06:25:26.608154",
          "exception": false,
          "start_time": "2023-03-17T06:25:26.443676",
          "status": "completed"
        },
        "tags": []
      },
      "outputs": [],
      "source": [
        "y_pred = rfc.predict(test)"
      ]
    },
    {
      "cell_type": "code",
      "execution_count": null,
      "id": "8dfd9395",
      "metadata": {
        "execution": {
          "iopub.execute_input": "2023-03-17T06:25:26.702723Z",
          "iopub.status.busy": "2023-03-17T06:25:26.702291Z",
          "iopub.status.idle": "2023-03-17T06:25:26.709324Z",
          "shell.execute_reply": "2023-03-17T06:25:26.708269Z"
        },
        "id": "8dfd9395",
        "outputId": "3252c959-20d9-47eb-d4ec-807032757850",
        "papermill": {
          "duration": 0.057039,
          "end_time": "2023-03-17T06:25:26.711616",
          "exception": false,
          "start_time": "2023-03-17T06:25:26.654577",
          "status": "completed"
        },
        "tags": [],
        "colab": {
          "base_uri": "https://localhost:8080/"
        }
      },
      "outputs": [
        {
          "output_type": "execute_result",
          "data": {
            "text/plain": [
              "array([1, 0, 1, 1, 1, 1, 0, 1, 1, 1, 0, 1, 1, 1, 1, 1, 1, 1, 1, 1, 1, 1,\n",
              "       1, 1, 0, 1, 1, 1, 0, 1, 1, 1, 1, 1, 1, 1, 1, 1, 1, 1, 0, 1, 1, 1,\n",
              "       1, 1, 1, 1, 1, 1, 1, 1, 0, 1, 0, 1, 1, 1, 0, 1, 1, 1, 1, 1, 1, 1,\n",
              "       1, 1, 1, 1, 1, 1, 1, 1, 1, 1, 1, 0])"
            ]
          },
          "metadata": {},
          "execution_count": 72
        }
      ],
      "source": [
        "y_pred"
      ]
    },
    {
      "cell_type": "code",
      "source": [],
      "metadata": {
        "id": "67nfrToZs24L"
      },
      "id": "67nfrToZs24L",
      "execution_count": null,
      "outputs": []
    }
  ],
  "metadata": {
    "kernelspec": {
      "display_name": "Python 3",
      "language": "python",
      "name": "python3"
    },
    "language_info": {
      "codemirror_mode": {
        "name": "ipython",
        "version": 3
      },
      "file_extension": ".py",
      "mimetype": "text/x-python",
      "name": "python",
      "nbconvert_exporter": "python",
      "pygments_lexer": "ipython3",
      "version": "3.7.12"
    },
    "papermill": {
      "default_parameters": {},
      "duration": 86.719828,
      "end_time": "2023-03-17T06:25:27.672595",
      "environment_variables": {},
      "exception": null,
      "input_path": "__notebook__.ipynb",
      "output_path": "__notebook__.ipynb",
      "parameters": {},
      "start_time": "2023-03-17T06:24:00.952767",
      "version": "2.4.0"
    },
    "colab": {
      "provenance": []
    }
  },
  "nbformat": 4,
  "nbformat_minor": 5
}